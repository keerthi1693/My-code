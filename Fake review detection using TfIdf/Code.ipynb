{
 "cells": [
  {
   "cell_type": "code",
   "execution_count": 1,
   "metadata": {},
   "outputs": [],
   "source": [
    "import pandas as pd\n",
    "from sklearn.model_selection import train_test_split\n",
    "from sklearn.linear_model import LogisticRegression\n",
    "from sklearn.feature_extraction.text import CountVectorizer,TfidfVectorizer"
   ]
  },
  {
   "cell_type": "code",
   "execution_count": 30,
   "metadata": {},
   "outputs": [],
   "source": [
    "import pandas as pd\n",
    "train = pd.read_csv(\"C:/Users/keert/Desktop/Semester 2/ML/final/BP-Fakebook/Train_FB.csv\")"
   ]
  },
  {
   "cell_type": "code",
   "execution_count": 31,
   "metadata": {},
   "outputs": [
    {
     "data": {
      "text/plain": [
       "date       0\n",
       "title      0\n",
       "text     534\n",
       "type       0\n",
       "dtype: int64"
      ]
     },
     "execution_count": 31,
     "metadata": {},
     "output_type": "execute_result"
    }
   ],
   "source": [
    "train.isnull().sum()"
   ]
  },
  {
   "cell_type": "code",
   "execution_count": 32,
   "metadata": {},
   "outputs": [
    {
     "name": "stdout",
     "output_type": "stream",
     "text": [
      "(38000, 4)\n"
     ]
    }
   ],
   "source": [
    "print(train.shape)"
   ]
  },
  {
   "cell_type": "code",
   "execution_count": 33,
   "metadata": {},
   "outputs": [
    {
     "data": {
      "text/html": [
       "<div>\n",
       "<style scoped>\n",
       "    .dataframe tbody tr th:only-of-type {\n",
       "        vertical-align: middle;\n",
       "    }\n",
       "\n",
       "    .dataframe tbody tr th {\n",
       "        vertical-align: top;\n",
       "    }\n",
       "\n",
       "    .dataframe thead th {\n",
       "        text-align: right;\n",
       "    }\n",
       "</style>\n",
       "<table border=\"1\" class=\"dataframe\">\n",
       "  <thead>\n",
       "    <tr style=\"text-align: right;\">\n",
       "      <th></th>\n",
       "      <th>date</th>\n",
       "      <th>title</th>\n",
       "      <th>text</th>\n",
       "      <th>type</th>\n",
       "    </tr>\n",
       "  </thead>\n",
       "  <tbody>\n",
       "    <tr>\n",
       "      <td>0</td>\n",
       "      <td>2016-03-11</td>\n",
       "      <td>Governor extends Flint water emergency as stat...</td>\n",
       "      <td>WASHINGTON (Reuters) - Michigan Governor Rick ...</td>\n",
       "      <td>real</td>\n",
       "    </tr>\n",
       "    <tr>\n",
       "      <td>1</td>\n",
       "      <td>2017-10-09</td>\n",
       "      <td>DEMOCRATS CONVENIENTLY FORGET 6,000 Prisoners ...</td>\n",
       "      <td>Democrats are calling for President Trump s sc...</td>\n",
       "      <td>fake</td>\n",
       "    </tr>\n",
       "    <tr>\n",
       "      <td>2</td>\n",
       "      <td>2018-02-01</td>\n",
       "      <td>Mexico recognizes Honduran president as winner...</td>\n",
       "      <td>MEXICO CITY (Reuters) - Mexico recognized Hond...</td>\n",
       "      <td>real</td>\n",
       "    </tr>\n",
       "    <tr>\n",
       "      <td>3</td>\n",
       "      <td>2016-11-20</td>\n",
       "      <td>BOOM! Wikileaks Shows Hillary Speech To Banker...</td>\n",
       "      <td>No wonder she didn t want anyone to see her sp...</td>\n",
       "      <td>fake</td>\n",
       "    </tr>\n",
       "    <tr>\n",
       "      <td>4</td>\n",
       "      <td>2017-07-06</td>\n",
       "      <td>Paul Ryan says confident tax reform will pass ...</td>\n",
       "      <td>WASHINGTON (Reuters) - Republicans will be abl...</td>\n",
       "      <td>real</td>\n",
       "    </tr>\n",
       "  </tbody>\n",
       "</table>\n",
       "</div>"
      ],
      "text/plain": [
       "         date                                              title  \\\n",
       "0  2016-03-11  Governor extends Flint water emergency as stat...   \n",
       "1  2017-10-09  DEMOCRATS CONVENIENTLY FORGET 6,000 Prisoners ...   \n",
       "2  2018-02-01  Mexico recognizes Honduran president as winner...   \n",
       "3  2016-11-20  BOOM! Wikileaks Shows Hillary Speech To Banker...   \n",
       "4  2017-07-06  Paul Ryan says confident tax reform will pass ...   \n",
       "\n",
       "                                                text  type  \n",
       "0  WASHINGTON (Reuters) - Michigan Governor Rick ...  real  \n",
       "1  Democrats are calling for President Trump s sc...  fake  \n",
       "2  MEXICO CITY (Reuters) - Mexico recognized Hond...  real  \n",
       "3  No wonder she didn t want anyone to see her sp...  fake  \n",
       "4  WASHINGTON (Reuters) - Republicans will be abl...  real  "
      ]
     },
     "execution_count": 33,
     "metadata": {},
     "output_type": "execute_result"
    }
   ],
   "source": [
    "train.head()"
   ]
  },
  {
   "cell_type": "code",
   "execution_count": 34,
   "metadata": {},
   "outputs": [],
   "source": [
    "fake = train['type']=='fake'\n",
    "real = train['type']=='real'\n",
    "\n",
    "dist = pd.Series([len(fake)],index=['fake' ])\n",
    "\n",
    "dist['real'] = len(real)\n"
   ]
  },
  {
   "cell_type": "code",
   "execution_count": 9,
   "metadata": {},
   "outputs": [
    {
     "data": {
      "image/png": "[encoded data removed]",
      "text/plain": [
       "<Figure size 576x720 with 1 Axes>"
      ]
     },
     "metadata": {
      "needs_background": "light"
     },
     "output_type": "display_data"
    }
   ],
   "source": [
    "import matplotlib.pyplot as plt\n",
    "\n",
    "plt.figure(figsize=(8,10))\n",
    "\n",
    "dist.plot.bar()\n",
    "plt.xticks(rotation=0,fontsize=14)\n",
    "plt.yticks(rotation=0,fontsize=14)\n",
    "plt.title('Target Distribution')\n",
    "plt.show()"
   ]
  },
  {
   "cell_type": "code",
   "execution_count": 35,
   "metadata": {},
   "outputs": [
    {
     "data": {
      "text/html": [
       "<div>\n",
       "<style scoped>\n",
       "    .dataframe tbody tr th:only-of-type {\n",
       "        vertical-align: middle;\n",
       "    }\n",
       "\n",
       "    .dataframe tbody tr th {\n",
       "        vertical-align: top;\n",
       "    }\n",
       "\n",
       "    .dataframe thead th {\n",
       "        text-align: right;\n",
       "    }\n",
       "</style>\n",
       "<table border=\"1\" class=\"dataframe\">\n",
       "  <thead>\n",
       "    <tr style=\"text-align: right;\">\n",
       "      <th></th>\n",
       "      <th>text</th>\n",
       "      <th>type</th>\n",
       "      <th>Year</th>\n",
       "      <th>Month</th>\n",
       "      <th>Day</th>\n",
       "    </tr>\n",
       "  </thead>\n",
       "  <tbody>\n",
       "    <tr>\n",
       "      <td>0</td>\n",
       "      <td>WASHINGTON (Reuters) - Michigan Governor Rick ...</td>\n",
       "      <td>0</td>\n",
       "      <td>2016</td>\n",
       "      <td>03</td>\n",
       "      <td>11</td>\n",
       "    </tr>\n",
       "    <tr>\n",
       "      <td>1</td>\n",
       "      <td>Democrats are calling for President Trump s sc...</td>\n",
       "      <td>1</td>\n",
       "      <td>2017</td>\n",
       "      <td>10</td>\n",
       "      <td>09</td>\n",
       "    </tr>\n",
       "    <tr>\n",
       "      <td>2</td>\n",
       "      <td>MEXICO CITY (Reuters) - Mexico recognized Hond...</td>\n",
       "      <td>0</td>\n",
       "      <td>2018</td>\n",
       "      <td>02</td>\n",
       "      <td>01</td>\n",
       "    </tr>\n",
       "    <tr>\n",
       "      <td>3</td>\n",
       "      <td>No wonder she didn t want anyone to see her sp...</td>\n",
       "      <td>1</td>\n",
       "      <td>2016</td>\n",
       "      <td>11</td>\n",
       "      <td>20</td>\n",
       "    </tr>\n",
       "    <tr>\n",
       "      <td>4</td>\n",
       "      <td>WASHINGTON (Reuters) - Republicans will be abl...</td>\n",
       "      <td>0</td>\n",
       "      <td>2017</td>\n",
       "      <td>07</td>\n",
       "      <td>06</td>\n",
       "    </tr>\n",
       "  </tbody>\n",
       "</table>\n",
       "</div>"
      ],
      "text/plain": [
       "                                                text  type  Year Month Day\n",
       "0  WASHINGTON (Reuters) - Michigan Governor Rick ...     0  2016    03  11\n",
       "1  Democrats are calling for President Trump s sc...     1  2017    10  09\n",
       "2  MEXICO CITY (Reuters) - Mexico recognized Hond...     0  2018    02  01\n",
       "3  No wonder she didn t want anyone to see her sp...     1  2016    11  20\n",
       "4  WASHINGTON (Reuters) - Republicans will be abl...     0  2017    07  06"
      ]
     },
     "execution_count": 35,
     "metadata": {},
     "output_type": "execute_result"
    }
   ],
   "source": [
    "train['type'] = train['type'].map({'fake': 1, 'real': 0})\n",
    "train['Year']=[d.split('-')[0] for d in train.date]\n",
    "train['Month']=[d.split('-')[1] for d in train.date]\n",
    "train['Day']=[d.split('-')[2] for d in train.date]\n",
    "train = train.drop(columns = ['date','title'])\n",
    "train.head(5)"
   ]
  },
  {
   "cell_type": "code",
   "execution_count": 36,
   "metadata": {},
   "outputs": [],
   "source": [
    "train['text']= train['text'].apply(str)\n",
    "\n",
    "train['text']= train['text'].map(lambda x: x.lower())"
   ]
  },
  {
   "cell_type": "code",
   "execution_count": 37,
   "metadata": {},
   "outputs": [],
   "source": [
    "import string\n",
    "from nltk import pos_tag\n",
    "from nltk.corpus import stopwords\n",
    "from nltk.tokenize import WhitespaceTokenizer\n",
    "import re\n",
    "from nltk.tokenize import word_tokenize\n",
    "from nltk.stem.porter import PorterStemmer"
   ]
  },
  {
   "cell_type": "code",
   "execution_count": 38,
   "metadata": {},
   "outputs": [],
   "source": [
    "\n",
    "\n",
    "def preprocess(text):\n",
    "   # split into words\n",
    "    text = word_tokenize(text)\n",
    "    # convert to lower case\n",
    "    text= [w.lower() for w in text]\n",
    "    # remove punctuation from each word\n",
    "    table = str.maketrans('', '', string.punctuation)\n",
    "    text = [w.translate(table) for w in text]\n",
    "    # remove remaining tokens that are not alphabetic\n",
    "    text = [word for word in text if word.isalpha()]\n",
    "    # remove stop words\n",
    "    stop = stopwords.words('english')\n",
    "    text = [x for x in text if x not in stop]\n",
    "    text = \" \".join(text)\n",
    "    return(text)"
   ]
  },
  {
   "cell_type": "code",
   "execution_count": 39,
   "metadata": {},
   "outputs": [],
   "source": [
    "train['text'] = pd.DataFrame(train['text'].map(preprocess))"
   ]
  },
  {
   "cell_type": "code",
   "execution_count": 40,
   "metadata": {},
   "outputs": [
    {
     "data": {
      "text/html": [
       "<div>\n",
       "<style scoped>\n",
       "    .dataframe tbody tr th:only-of-type {\n",
       "        vertical-align: middle;\n",
       "    }\n",
       "\n",
       "    .dataframe tbody tr th {\n",
       "        vertical-align: top;\n",
       "    }\n",
       "\n",
       "    .dataframe thead th {\n",
       "        text-align: right;\n",
       "    }\n",
       "</style>\n",
       "<table border=\"1\" class=\"dataframe\">\n",
       "  <thead>\n",
       "    <tr style=\"text-align: right;\">\n",
       "      <th></th>\n",
       "      <th>text</th>\n",
       "      <th>type</th>\n",
       "      <th>Year</th>\n",
       "      <th>Month</th>\n",
       "      <th>Day</th>\n",
       "    </tr>\n",
       "  </thead>\n",
       "  <tbody>\n",
       "    <tr>\n",
       "      <td>0</td>\n",
       "      <td>washington reuters michigan governor rick snyd...</td>\n",
       "      <td>0</td>\n",
       "      <td>2016</td>\n",
       "      <td>03</td>\n",
       "      <td>11</td>\n",
       "    </tr>\n",
       "    <tr>\n",
       "      <td>1</td>\n",
       "      <td>democrats calling president trump scalp pardon...</td>\n",
       "      <td>1</td>\n",
       "      <td>2017</td>\n",
       "      <td>10</td>\n",
       "      <td>09</td>\n",
       "    </tr>\n",
       "    <tr>\n",
       "      <td>2</td>\n",
       "      <td>mexico city reuters mexico recognized honduran...</td>\n",
       "      <td>0</td>\n",
       "      <td>2018</td>\n",
       "      <td>02</td>\n",
       "      <td>01</td>\n",
       "    </tr>\n",
       "    <tr>\n",
       "      <td>3</td>\n",
       "      <td>wonder want anyone see speeches singing praise...</td>\n",
       "      <td>1</td>\n",
       "      <td>2016</td>\n",
       "      <td>11</td>\n",
       "      <td>20</td>\n",
       "    </tr>\n",
       "    <tr>\n",
       "      <td>4</td>\n",
       "      <td>washington reuters republicans able push tax r...</td>\n",
       "      <td>0</td>\n",
       "      <td>2017</td>\n",
       "      <td>07</td>\n",
       "      <td>06</td>\n",
       "    </tr>\n",
       "  </tbody>\n",
       "</table>\n",
       "</div>"
      ],
      "text/plain": [
       "                                                text  type  Year Month Day\n",
       "0  washington reuters michigan governor rick snyd...     0  2016    03  11\n",
       "1  democrats calling president trump scalp pardon...     1  2017    10  09\n",
       "2  mexico city reuters mexico recognized honduran...     0  2018    02  01\n",
       "3  wonder want anyone see speeches singing praise...     1  2016    11  20\n",
       "4  washington reuters republicans able push tax r...     0  2017    07  06"
      ]
     },
     "execution_count": 40,
     "metadata": {},
     "output_type": "execute_result"
    }
   ],
   "source": [
    "train.head()"
   ]
  },
  {
   "cell_type": "code",
   "execution_count": 33,
   "metadata": {},
   "outputs": [
    {
     "data": {
      "text/plain": [
       "1    19332\n",
       "0    18134\n",
       "Name: type, dtype: int64"
      ]
     },
     "execution_count": 33,
     "metadata": {},
     "output_type": "execute_result"
    }
   ],
   "source": [
    "train.type.value_counts()"
   ]
  },
  {
   "cell_type": "code",
   "execution_count": 8,
   "metadata": {},
   "outputs": [],
   "source": [
    "#For train\n",
    "# tfidf_vectorizer=TfidfVectorizer(use_idf=True, max_df=0.95)\n",
    "# tfidf_vectorizer.fit_transform(train['text'].values)\n",
    "# X_train=tfidf_vectorizer.transform(train['text'].values)\n",
    "\n",
    "# #For test\n",
    "# tfidf_vectorizer.fit_transform(test['text'].values)\n",
    "# X_test=tfidf_vectorizer.transform(test['text'].values)"
   ]
  },
  {
   "cell_type": "code",
   "execution_count": null,
   "metadata": {},
   "outputs": [],
   "source": [
    "#For test\n",
    "# tfidf_vectorizer=TfidfVectorizer(use_idf=True, max_df=0.95)\n",
    "# tfidf_vectorizer.fit_transform(X_train['text'].values)\n",
    "# train=tfidf_vectorizer.transform(X_train['text'].values)"
   ]
  },
  {
   "cell_type": "code",
   "execution_count": 41,
   "metadata": {},
   "outputs": [],
   "source": [
    "def extract_features(traindata,field,training_data,testing_data,type=\"binary\"):\n",
    "    tfidf_vectorizer=TfidfVectorizer(use_idf=True, max_df=0.95)\n",
    "    tfidf_vectorizer.fit_transform(training_data[field].values)\n",
    "    train_feature_set=tfidf_vectorizer.transform(training_data[field].values)\n",
    "    test_feature_set=tfidf_vectorizer.transform(testing_data[field].values)\n",
    "        \n",
    "    return train_feature_set,test_feature_set,tfidf_vectorizer          "
   ]
  },
  {
   "cell_type": "code",
   "execution_count": 42,
   "metadata": {},
   "outputs": [],
   "source": [
    "# # GET A TRAIN TEST SPLIT (set seed for consistent results)\n",
    "# training_data = train\n",
    "# testing_data = test\n",
    "\n",
    "# # GET LABELS\n",
    "# Y_train=train['type'].values\n",
    "# traindata = train.drop(columns=['type'])\n",
    "\n",
    "# # GET FEATURES\n",
    "# X_train,X_test,feature_transformer=extract_features(traindata,'text',training_data,testing_data)"
   ]
  },
  {
   "cell_type": "code",
   "execution_count": 43,
   "metadata": {},
   "outputs": [],
   "source": [
    "# GET A TRAIN TEST SPLIT (set seed for consistent results)\n",
    "training_data, testing_data = train_test_split(train,random_state = 2000)\n",
    "\n",
    "# GET LABELS\n",
    "Y_train=training_data['type'].values\n",
    "Y_test=testing_data['type'].values\n",
    "traindata = train.drop(columns=['type'])\n",
    "\n",
    "# GET FEATURES\n",
    "X_train,X_test,feature_transformer=extract_features(traindata,'text',training_data,testing_data)"
   ]
  },
  {
   "cell_type": "code",
   "execution_count": 77,
   "metadata": {},
   "outputs": [
    {
     "data": {
      "text/html": [
       "<div>\n",
       "<style scoped>\n",
       "    .dataframe tbody tr th:only-of-type {\n",
       "        vertical-align: middle;\n",
       "    }\n",
       "\n",
       "    .dataframe tbody tr th {\n",
       "        vertical-align: top;\n",
       "    }\n",
       "\n",
       "    .dataframe thead th {\n",
       "        text-align: right;\n",
       "    }\n",
       "</style>\n",
       "<table border=\"1\" class=\"dataframe\">\n",
       "  <thead>\n",
       "    <tr style=\"text-align: right;\">\n",
       "      <th></th>\n",
       "      <th>text</th>\n",
       "      <th>type</th>\n",
       "      <th>Year</th>\n",
       "      <th>Month</th>\n",
       "      <th>Day</th>\n",
       "    </tr>\n",
       "  </thead>\n",
       "  <tbody>\n",
       "    <tr>\n",
       "      <td>8074</td>\n",
       "      <td>washington reuters outgoing president barack o...</td>\n",
       "      <td>0</td>\n",
       "      <td>2017</td>\n",
       "      <td>02</td>\n",
       "      <td>25</td>\n",
       "    </tr>\n",
       "    <tr>\n",
       "      <td>11514</td>\n",
       "      <td>nan</td>\n",
       "      <td>1</td>\n",
       "      <td>2016</td>\n",
       "      <td>12</td>\n",
       "      <td>28</td>\n",
       "    </tr>\n",
       "    <tr>\n",
       "      <td>21686</td>\n",
       "      <td>republican senator found tough position trappe...</td>\n",
       "      <td>1</td>\n",
       "      <td>2017</td>\n",
       "      <td>05</td>\n",
       "      <td>06</td>\n",
       "    </tr>\n",
       "    <tr>\n",
       "      <td>34585</td>\n",
       "      <td>media done taking donald trump constant abusea...</td>\n",
       "      <td>1</td>\n",
       "      <td>2017</td>\n",
       "      <td>03</td>\n",
       "      <td>28</td>\n",
       "    </tr>\n",
       "    <tr>\n",
       "      <td>13757</td>\n",
       "      <td>since article written illegal immigration cris...</td>\n",
       "      <td>1</td>\n",
       "      <td>2016</td>\n",
       "      <td>04</td>\n",
       "      <td>02</td>\n",
       "    </tr>\n",
       "  </tbody>\n",
       "</table>\n",
       "</div>"
      ],
      "text/plain": [
       "                                                    text  type  Year Month Day\n",
       "8074   washington reuters outgoing president barack o...     0  2017    02  25\n",
       "11514                                                nan     1  2016    12  28\n",
       "21686  republican senator found tough position trappe...     1  2017    05  06\n",
       "34585  media done taking donald trump constant abusea...     1  2017    03  28\n",
       "13757  since article written illegal immigration cris...     1  2016    04  02"
      ]
     },
     "execution_count": 77,
     "metadata": {},
     "output_type": "execute_result"
    }
   ],
   "source": [
    "training_data.head()"
   ]
  },
  {
   "cell_type": "code",
   "execution_count": 78,
   "metadata": {},
   "outputs": [
    {
     "data": {
      "text/plain": [
       "<28500x151319 sparse matrix of type '<class 'numpy.float64'>'\n",
       "\twith 4592133 stored elements in Compressed Sparse Row format>"
      ]
     },
     "execution_count": 78,
     "metadata": {},
     "output_type": "execute_result"
    }
   ],
   "source": [
    "# 28099x101331 == X_train\n",
    "# 9367x101331 == X_test\n",
    "X_train"
   ]
  },
  {
   "cell_type": "code",
   "execution_count": 29,
   "metadata": {},
   "outputs": [
    {
     "name": "stdout",
     "output_type": "stream",
     "text": [
      "(37466, 5)\n",
      "(2961, 4)\n"
     ]
    }
   ],
   "source": [
    "print(training_data.shape)\n",
    "print(testing_data.shape)"
   ]
  },
  {
   "cell_type": "code",
   "execution_count": 49,
   "metadata": {},
   "outputs": [
    {
     "name": "stdout",
     "output_type": "stream",
     "text": [
      "(28099,)\n",
      "(9367,)\n",
      "(28099, 101331)\n",
      "(9367, 101331)\n"
     ]
    }
   ],
   "source": [
    "print(Y_train.shape)\n",
    "print(Y_test.shape)\n",
    "print(X_train.shape)\n",
    "print(X_test.shape)"
   ]
  },
  {
   "cell_type": "code",
   "execution_count": 31,
   "metadata": {},
   "outputs": [
    {
     "data": {
      "text/plain": [
       "<37466x114177 sparse matrix of type '<class 'numpy.float64'>'\n",
       "\twith 7859434 stored elements in Compressed Sparse Row format>"
      ]
     },
     "execution_count": 31,
     "metadata": {},
     "output_type": "execute_result"
    }
   ],
   "source": [
    "X_train"
   ]
  },
  {
   "cell_type": "code",
   "execution_count": 32,
   "metadata": {},
   "outputs": [
    {
     "data": {
      "text/plain": [
       "<2961x114177 sparse matrix of type '<class 'numpy.float64'>'\n",
       "\twith 614351 stored elements in Compressed Sparse Row format>"
      ]
     },
     "execution_count": 32,
     "metadata": {},
     "output_type": "execute_result"
    }
   ],
   "source": [
    "X_test"
   ]
  },
  {
   "cell_type": "markdown",
   "metadata": {},
   "source": [
    "# Logistic Regression"
   ]
  },
  {
   "cell_type": "code",
   "execution_count": 79,
   "metadata": {},
   "outputs": [
    {
     "name": "stdout",
     "output_type": "stream",
     "text": [
      "[LibLinear]"
     ]
    },
    {
     "data": {
      "text/plain": [
       "LogisticRegression(C=5, class_weight=None, dual=False, fit_intercept=True,\n",
       "                   intercept_scaling=1, l1_ratio=None, max_iter=1000,\n",
       "                   multi_class='warn', n_jobs=None, penalty='l2',\n",
       "                   random_state=0, solver='liblinear', tol=0.0001, verbose=1,\n",
       "                   warm_start=False)"
      ]
     },
     "execution_count": 79,
     "metadata": {},
     "output_type": "execute_result"
    }
   ],
   "source": [
    "logreg = LogisticRegression(verbose=1, solver='liblinear',random_state=0, C=5, penalty='l2',max_iter=1000)\n",
    "logreg.fit(X_train,Y_train)"
   ]
  },
  {
   "cell_type": "code",
   "execution_count": 80,
   "metadata": {},
   "outputs": [],
   "source": [
    "y_pred=logreg.predict(X_test)"
   ]
  },
  {
   "cell_type": "code",
   "execution_count": 81,
   "metadata": {},
   "outputs": [
    {
     "data": {
      "text/plain": [
       "array([[4533,   36],\n",
       "       [  41, 4890]], dtype=int64)"
      ]
     },
     "execution_count": 81,
     "metadata": {},
     "output_type": "execute_result"
    }
   ],
   "source": [
    "#CM\n",
    "\n",
    "from sklearn import metrics\n",
    "cnf_matrix = metrics.confusion_matrix(Y_test, y_pred)\n",
    "cnf_matrix"
   ]
  },
  {
   "cell_type": "code",
   "execution_count": 82,
   "metadata": {},
   "outputs": [
    {
     "name": "stdout",
     "output_type": "stream",
     "text": [
      "Accuracy: 0.9918947368421053\n",
      "Precision: 0.9926918392204629\n",
      "Recall: 0.9916852565402555\n"
     ]
    }
   ],
   "source": [
    "from sklearn.metrics import accuracy_score\n",
    "\n",
    "print(\"Accuracy:\",metrics.accuracy_score(Y_test, y_pred))\n",
    "print(\"Precision:\",metrics.precision_score(Y_test, y_pred))\n",
    "print(\"Recall:\",metrics.recall_score(Y_test, y_pred))\n"
   ]
  },
  {
   "cell_type": "code",
   "execution_count": 83,
   "metadata": {},
   "outputs": [
    {
     "data": {
      "text/plain": [
       "<Figure size 640x480 with 1 Axes>"
      ]
     },
     "metadata": {},
     "output_type": "display_data"
    }
   ],
   "source": [
    "import matplotlib.pyplot as plt\n",
    "\n",
    "y_pred_proba = logreg.predict_proba(X_test)[::,1]\n",
    "fpr, tpr, _ = metrics.roc_curve(Y_test,  y_pred_proba)\n",
    "auc = metrics.roc_auc_score(Y_test, y_pred_proba)\n",
    "plt.plot(fpr,tpr,label=\"data 1, auc=\"+str(auc))\n",
    "plt.legend(loc=4)\n",
    "plt.show()"
   ]
  },
  {
   "cell_type": "markdown",
   "metadata": {},
   "source": [
    "# Random forest"
   ]
  },
  {
   "cell_type": "code",
   "execution_count": 84,
   "metadata": {},
   "outputs": [
    {
     "name": "stderr",
     "output_type": "stream",
     "text": [
      "C:\\Users\\keert\\Anaconda3\\lib\\site-packages\\sklearn\\ensemble\\forest.py:245: FutureWarning: The default value of n_estimators will change from 10 in version 0.20 to 100 in 0.22.\n",
      "  \"10 in version 0.20 to 100 in 0.22.\", FutureWarning)\n"
     ]
    }
   ],
   "source": [
    "from sklearn.ensemble import RandomForestClassifier\n",
    "rf = RandomForestClassifier()\n",
    "rf.fit(X_train,Y_train)\n",
    "\n",
    "y_pred = rf.predict(X_test)"
   ]
  },
  {
   "cell_type": "code",
   "execution_count": 85,
   "metadata": {},
   "outputs": [
    {
     "data": {
      "text/plain": [
       "array([[4466,  103],\n",
       "       [ 255, 4676]], dtype=int64)"
      ]
     },
     "execution_count": 85,
     "metadata": {},
     "output_type": "execute_result"
    }
   ],
   "source": [
    "#CM\n",
    "\n",
    "from sklearn import metrics\n",
    "cnf_matrix = metrics.confusion_matrix(Y_test, y_pred)\n",
    "cnf_matrix"
   ]
  },
  {
   "cell_type": "code",
   "execution_count": 86,
   "metadata": {},
   "outputs": [
    {
     "name": "stdout",
     "output_type": "stream",
     "text": [
      "Accuracy: 0.9623157894736842\n",
      "Precision: 0.9784473739276\n",
      "Recall: 0.9482863516528087\n"
     ]
    }
   ],
   "source": [
    "from sklearn.metrics import accuracy_score\n",
    "\n",
    "print(\"Accuracy:\",metrics.accuracy_score(Y_test, y_pred))\n",
    "print(\"Precision:\",metrics.precision_score(Y_test, y_pred))\n",
    "print(\"Recall:\",metrics.recall_score(Y_test, y_pred))"
   ]
  },
  {
   "cell_type": "markdown",
   "metadata": {},
   "source": [
    "# Voting Classifier"
   ]
  },
  {
   "cell_type": "code",
   "execution_count": 97,
   "metadata": {},
   "outputs": [
    {
     "name": "stdout",
     "output_type": "stream",
     "text": [
      "[LibLinear]"
     ]
    }
   ],
   "source": [
    "from sklearn.ensemble import VotingClassifier\n",
    "vreg = VotingClassifier([('logisticReg', logreg), ('RandomForest', rf),('SVM', svc)])\n",
    "vreg.fit(X_train,Y_train)\n",
    "\n",
    "y_pred = vreg.predict(X_test)"
   ]
  },
  {
   "cell_type": "code",
   "execution_count": 98,
   "metadata": {},
   "outputs": [
    {
     "data": {
      "text/plain": [
       "array([[4543,   26],\n",
       "       [  29, 4902]], dtype=int64)"
      ]
     },
     "execution_count": 98,
     "metadata": {},
     "output_type": "execute_result"
    }
   ],
   "source": [
    "from sklearn import metrics\n",
    "cnf_matrix = metrics.confusion_matrix(Y_test, y_pred)\n",
    "cnf_matrix"
   ]
  },
  {
   "cell_type": "code",
   "execution_count": 99,
   "metadata": {},
   "outputs": [
    {
     "name": "stdout",
     "output_type": "stream",
     "text": [
      "Accuracy: 0.9942105263157894\n",
      "Precision: 0.994724025974026\n",
      "Recall: 0.9941188399918881\n"
     ]
    }
   ],
   "source": [
    "from sklearn.metrics import accuracy_score\n",
    "\n",
    "print(\"Accuracy:\",metrics.accuracy_score(Y_test, y_pred))\n",
    "print(\"Precision:\",metrics.precision_score(Y_test, y_pred))\n",
    "print(\"Recall:\",metrics.recall_score(Y_test, y_pred))"
   ]
  },
  {
   "cell_type": "markdown",
   "metadata": {},
   "source": [
    "# SVM"
   ]
  },
  {
   "cell_type": "code",
   "execution_count": 96,
   "metadata": {},
   "outputs": [],
   "source": [
    "from sklearn.svm import LinearSVC\n",
    "svc = LinearSVC()\n",
    "svc.fit(X_train, Y_train)\n",
    "y_pred = svc.predict(X_test)\n"
   ]
  },
  {
   "cell_type": "code",
   "execution_count": 88,
   "metadata": {},
   "outputs": [
    {
     "data": {
      "text/plain": [
       "array([[4548,   21],\n",
       "       [  29, 4902]], dtype=int64)"
      ]
     },
     "execution_count": 88,
     "metadata": {},
     "output_type": "execute_result"
    }
   ],
   "source": [
    "#CM\n",
    "\n",
    "from sklearn import metrics\n",
    "cnf_matrix = metrics.confusion_matrix(Y_test, y_pred)\n",
    "cnf_matrix"
   ]
  },
  {
   "cell_type": "code",
   "execution_count": 89,
   "metadata": {},
   "outputs": [
    {
     "name": "stdout",
     "output_type": "stream",
     "text": [
      "Accuracy: 0.9947368421052631\n",
      "Precision: 0.9957343083485679\n",
      "Recall: 0.9941188399918881\n"
     ]
    }
   ],
   "source": [
    "print(\"Accuracy:\",metrics.accuracy_score(Y_test, y_pred))\n",
    "print(\"Precision:\",metrics.precision_score(Y_test, y_pred))\n",
    "print(\"Recall:\",metrics.recall_score(Y_test, y_pred))"
   ]
  },
  {
   "cell_type": "code",
   "execution_count": null,
   "metadata": {},
   "outputs": [],
   "source": []
  },
  {
   "cell_type": "markdown",
   "metadata": {},
   "source": [
    "# TEST FILE CODE"
   ]
  },
  {
   "cell_type": "code",
   "execution_count": 45,
   "metadata": {},
   "outputs": [],
   "source": [
    "train = pd.read_csv(\"C:/Users/keert/Desktop/Semester 2/ML/final/BP-Fakebook/Train_FB.csv\")\n",
    "test = pd.read_csv(\"C:/Users/keert/Desktop/Semester 2/ML/final/BP-Fakebook/Test_FB.csv\")"
   ]
  },
  {
   "cell_type": "code",
   "execution_count": 46,
   "metadata": {},
   "outputs": [
    {
     "data": {
      "text/html": [
       "<div>\n",
       "<style scoped>\n",
       "    .dataframe tbody tr th:only-of-type {\n",
       "        vertical-align: middle;\n",
       "    }\n",
       "\n",
       "    .dataframe tbody tr th {\n",
       "        vertical-align: top;\n",
       "    }\n",
       "\n",
       "    .dataframe thead th {\n",
       "        text-align: right;\n",
       "    }\n",
       "</style>\n",
       "<table border=\"1\" class=\"dataframe\">\n",
       "  <thead>\n",
       "    <tr style=\"text-align: right;\">\n",
       "      <th></th>\n",
       "      <th>text</th>\n",
       "      <th>type</th>\n",
       "      <th>Year</th>\n",
       "      <th>Month</th>\n",
       "      <th>Day</th>\n",
       "    </tr>\n",
       "  </thead>\n",
       "  <tbody>\n",
       "    <tr>\n",
       "      <td>0</td>\n",
       "      <td>WASHINGTON (Reuters) - Michigan Governor Rick ...</td>\n",
       "      <td>0</td>\n",
       "      <td>2016</td>\n",
       "      <td>03</td>\n",
       "      <td>11</td>\n",
       "    </tr>\n",
       "    <tr>\n",
       "      <td>1</td>\n",
       "      <td>Democrats are calling for President Trump s sc...</td>\n",
       "      <td>1</td>\n",
       "      <td>2017</td>\n",
       "      <td>10</td>\n",
       "      <td>09</td>\n",
       "    </tr>\n",
       "    <tr>\n",
       "      <td>2</td>\n",
       "      <td>MEXICO CITY (Reuters) - Mexico recognized Hond...</td>\n",
       "      <td>0</td>\n",
       "      <td>2018</td>\n",
       "      <td>02</td>\n",
       "      <td>01</td>\n",
       "    </tr>\n",
       "    <tr>\n",
       "      <td>3</td>\n",
       "      <td>No wonder she didn t want anyone to see her sp...</td>\n",
       "      <td>1</td>\n",
       "      <td>2016</td>\n",
       "      <td>11</td>\n",
       "      <td>20</td>\n",
       "    </tr>\n",
       "    <tr>\n",
       "      <td>4</td>\n",
       "      <td>WASHINGTON (Reuters) - Republicans will be abl...</td>\n",
       "      <td>0</td>\n",
       "      <td>2017</td>\n",
       "      <td>07</td>\n",
       "      <td>06</td>\n",
       "    </tr>\n",
       "  </tbody>\n",
       "</table>\n",
       "</div>"
      ],
      "text/plain": [
       "                                                text  type  Year Month Day\n",
       "0  WASHINGTON (Reuters) - Michigan Governor Rick ...     0  2016    03  11\n",
       "1  Democrats are calling for President Trump s sc...     1  2017    10  09\n",
       "2  MEXICO CITY (Reuters) - Mexico recognized Hond...     0  2018    02  01\n",
       "3  No wonder she didn t want anyone to see her sp...     1  2016    11  20\n",
       "4  WASHINGTON (Reuters) - Republicans will be abl...     0  2017    07  06"
      ]
     },
     "execution_count": 46,
     "metadata": {},
     "output_type": "execute_result"
    }
   ],
   "source": [
    "train['type'] = train['type'].map({'fake': 1, 'real': 0})\n",
    "train['Year']=[d.split('-')[0] for d in train.date]\n",
    "train['Month']=[d.split('-')[1] for d in train.date]\n",
    "train['Day']=[d.split('-')[2] for d in train.date]\n",
    "train = train.drop(columns = ['date','title'])\n",
    "train.head(5)"
   ]
  },
  {
   "cell_type": "code",
   "execution_count": 47,
   "metadata": {},
   "outputs": [
    {
     "data": {
      "text/html": [
       "<div>\n",
       "<style scoped>\n",
       "    .dataframe tbody tr th:only-of-type {\n",
       "        vertical-align: middle;\n",
       "    }\n",
       "\n",
       "    .dataframe tbody tr th {\n",
       "        vertical-align: top;\n",
       "    }\n",
       "\n",
       "    .dataframe thead th {\n",
       "        text-align: right;\n",
       "    }\n",
       "</style>\n",
       "<table border=\"1\" class=\"dataframe\">\n",
       "  <thead>\n",
       "    <tr style=\"text-align: right;\">\n",
       "      <th></th>\n",
       "      <th>text</th>\n",
       "      <th>Year</th>\n",
       "      <th>Month</th>\n",
       "      <th>Day</th>\n",
       "    </tr>\n",
       "  </thead>\n",
       "  <tbody>\n",
       "    <tr>\n",
       "      <td>0</td>\n",
       "      <td>TOKYO (Reuters) - The Kremlin said on Friday t...</td>\n",
       "      <td>2017</td>\n",
       "      <td>01</td>\n",
       "      <td>28</td>\n",
       "    </tr>\n",
       "    <tr>\n",
       "      <td>1</td>\n",
       "      <td>Why couldn t the parents be notified of his de...</td>\n",
       "      <td>2015</td>\n",
       "      <td>06</td>\n",
       "      <td>07</td>\n",
       "    </tr>\n",
       "    <tr>\n",
       "      <td>2</td>\n",
       "      <td>Amateur president Donald Trump left his chair ...</td>\n",
       "      <td>2017</td>\n",
       "      <td>09</td>\n",
       "      <td>01</td>\n",
       "    </tr>\n",
       "    <tr>\n",
       "      <td>3</td>\n",
       "      <td>NEW YORK (Reuters) - The Federal Bureau of Inv...</td>\n",
       "      <td>2016</td>\n",
       "      <td>08</td>\n",
       "      <td>14</td>\n",
       "    </tr>\n",
       "    <tr>\n",
       "      <td>4</td>\n",
       "      <td>(Reuters) - U.S. Democratic presidential candi...</td>\n",
       "      <td>2016</td>\n",
       "      <td>12</td>\n",
       "      <td>08</td>\n",
       "    </tr>\n",
       "  </tbody>\n",
       "</table>\n",
       "</div>"
      ],
      "text/plain": [
       "                                                text  Year Month Day\n",
       "0  TOKYO (Reuters) - The Kremlin said on Friday t...  2017    01  28\n",
       "1  Why couldn t the parents be notified of his de...  2015    06  07\n",
       "2  Amateur president Donald Trump left his chair ...  2017    09  01\n",
       "3  NEW YORK (Reuters) - The Federal Bureau of Inv...  2016    08  14\n",
       "4  (Reuters) - U.S. Democratic presidential candi...  2016    12  08"
      ]
     },
     "execution_count": 47,
     "metadata": {},
     "output_type": "execute_result"
    }
   ],
   "source": [
    "test['Year']=[d.split('-')[0] for d in test.date]\n",
    "test['Month']=[d.split('-')[1] for d in test.date]\n",
    "test['Day']=[d.split('-')[2] for d in test.date]\n",
    "test = test.drop(columns = ['date','title'])\n",
    "test.head(5)"
   ]
  },
  {
   "cell_type": "code",
   "execution_count": 48,
   "metadata": {},
   "outputs": [],
   "source": [
    "train['text']= train['text'].apply(str)\n",
    "train['text']= train['text'].map(lambda x: x.lower())\n",
    "\n",
    "test['text']= test['text'].apply(str)\n",
    "test['text']= test['text'].map(lambda x: x.lower())"
   ]
  },
  {
   "cell_type": "code",
   "execution_count": 49,
   "metadata": {},
   "outputs": [],
   "source": [
    "train['text'] = pd.DataFrame(train['text'].map(preprocess))\n",
    "\n",
    "test['text'] = pd.DataFrame(test['text'].map(preprocess))"
   ]
  },
  {
   "cell_type": "code",
   "execution_count": 50,
   "metadata": {},
   "outputs": [],
   "source": [
    "def extract_features(traindata,field,training_data,testing_data,type=\"binary\"):\n",
    "    tfidf_vectorizer=TfidfVectorizer(use_idf=True, max_df=0.95)\n",
    "    tfidf_vectorizer.fit_transform(training_data[field].values)\n",
    "    train_feature_set=tfidf_vectorizer.transform(training_data[field].values)\n",
    "    test_feature_set=tfidf_vectorizer.transform(testing_data[field].values)\n",
    "        \n",
    "    return train_feature_set,test_feature_set,tfidf_vectorizer          "
   ]
  },
  {
   "cell_type": "code",
   "execution_count": 51,
   "metadata": {},
   "outputs": [],
   "source": [
    "# GET A TRAIN TEST SPLIT (set seed for consistent results)\n",
    "training_data = train\n",
    "testing_data = test\n",
    "\n",
    "# GET LABELS\n",
    "Y_train=train['type'].values\n",
    "traindata = train.drop(columns=['type'])\n",
    "\n",
    "# GET FEATURES\n",
    "X_train,X_test,feature_transformer=extract_features(traindata,'text',training_data,testing_data)"
   ]
  },
  {
   "cell_type": "markdown",
   "metadata": {},
   "source": [
    "# LOGISTIC REGRESSION"
   ]
  },
  {
   "cell_type": "code",
   "execution_count": 52,
   "metadata": {},
   "outputs": [
    {
     "name": "stdout",
     "output_type": "stream",
     "text": [
      "[LibLinear]"
     ]
    },
    {
     "data": {
      "text/plain": [
       "LogisticRegression(C=5, class_weight=None, dual=False, fit_intercept=True,\n",
       "                   intercept_scaling=1, l1_ratio=None, max_iter=1000,\n",
       "                   multi_class='warn', n_jobs=None, penalty='l2',\n",
       "                   random_state=0, solver='liblinear', tol=0.0001, verbose=1,\n",
       "                   warm_start=False)"
      ]
     },
     "execution_count": 52,
     "metadata": {},
     "output_type": "execute_result"
    }
   ],
   "source": [
    "logreg = LogisticRegression(verbose=1, solver='liblinear',random_state=0, C=5, penalty='l2',max_iter=1000)\n",
    "logreg.fit(X_train,Y_train)"
   ]
  },
  {
   "cell_type": "markdown",
   "metadata": {},
   "source": [
    "# RANDOM FOREST"
   ]
  },
  {
   "cell_type": "code",
   "execution_count": 53,
   "metadata": {},
   "outputs": [
    {
     "name": "stderr",
     "output_type": "stream",
     "text": [
      "C:\\Users\\keert\\Anaconda3\\lib\\site-packages\\sklearn\\ensemble\\forest.py:245: FutureWarning: The default value of n_estimators will change from 10 in version 0.20 to 100 in 0.22.\n",
      "  \"10 in version 0.20 to 100 in 0.22.\", FutureWarning)\n"
     ]
    },
    {
     "data": {
      "text/plain": [
       "RandomForestClassifier(bootstrap=True, class_weight=None, criterion='gini',\n",
       "                       max_depth=None, max_features='auto', max_leaf_nodes=None,\n",
       "                       min_impurity_decrease=0.0, min_impurity_split=None,\n",
       "                       min_samples_leaf=1, min_samples_split=2,\n",
       "                       min_weight_fraction_leaf=0.0, n_estimators=10,\n",
       "                       n_jobs=None, oob_score=False, random_state=None,\n",
       "                       verbose=0, warm_start=False)"
      ]
     },
     "execution_count": 53,
     "metadata": {},
     "output_type": "execute_result"
    }
   ],
   "source": [
    "from sklearn.ensemble import RandomForestClassifier\n",
    "rf = RandomForestClassifier()\n",
    "rf.fit(X_train,Y_train)\n"
   ]
  },
  {
   "cell_type": "markdown",
   "metadata": {},
   "source": [
    "# SVM"
   ]
  },
  {
   "cell_type": "code",
   "execution_count": 54,
   "metadata": {},
   "outputs": [
    {
     "data": {
      "text/plain": [
       "LinearSVC(C=1.0, class_weight=None, dual=True, fit_intercept=True,\n",
       "          intercept_scaling=1, loss='squared_hinge', max_iter=1000,\n",
       "          multi_class='ovr', penalty='l2', random_state=None, tol=0.0001,\n",
       "          verbose=0)"
      ]
     },
     "execution_count": 54,
     "metadata": {},
     "output_type": "execute_result"
    }
   ],
   "source": [
    "from sklearn.svm import LinearSVC\n",
    "svc = LinearSVC()\n",
    "svc.fit(X_train, Y_train)"
   ]
  },
  {
   "cell_type": "markdown",
   "metadata": {},
   "source": [
    "# VOTING CLASSIFIER"
   ]
  },
  {
   "cell_type": "code",
   "execution_count": 55,
   "metadata": {},
   "outputs": [
    {
     "name": "stdout",
     "output_type": "stream",
     "text": [
      "[LibLinear]"
     ]
    }
   ],
   "source": [
    "from sklearn.ensemble import VotingClassifier\n",
    "vreg = VotingClassifier([('logisticReg', logreg), ('RandomForest', rf), ('SVM', svc)])\n",
    "vreg.fit(X_train,Y_train)\n",
    "\n",
    "y_pred = vreg.predict(X_test)"
   ]
  },
  {
   "cell_type": "code",
   "execution_count": 56,
   "metadata": {},
   "outputs": [
    {
     "data": {
      "text/html": [
       "<div>\n",
       "<style scoped>\n",
       "    .dataframe tbody tr th:only-of-type {\n",
       "        vertical-align: middle;\n",
       "    }\n",
       "\n",
       "    .dataframe tbody tr th {\n",
       "        vertical-align: top;\n",
       "    }\n",
       "\n",
       "    .dataframe thead th {\n",
       "        text-align: right;\n",
       "    }\n",
       "</style>\n",
       "<table border=\"1\" class=\"dataframe\">\n",
       "  <thead>\n",
       "    <tr style=\"text-align: right;\">\n",
       "      <th></th>\n",
       "      <th>type</th>\n",
       "    </tr>\n",
       "  </thead>\n",
       "  <tbody>\n",
       "    <tr>\n",
       "      <td>0</td>\n",
       "      <td>real</td>\n",
       "    </tr>\n",
       "    <tr>\n",
       "      <td>1</td>\n",
       "      <td>fake</td>\n",
       "    </tr>\n",
       "    <tr>\n",
       "      <td>2</td>\n",
       "      <td>fake</td>\n",
       "    </tr>\n",
       "    <tr>\n",
       "      <td>3</td>\n",
       "      <td>real</td>\n",
       "    </tr>\n",
       "    <tr>\n",
       "      <td>4</td>\n",
       "      <td>real</td>\n",
       "    </tr>\n",
       "  </tbody>\n",
       "</table>\n",
       "</div>"
      ],
      "text/plain": [
       "   type\n",
       "0  real\n",
       "1  fake\n",
       "2  fake\n",
       "3  real\n",
       "4  real"
      ]
     },
     "execution_count": 56,
     "metadata": {},
     "output_type": "execute_result"
    }
   ],
   "source": [
    "final = pd.DataFrame(data=y_pred, columns=['type'])\n",
    "final['type'] = final['type'].map({1: 'fake', 0: 'real'})\n",
    "final.head()"
   ]
  },
  {
   "cell_type": "code",
   "execution_count": null,
   "metadata": {},
   "outputs": [],
   "source": [
    "final.to_csv(\"F.csv\")"
   ]
  }
 ],
 "metadata": {
  "kernelspec": {
   "display_name": "Python 3",
   "language": "python",
   "name": "python3"
  },
  "language_info": {
   "codemirror_mode": {
    "name": "ipython",
    "version": 3
   },
   "file_extension": ".py",
   "mimetype": "text/x-python",
   "name": "python",
   "nbconvert_exporter": "python",
   "pygments_lexer": "ipython3",
   "version": "3.7.4"
  }
 },
 "nbformat": 4,
 "nbformat_minor": 2
}
