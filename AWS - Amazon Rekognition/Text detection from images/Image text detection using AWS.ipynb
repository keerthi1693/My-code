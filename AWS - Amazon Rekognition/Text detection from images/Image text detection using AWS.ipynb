{
 "cells": [
  {
   "cell_type": "code",
   "execution_count": 5,
   "metadata": {
    "collapsed": true
   },
   "outputs": [
    {
     "name": "stdout",
     "output_type": "stream",
     "text": [
      "Collecting virtualenv\n",
      "  Downloading virtualenv-20.0.31-py2.py3-none-any.whl (4.9 MB)\n",
      "Collecting distlib<1,>=0.3.1\n",
      "  Downloading distlib-0.3.1-py2.py3-none-any.whl (335 kB)\n",
      "Requirement already satisfied: six<2,>=1.9.0 in c:\\users\\keert\\anaconda3\\lib\\site-packages (from virtualenv) (1.12.0)\n",
      "Requirement already satisfied: filelock<4,>=3.0.0 in c:\\users\\keert\\anaconda3\\lib\\site-packages (from virtualenv) (3.0.12)\n",
      "Collecting appdirs<2,>=1.4.3\n",
      "  Downloading appdirs-1.4.4-py2.py3-none-any.whl (9.6 kB)\n",
      "Requirement already satisfied: importlib-metadata<2,>=0.12; python_version < \"3.8\" in c:\\users\\keert\\anaconda3\\lib\\site-packages (from virtualenv) (0.23)\n",
      "Requirement already satisfied: zipp>=0.5 in c:\\users\\keert\\anaconda3\\lib\\site-packages (from importlib-metadata<2,>=0.12; python_version < \"3.8\"->virtualenv) (0.6.0)\n",
      "Requirement already satisfied: more-itertools in c:\\users\\keert\\anaconda3\\lib\\site-packages (from zipp>=0.5->importlib-metadata<2,>=0.12; python_version < \"3.8\"->virtualenv) (7.2.0)\n",
      "Installing collected packages: distlib, appdirs, virtualenv\n",
      "Successfully installed appdirs-1.4.4 distlib-0.3.1 virtualenv-20.0.31\n",
      "Note: you may need to restart the kernel to use updated packages.\n"
     ]
    },
    {
     "name": "stderr",
     "output_type": "stream",
     "text": [
      "  WARNING: The script virtualenv.exe is installed in 'C:\\Users\\keert\\AppData\\Roaming\\Python\\Python37\\Scripts' which is not on PATH.\n",
      "  Consider adding this directory to PATH or, if you prefer to suppress this warning, use --no-warn-script-location.\n",
      "WARNING: You are using pip version 20.0.2; however, version 20.2.3 is available.\n",
      "You should consider upgrading via the 'C:\\Users\\keert\\Anaconda3\\python.exe -m pip install --upgrade pip' command.\n"
     ]
    }
   ],
   "source": [
    "pip install --user virtualenv"
   ]
  },
  {
   "cell_type": "code",
   "execution_count": 7,
   "metadata": {
    "collapsed": true
   },
   "outputs": [
    {
     "name": "stdout",
     "output_type": "stream",
     "text": [
      "Requirement already satisfied: boto3 in c:\\users\\keert\\anaconda3\\lib\\site-packages (1.12.21)\n",
      "Requirement already satisfied: jmespath<1.0.0,>=0.7.1 in c:\\users\\keert\\anaconda3\\lib\\site-packages (from boto3) (0.9.5)\n",
      "Requirement already satisfied: botocore<1.16.0,>=1.15.21 in c:\\users\\keert\\anaconda3\\lib\\site-packages (from boto3) (1.15.21)\n",
      "Requirement already satisfied: s3transfer<0.4.0,>=0.3.0 in c:\\users\\keert\\anaconda3\\lib\\site-packages (from boto3) (0.3.3)\n",
      "Requirement already satisfied: urllib3<1.26,>=1.20; python_version != \"3.4\" in c:\\users\\keert\\anaconda3\\lib\\site-packages (from botocore<1.16.0,>=1.15.21->boto3) (1.24.2)\n",
      "Requirement already satisfied: docutils<0.16,>=0.10 in c:\\users\\keert\\anaconda3\\lib\\site-packages (from botocore<1.16.0,>=1.15.21->boto3) (0.15.2)\n",
      "Requirement already satisfied: python-dateutil<3.0.0,>=2.1 in c:\\users\\keert\\anaconda3\\lib\\site-packages (from botocore<1.16.0,>=1.15.21->boto3) (2.8.0)\n",
      "Requirement already satisfied: six>=1.5 in c:\\users\\keert\\anaconda3\\lib\\site-packages (from python-dateutil<3.0.0,>=2.1->botocore<1.16.0,>=1.15.21->boto3) (1.12.0)\n"
     ]
    },
    {
     "name": "stderr",
     "output_type": "stream",
     "text": [
      "WARNING: You are using pip version 20.0.2; however, version 20.2.3 is available.\n",
      "You should consider upgrading via the 'c:\\users\\keert\\anaconda3\\python.exe -m pip install --upgrade pip' command.\n"
     ]
    }
   ],
   "source": [
    "! pip3 install boto3"
   ]
  },
  {
   "cell_type": "code",
   "execution_count": 10,
   "metadata": {
    "collapsed": true
   },
   "outputs": [
    {
     "name": "stdout",
     "output_type": "stream",
     "text": [
      "Collecting aws\n",
      "  Downloading aws-0.2.5.tar.gz (5.6 kB)\n",
      "Requirement already satisfied: boto in c:\\users\\keert\\anaconda3\\lib\\site-packages (from aws) (2.49.0)\n",
      "Collecting fabric>=1.6\n",
      "  Downloading fabric-2.5.0-py2.py3-none-any.whl (51 kB)\n",
      "Collecting prettytable>=0.7\n",
      "  Downloading prettytable-0.7.2.tar.bz2 (21 kB)\n",
      "Collecting paramiko>=2.4\n",
      "  Downloading paramiko-2.7.2-py2.py3-none-any.whl (206 kB)\n",
      "Collecting invoke<2.0,>=1.3\n",
      "  Downloading invoke-1.4.1-py3-none-any.whl (210 kB)\n",
      "Collecting bcrypt>=3.1.3\n",
      "  Downloading bcrypt-3.2.0-cp36-abi3-win_amd64.whl (28 kB)\n",
      "Requirement already satisfied: cryptography>=2.5 in c:\\users\\keert\\anaconda3\\lib\\site-packages (from paramiko>=2.4->fabric>=1.6->aws) (2.7)\n",
      "Collecting pynacl>=1.0.1\n",
      "  Downloading PyNaCl-1.4.0-cp37-cp37m-win_amd64.whl (206 kB)\n",
      "Requirement already satisfied: cffi>=1.1 in c:\\users\\keert\\anaconda3\\lib\\site-packages (from bcrypt>=3.1.3->paramiko>=2.4->fabric>=1.6->aws) (1.12.3)\n",
      "Requirement already satisfied: six>=1.4.1 in c:\\users\\keert\\anaconda3\\lib\\site-packages (from bcrypt>=3.1.3->paramiko>=2.4->fabric>=1.6->aws) (1.12.0)\n",
      "Requirement already satisfied: asn1crypto>=0.21.0 in c:\\users\\keert\\anaconda3\\lib\\site-packages (from cryptography>=2.5->paramiko>=2.4->fabric>=1.6->aws) (1.0.1)\n",
      "Requirement already satisfied: pycparser in c:\\users\\keert\\anaconda3\\lib\\site-packages (from cffi>=1.1->bcrypt>=3.1.3->paramiko>=2.4->fabric>=1.6->aws) (2.19)\n",
      "Building wheels for collected packages: aws, prettytable\n",
      "  Building wheel for aws (setup.py): started\n",
      "  Building wheel for aws (setup.py): finished with status 'done'\n",
      "  Created wheel for aws: filename=aws-0.2.5-py3-none-any.whl size=7464 sha256=76c6a75b59791a14e23563379d5ccfa52e95ab1c58417a02c51e07fb8177de74\n",
      "  Stored in directory: c:\\users\\keert\\appdata\\local\\pip\\cache\\wheels\\02\\5b\\df\\3953a63df2683566c5b309cc268bb86a3cf246b6a93a85bec7\n",
      "  Building wheel for prettytable (setup.py): started\n",
      "  Building wheel for prettytable (setup.py): finished with status 'done'\n",
      "  Created wheel for prettytable: filename=prettytable-0.7.2-py3-none-any.whl size=13704 sha256=f0ec23b49426ed4fb78b526bad6fcf96d551df83b42f1840b85e15932d41675b\n",
      "  Stored in directory: c:\\users\\keert\\appdata\\local\\pip\\cache\\wheels\\8c\\76\\0b\\eb9eb3da7e2335e3577e3f96a0ae9f74f206e26457bd1a2bc8\n",
      "Successfully built aws prettytable\n",
      "Installing collected packages: bcrypt, pynacl, paramiko, invoke, fabric, prettytable, aws\n",
      "Successfully installed aws-0.2.5 bcrypt-3.2.0 fabric-2.5.0 invoke-1.4.1 paramiko-2.7.2 prettytable-0.7.2 pynacl-1.4.0\n",
      "Note: you may need to restart the kernel to use updated packages.\n"
     ]
    },
    {
     "name": "stderr",
     "output_type": "stream",
     "text": [
      "WARNING: You are using pip version 20.0.2; however, version 20.2.3 is available.\n",
      "You should consider upgrading via the 'C:\\Users\\keert\\Anaconda3\\python.exe -m pip install --upgrade pip' command.\n"
     ]
    }
   ],
   "source": [
    "pip install aws"
   ]
  },
  {
   "cell_type": "code",
   "execution_count": 1,
   "metadata": {
    "collapsed": true
   },
   "outputs": [
    {
     "name": "stdout",
     "output_type": "stream",
     "text": [
      "Collecting awscli\n",
      "  Downloading awscli-1.18.143-py2.py3-none-any.whl (3.3 MB)\n",
      "Requirement already satisfied: colorama<0.4.4,>=0.2.5; python_version != \"3.4\" in c:\\users\\keert\\anaconda3\\lib\\site-packages (from awscli) (0.4.1)\n",
      "Collecting botocore==1.18.2\n",
      "  Downloading botocore-1.18.2-py2.py3-none-any.whl (6.6 MB)\n",
      "Requirement already satisfied: s3transfer<0.4.0,>=0.3.0 in c:\\users\\keert\\anaconda3\\lib\\site-packages (from awscli) (0.3.3)\n",
      "Requirement already satisfied: rsa<=4.5.0,>=3.1.2; python_version != \"3.4\" in c:\\users\\keert\\anaconda3\\lib\\site-packages (from awscli) (4.0)\n",
      "Requirement already satisfied: PyYAML<5.4,>=3.10; python_version != \"3.4\" in c:\\users\\keert\\anaconda3\\lib\\site-packages (from awscli) (5.1.2)\n",
      "Requirement already satisfied: docutils<0.16,>=0.10 in c:\\users\\keert\\anaconda3\\lib\\site-packages (from awscli) (0.15.2)\n",
      "Requirement already satisfied: urllib3<1.26,>=1.20; python_version != \"3.4\" in c:\\users\\keert\\anaconda3\\lib\\site-packages (from botocore==1.18.2->awscli) (1.24.2)\n",
      "Requirement already satisfied: python-dateutil<3.0.0,>=2.1 in c:\\users\\keert\\anaconda3\\lib\\site-packages (from botocore==1.18.2->awscli) (2.8.0)\n",
      "Requirement already satisfied: jmespath<1.0.0,>=0.7.1 in c:\\users\\keert\\anaconda3\\lib\\site-packages (from botocore==1.18.2->awscli) (0.9.5)\n",
      "Requirement already satisfied: pyasn1>=0.1.3 in c:\\users\\keert\\anaconda3\\lib\\site-packages (from rsa<=4.5.0,>=3.1.2; python_version != \"3.4\"->awscli) (0.4.8)\n",
      "Requirement already satisfied: six>=1.5 in c:\\users\\keert\\anaconda3\\lib\\site-packages (from python-dateutil<3.0.0,>=2.1->botocore==1.18.2->awscli) (1.12.0)\n",
      "Installing collected packages: botocore, awscli\n",
      "  Attempting uninstall: botocore\n",
      "    Found existing installation: botocore 1.15.21\n",
      "    Uninstalling botocore-1.15.21:\n",
      "      Successfully uninstalled botocore-1.15.21\n",
      "Successfully installed awscli-1.18.143 botocore-1.18.2\n",
      "Note: you may need to restart the kernel to use updated packages.\n"
     ]
    },
    {
     "name": "stderr",
     "output_type": "stream",
     "text": [
      "ERROR: boto3 1.12.21 has requirement botocore<1.16.0,>=1.15.21, but you'll have botocore 1.18.2 which is incompatible.\n",
      "WARNING: You are using pip version 20.0.2; however, version 20.2.3 is available.\n",
      "You should consider upgrading via the 'C:\\Users\\keert\\Anaconda3\\python.exe -m pip install --upgrade pip' command.\n"
     ]
    }
   ],
   "source": [
    "pip install awscli"
   ]
  },
  {
   "cell_type": "code",
   "execution_count": 36,
   "metadata": {},
   "outputs": [],
   "source": [
    "import boto3, os\n",
    "s3 = boto3.client('s3')\n",
    "\n"
   ]
  },
  {
   "cell_type": "code",
   "execution_count": 18,
   "metadata": {
    "collapsed": true
   },
   "outputs": [
    {
     "name": "stderr",
     "output_type": "stream",
     "text": [
      "Traceback (most recent call last):\n",
      "  File \"c:\\users\\keert\\anaconda3\\lib\\runpy.py\", line 193, in _run_module_as_main\n",
      "    \"__main__\", mod_spec)\n",
      "  File \"c:\\users\\keert\\anaconda3\\lib\\runpy.py\", line 85, in _run_code\n",
      "    exec(code, run_globals)\n",
      "  File \"C:\\Users\\keert\\Anaconda3\\Scripts\\aws.exe\\__main__.py\", line 4, in <module>\n",
      "  File \"c:\\users\\keert\\anaconda3\\lib\\site-packages\\aws\\main.py\", line 23\n",
      "    print '%(name)s: %(endpoint)s' % {\n",
      "                                 ^\n",
      "SyntaxError: invalid syntax\n"
     ]
    }
   ],
   "source": [
    "! aws s3 mb s3://kbojja-msa8650"
   ]
  },
  {
   "cell_type": "code",
   "execution_count": 44,
   "metadata": {},
   "outputs": [],
   "source": [
    "#Create s3 bucket\n",
    "os.environ['AWS_DEFAULT_REGION'] = 'us-east-2'\n",
    "myS3 = boto3.resource('s3')\n",
    "results = myS3.create_bucket(\n",
    "                             Bucket='kbojja-msa8650',\n",
    "                             CreateBucketConfiguration={'LocationConstraint': 'us-east-2'}\n",
    "                            )"
   ]
  },
  {
   "cell_type": "code",
   "execution_count": 37,
   "metadata": {},
   "outputs": [
    {
     "name": "stdout",
     "output_type": "stream",
     "text": [
      "Existing buckets:\n",
      "  kbojja-msa8650\n"
     ]
    }
   ],
   "source": [
    "response = s3.list_buckets()\n",
    "\n",
    "# Output the bucket names\n",
    "print('Existing buckets:')\n",
    "for bucket in response['Buckets']:\n",
    "    print(f'  {bucket[\"Name\"]}')\n",
    "          "
   ]
  },
  {
   "cell_type": "code",
   "execution_count": 38,
   "metadata": {},
   "outputs": [],
   "source": [
    "s3_bucket = 'kbojja-msa8650'\n",
    "s3_prefix = 'lpr-assignment/ir_patch'"
   ]
  },
  {
   "cell_type": "code",
   "execution_count": 34,
   "metadata": {},
   "outputs": [
    {
     "data": {
      "text/plain": [
       "1821"
      ]
     },
     "execution_count": 34,
     "metadata": {},
     "output_type": "execute_result"
    }
   ],
   "source": [
    "#Get images info from local file\n",
    "\n",
    "from os import listdir\n",
    "from os.path import isfile, join\n",
    "\n",
    "path = 'C:/Users/keert/Desktop/Semester 3/Classes/Advanced DL/LPR Project/AWS/data_redatcted/ir_patch'\n",
    "ir_images = [f for f in listdir(path) if isfile(join(path, f))]\n",
    "len(ir_images)\n"
   ]
  },
  {
   "cell_type": "code",
   "execution_count": 208,
   "metadata": {},
   "outputs": [
    {
     "data": {
      "text/plain": [
       "1839"
      ]
     },
     "execution_count": 208,
     "metadata": {},
     "output_type": "execute_result"
    }
   ],
   "source": [
    "from os import listdir\n",
    "from os.path import isfile, join\n",
    "\n",
    "path = 'C:/Users/keert/Desktop/Semester 3/Classes/Advanced DL/LPR Project/new_data/xml'\n",
    "ir_ = [f for f in listdir(path) if isfile(join(path, f))]\n",
    "len(ir_)"
   ]
  },
  {
   "cell_type": "code",
   "execution_count": 267,
   "metadata": {},
   "outputs": [],
   "source": [
    "#Upload images to s3 bucket\n",
    "\n",
    "from botocore.exceptions import ClientError\n",
    "\n",
    "\n",
    "def upload_file(file_name, bucket, object_name=None):\n",
    "    if object_name is None:\n",
    "        object_name = file_name\n",
    "    try:\n",
    "        res = s3.upload_file(file_name, bucket, object_name)\n",
    "    except ClientError as e:\n",
    "        print(e)\n",
    "        return False\n",
    "    print('success')\n",
    "    return True\n",
    "\n",
    "for i in ir_images:\n",
    "    file_name = i\n",
    "    c = upload_file('C:/Users/keert/Desktop/Semester 3/Classes/Advanced DL/LPR Project/AWS/data_redatcted/ir_patch/' \n",
    "                    + file_name, 'kbojja-msa8650', object_name=None)"
   ]
  },
  {
   "cell_type": "code",
   "execution_count": 111,
   "metadata": {
    "collapsed": true
   },
   "outputs": [
    {
     "data": {
      "text/plain": [
       "[{'DetectedText': 'H7o5',\n",
       "  'Type': 'LINE',\n",
       "  'Id': 0,\n",
       "  'Confidence': 82.98896789550781,\n",
       "  'Geometry': {'BoundingBox': {'Width': 0.2391960173845291,\n",
       "    'Height': 0.376491516828537,\n",
       "    'Left': 0.36748337745666504,\n",
       "    'Top': 0.35079795122146606},\n",
       "   'Polygon': [{'X': 0.36748337745666504, 'Y': 0.35079795122146606},\n",
       "    {'X': 0.6066794395446777, 'Y': 0.23600848019123077},\n",
       "    {'X': 0.6214285492897034, 'Y': 0.612500011920929},\n",
       "    {'X': 0.38223254680633545, 'Y': 0.7272894382476807}]}},\n",
       " {'DetectedText': 'm',\n",
       "  'Type': 'LINE',\n",
       "  'Id': 1,\n",
       "  'Confidence': 51.42824172973633,\n",
       "  'Geometry': {'BoundingBox': {'Width': 0.15000000596046448,\n",
       "    'Height': 0.08749999850988388,\n",
       "    'Left': 0.375,\n",
       "    'Top': 0.800000011920929},\n",
       "   'Polygon': [{'X': 0.375, 'Y': 0.800000011920929},\n",
       "    {'X': 0.5249999761581421, 'Y': 0.7250000238418579},\n",
       "    {'X': 0.5285714268684387, 'Y': 0.8125},\n",
       "    {'X': 0.37857142090797424, 'Y': 0.887499988079071}]}},\n",
       " {'DetectedText': 'H7o5',\n",
       "  'Type': 'WORD',\n",
       "  'Id': 2,\n",
       "  'ParentId': 0,\n",
       "  'Confidence': 82.98896789550781,\n",
       "  'Geometry': {'BoundingBox': {'Width': 0.25796619057655334,\n",
       "    'Height': 0.37542492151260376,\n",
       "    'Left': 0.37142857909202576,\n",
       "    'Top': 0.3499999940395355},\n",
       "   'Polygon': [{'X': 0.37142857909202576, 'Y': 0.3499999940395355},\n",
       "    {'X': 0.6035714149475098, 'Y': 0.23749999701976776},\n",
       "    {'X': 0.6214285492897034, 'Y': 0.612500011920929},\n",
       "    {'X': 0.3821428716182709, 'Y': 0.7250000238418579}]}},\n",
       " {'DetectedText': 'm',\n",
       "  'Type': 'WORD',\n",
       "  'Id': 3,\n",
       "  'ParentId': 1,\n",
       "  'Confidence': 51.42824172973633,\n",
       "  'Geometry': {'BoundingBox': {'Width': 0.16770510375499725,\n",
       "    'Height': 0.0875728577375412,\n",
       "    'Left': 0.375,\n",
       "    'Top': 0.800000011920929},\n",
       "   'Polygon': [{'X': 0.375, 'Y': 0.800000011920929},\n",
       "    {'X': 0.5249999761581421, 'Y': 0.7250000238418579},\n",
       "    {'X': 0.5285714268684387, 'Y': 0.8125},\n",
       "    {'X': 0.37857142090797424, 'Y': 0.887499988079071}]}}]"
      ]
     },
     "execution_count": 111,
     "metadata": {},
     "output_type": "execute_result"
    }
   ],
   "source": [
    "#Calling rekognition service: example one image\n",
    "\n",
    "photo='14151_19700101204257094_HW795_1_ir_patch.jpg'\n",
    "myresp=reko.detect_text(Image={'S3Object':{'Bucket':s3_bucket,'Name':photo}})\n",
    "mytextDetections = myresp['TextDetections']\n",
    "mytextDetections"
   ]
  },
  {
   "cell_type": "markdown",
   "metadata": {},
   "source": [
    "# Method used to extract predicted labels by copying response into a df"
   ]
  },
  {
   "cell_type": "code",
   "execution_count": 40,
   "metadata": {},
   "outputs": [
    {
     "name": "stdout",
     "output_type": "stream",
     "text": [
      "(1821, 7)\n"
     ]
    }
   ],
   "source": [
    "#Call rekognition service to detect text and copy response to a df\n",
    "\n",
    "reko = boto3.client('rekognition')\n",
    "\n",
    "rekognition_df = pd.DataFrame()\n",
    "rek_labels = []\n",
    "for photo in ir_images:\n",
    "    response1=reko.detect_text(Image={'S3Object':{'Bucket':s3_bucket,'Name':photo}})\n",
    "    tmpdf = pd.DataFrame(response1['TextDetections'])\n",
    "    tmpdf2 = tmpdf[tmpdf['Type']=='LINE'].sort_values('Confidence', ascending=False).head(1).copy()\n",
    "    rekognition_df = pd.concat([rekognition_df, tmpdf2])\n",
    "rekognition_df['Rekognition_VRN'] = rekognition_df['DetectedText'].map(lambda s: s.replace(' ', ''))\n",
    "print(rekognition_df.shape)"
   ]
  },
  {
   "cell_type": "code",
   "execution_count": 85,
   "metadata": {},
   "outputs": [
    {
     "data": {
      "text/html": [
       "<div>\n",
       "<style scoped>\n",
       "    .dataframe tbody tr th:only-of-type {\n",
       "        vertical-align: middle;\n",
       "    }\n",
       "\n",
       "    .dataframe tbody tr th {\n",
       "        vertical-align: top;\n",
       "    }\n",
       "\n",
       "    .dataframe thead th {\n",
       "        text-align: right;\n",
       "    }\n",
       "</style>\n",
       "<table border=\"1\" class=\"dataframe\">\n",
       "  <thead>\n",
       "    <tr style=\"text-align: right;\">\n",
       "      <th></th>\n",
       "      <th>DetectedText</th>\n",
       "      <th>Type</th>\n",
       "      <th>Id</th>\n",
       "      <th>Confidence</th>\n",
       "      <th>Geometry</th>\n",
       "      <th>ParentId</th>\n",
       "      <th>Rekognition_VRN</th>\n",
       "    </tr>\n",
       "  </thead>\n",
       "  <tbody>\n",
       "    <tr>\n",
       "      <td>0</td>\n",
       "      <td>BHA 6172</td>\n",
       "      <td>LINE</td>\n",
       "      <td>0</td>\n",
       "      <td>99.231064</td>\n",
       "      <td>{'BoundingBox': {'Width': 0.3537510931491852, ...</td>\n",
       "      <td>NaN</td>\n",
       "      <td>BHA6172</td>\n",
       "    </tr>\n",
       "    <tr>\n",
       "      <td>0</td>\n",
       "      <td>BMU 2999</td>\n",
       "      <td>LINE</td>\n",
       "      <td>0</td>\n",
       "      <td>99.947304</td>\n",
       "      <td>{'BoundingBox': {'Width': 0.29746976494789124,...</td>\n",
       "      <td>NaN</td>\n",
       "      <td>BMU2999</td>\n",
       "    </tr>\n",
       "    <tr>\n",
       "      <td>1</td>\n",
       "      <td>PFF9880</td>\n",
       "      <td>LINE</td>\n",
       "      <td>1</td>\n",
       "      <td>99.517075</td>\n",
       "      <td>{'BoundingBox': {'Width': 0.29602688550949097,...</td>\n",
       "      <td>NaN</td>\n",
       "      <td>PFF9880</td>\n",
       "    </tr>\n",
       "    <tr>\n",
       "      <td>0</td>\n",
       "      <td>PTA2105</td>\n",
       "      <td>LINE</td>\n",
       "      <td>0</td>\n",
       "      <td>96.108620</td>\n",
       "      <td>{'BoundingBox': {'Width': 0.33217155933380127,...</td>\n",
       "      <td>NaN</td>\n",
       "      <td>PTA2105</td>\n",
       "    </tr>\n",
       "    <tr>\n",
       "      <td>0</td>\n",
       "      <td>CCD7351</td>\n",
       "      <td>LINE</td>\n",
       "      <td>0</td>\n",
       "      <td>99.057617</td>\n",
       "      <td>{'BoundingBox': {'Width': 0.3717344403266907, ...</td>\n",
       "      <td>NaN</td>\n",
       "      <td>CCD7351</td>\n",
       "    </tr>\n",
       "  </tbody>\n",
       "</table>\n",
       "</div>"
      ],
      "text/plain": [
       "  DetectedText  Type  Id  Confidence  \\\n",
       "0     BHA 6172  LINE   0   99.231064   \n",
       "0     BMU 2999  LINE   0   99.947304   \n",
       "1      PFF9880  LINE   1   99.517075   \n",
       "0      PTA2105  LINE   0   96.108620   \n",
       "0      CCD7351  LINE   0   99.057617   \n",
       "\n",
       "                                            Geometry  ParentId Rekognition_VRN  \n",
       "0  {'BoundingBox': {'Width': 0.3537510931491852, ...       NaN         BHA6172  \n",
       "0  {'BoundingBox': {'Width': 0.29746976494789124,...       NaN         BMU2999  \n",
       "1  {'BoundingBox': {'Width': 0.29602688550949097,...       NaN         PFF9880  \n",
       "0  {'BoundingBox': {'Width': 0.33217155933380127,...       NaN         PTA2105  \n",
       "0  {'BoundingBox': {'Width': 0.3717344403266907, ...       NaN         CCD7351  "
      ]
     },
     "execution_count": 85,
     "metadata": {},
     "output_type": "execute_result"
    }
   ],
   "source": [
    "rekognition_df.head()"
   ]
  },
  {
   "cell_type": "code",
   "execution_count": 44,
   "metadata": {},
   "outputs": [
    {
     "data": {
      "text/plain": [
       "1821"
      ]
     },
     "execution_count": 44,
     "metadata": {},
     "output_type": "execute_result"
    }
   ],
   "source": [
    "#Read xml files\n",
    "\n",
    "import xml.etree.ElementTree as ET\n",
    "\n",
    "path = 'C:/Users/keert/Desktop/Semester 3/Classes/Advanced DL/LPR Project/AWS/data_redatcted/xml'\n",
    "xml_files = [f for f in listdir(path) if isfile(join(path, f))]\n",
    "len(xml_files)\n"
   ]
  },
  {
   "cell_type": "code",
   "execution_count": 45,
   "metadata": {},
   "outputs": [],
   "source": [
    "#Extract VRN from xml\n",
    "\n",
    "xml_labels = []\n",
    "for xml in xml_files:\n",
    "    tree = ET.parse(path + '/' + xml)\n",
    "    root = tree.getroot()\n",
    "    m=root[7].text\n",
    "    xml_labels.append(m)"
   ]
  },
  {
   "cell_type": "code",
   "execution_count": 100,
   "metadata": {},
   "outputs": [
    {
     "data": {
      "text/html": [
       "<div>\n",
       "<style scoped>\n",
       "    .dataframe tbody tr th:only-of-type {\n",
       "        vertical-align: middle;\n",
       "    }\n",
       "\n",
       "    .dataframe tbody tr th {\n",
       "        vertical-align: top;\n",
       "    }\n",
       "\n",
       "    .dataframe thead th {\n",
       "        text-align: right;\n",
       "    }\n",
       "</style>\n",
       "<table border=\"1\" class=\"dataframe\">\n",
       "  <thead>\n",
       "    <tr style=\"text-align: right;\">\n",
       "      <th></th>\n",
       "      <th>VRN</th>\n",
       "      <th>Rekognition_VRN</th>\n",
       "    </tr>\n",
       "  </thead>\n",
       "  <tbody>\n",
       "    <tr>\n",
       "      <td>0</td>\n",
       "      <td>BHA6172</td>\n",
       "      <td>BHA6172</td>\n",
       "    </tr>\n",
       "    <tr>\n",
       "      <td>1</td>\n",
       "      <td>BMU2999</td>\n",
       "      <td>BMU2999</td>\n",
       "    </tr>\n",
       "    <tr>\n",
       "      <td>2</td>\n",
       "      <td>PFF9889</td>\n",
       "      <td>PFF9880</td>\n",
       "    </tr>\n",
       "    <tr>\n",
       "      <td>3</td>\n",
       "      <td>PTA2105</td>\n",
       "      <td>PTA2105</td>\n",
       "    </tr>\n",
       "    <tr>\n",
       "      <td>4</td>\n",
       "      <td>CCD7351</td>\n",
       "      <td>CCD7351</td>\n",
       "    </tr>\n",
       "  </tbody>\n",
       "</table>\n",
       "</div>"
      ],
      "text/plain": [
       "       VRN Rekognition_VRN\n",
       "0  BHA6172         BHA6172\n",
       "1  BMU2999         BMU2999\n",
       "2  PFF9889         PFF9880\n",
       "3  PTA2105         PTA2105\n",
       "4  CCD7351         CCD7351"
      ]
     },
     "execution_count": 100,
     "metadata": {},
     "output_type": "execute_result"
    }
   ],
   "source": [
    "import pandas as pd\n",
    "data = {'VRN': xml_labels, 'Rekognition_VRN': rekognition_df['Rekognition_VRN']}\n",
    "mydf = pd.DataFrame(data=data)\n",
    "mydf = mydf.reset_index()\n",
    "mydf=mydf.drop(columns=['index'])\n",
    "mydf.head()"
   ]
  },
  {
   "cell_type": "code",
   "execution_count": 234,
   "metadata": {},
   "outputs": [],
   "source": [
    "import numpy as numpy\n",
    "def levenshteinDistanceDP(token1, token2):\n",
    "    distances = numpy.zeros((len(token1) + 1, len(token2) + 1))\n",
    "\n",
    "    for t1 in range(len(token1) + 1):\n",
    "        distances[t1][0] = t1\n",
    "\n",
    "    for t2 in range(len(token2) + 1):\n",
    "        distances[0][t2] = t2\n",
    "        \n",
    "    a = 0\n",
    "    b = 0\n",
    "    c = 0\n",
    "    \n",
    "    for t1 in range(1, len(token1) + 1):\n",
    "        for t2 in range(1, len(token2) + 1):\n",
    "            if (token1[t1-1] == token2[t2-1]):\n",
    "                distances[t1][t2] = distances[t1 - 1][t2 - 1]\n",
    "            else:\n",
    "                a = distances[t1][t2 - 1]\n",
    "                b = distances[t1 - 1][t2]\n",
    "                c = distances[t1 - 1][t2 - 1]\n",
    "                \n",
    "                if (a <= b and a <= c):\n",
    "                    distances[t1][t2] = a + 1\n",
    "                elif (b <= a and b <= c):\n",
    "                    distances[t1][t2] = b + 1\n",
    "                else:\n",
    "                    distances[t1][t2] = c + 1\n",
    "\n",
    "#     printDistances(distances, len(token1), len(token2))\n",
    "    return distances[len(token1)][len(token2)]"
   ]
  },
  {
   "cell_type": "code",
   "execution_count": 238,
   "metadata": {},
   "outputs": [],
   "source": [
    "mydf['VRN'] = mydf['VRN'].astype(str)\n",
    "mydf['Rekognition_VRN'] = mydf['Rekognition_VRN'].astype(str)"
   ]
  },
  {
   "cell_type": "code",
   "execution_count": 244,
   "metadata": {},
   "outputs": [],
   "source": [
    "accuracy = []\n",
    "for i in range(len(mydf)):\n",
    "    dist = levenshteinDistanceDP(mydf.loc[i,'VRN'],mydf.loc[i, 'Rekognition_VRN'])\n",
    "    A = (len(mydf.loc[i,'VRN'])-dist)/len(mydf.loc[i,'VRN'])\n",
    "    accuracy.append(A)\n"
   ]
  },
  {
   "cell_type": "code",
   "execution_count": 246,
   "metadata": {},
   "outputs": [],
   "source": [
    "#ANOTHER WAY to find lEVENSHTIEN DISTANCE\n",
    "\n",
    "# from Levenshtein import distance\n",
    "\n",
    "# label_str = mydf['VRN']\n",
    "# pred_str = mydf['Rekognition_VRN']\n",
    "\n",
    "# accuracy = []\n",
    "# for i, label in enumerate(label_str):\n",
    "#     dis = distance(label, pred_str[i])\n",
    "#     acc = (len(label)-dis)/len(label)\n",
    "#     accuracy.append(acc)\n"
   ]
  },
  {
   "cell_type": "code",
   "execution_count": 247,
   "metadata": {
    "scrolled": true
   },
   "outputs": [
    {
     "data": {
      "text/html": [
       "<div>\n",
       "<style scoped>\n",
       "    .dataframe tbody tr th:only-of-type {\n",
       "        vertical-align: middle;\n",
       "    }\n",
       "\n",
       "    .dataframe tbody tr th {\n",
       "        vertical-align: top;\n",
       "    }\n",
       "\n",
       "    .dataframe thead th {\n",
       "        text-align: right;\n",
       "    }\n",
       "</style>\n",
       "<table border=\"1\" class=\"dataframe\">\n",
       "  <thead>\n",
       "    <tr style=\"text-align: right;\">\n",
       "      <th></th>\n",
       "      <th>VRN</th>\n",
       "      <th>Rekognition_VRN</th>\n",
       "      <th>Accuracy</th>\n",
       "    </tr>\n",
       "  </thead>\n",
       "  <tbody>\n",
       "    <tr>\n",
       "      <td>0</td>\n",
       "      <td>BHA6172</td>\n",
       "      <td>BHA6172</td>\n",
       "      <td>1.000000</td>\n",
       "    </tr>\n",
       "    <tr>\n",
       "      <td>1</td>\n",
       "      <td>BMU2999</td>\n",
       "      <td>BMU2999</td>\n",
       "      <td>1.000000</td>\n",
       "    </tr>\n",
       "    <tr>\n",
       "      <td>2</td>\n",
       "      <td>PFF9889</td>\n",
       "      <td>PFF9880</td>\n",
       "      <td>0.857143</td>\n",
       "    </tr>\n",
       "    <tr>\n",
       "      <td>3</td>\n",
       "      <td>PTA2105</td>\n",
       "      <td>PTA2105</td>\n",
       "      <td>1.000000</td>\n",
       "    </tr>\n",
       "    <tr>\n",
       "      <td>4</td>\n",
       "      <td>CCD7351</td>\n",
       "      <td>CCD7351</td>\n",
       "      <td>1.000000</td>\n",
       "    </tr>\n",
       "  </tbody>\n",
       "</table>\n",
       "</div>"
      ],
      "text/plain": [
       "       VRN Rekognition_VRN  Accuracy\n",
       "0  BHA6172         BHA6172  1.000000\n",
       "1  BMU2999         BMU2999  1.000000\n",
       "2  PFF9889         PFF9880  0.857143\n",
       "3  PTA2105         PTA2105  1.000000\n",
       "4  CCD7351         CCD7351  1.000000"
      ]
     },
     "execution_count": 247,
     "metadata": {},
     "output_type": "execute_result"
    }
   ],
   "source": [
    "mydf['Accuracy']=accuracy\n",
    "mydf.head()"
   ]
  },
  {
   "cell_type": "code",
   "execution_count": 248,
   "metadata": {},
   "outputs": [
    {
     "name": "stdout",
     "output_type": "stream",
     "text": [
      "mean: 0.8771004942339404\n",
      "mode: 0    1.0\n",
      "dtype: float64\n",
      "std: 0.24490941698731278\n"
     ]
    }
   ],
   "source": [
    "#FINAL RESULTS\n",
    "\n",
    "print('mean:',(mydf['Accuracy']).mean())\n",
    "print('mode:',(mydf['Accuracy']).mode())\n",
    "print ('std:', np.array(mydf['Accuracy']).std())"
   ]
  },
  {
   "cell_type": "code",
   "execution_count": 249,
   "metadata": {},
   "outputs": [
    {
     "data": {
      "text/plain": [
       "{1117}"
      ]
     },
     "execution_count": 249,
     "metadata": {},
     "output_type": "execute_result"
    }
   ],
   "source": [
    "#Exact matches\n",
    "{np.sum(mydf.VRN.str.lower()==mydf.Rekognition_VRN.str.lower())}\n"
   ]
  },
  {
   "cell_type": "code",
   "execution_count": 250,
   "metadata": {},
   "outputs": [
    {
     "data": {
      "text/html": [
       "<div>\n",
       "<style scoped>\n",
       "    .dataframe tbody tr th:only-of-type {\n",
       "        vertical-align: middle;\n",
       "    }\n",
       "\n",
       "    .dataframe tbody tr th {\n",
       "        vertical-align: top;\n",
       "    }\n",
       "\n",
       "    .dataframe thead th {\n",
       "        text-align: right;\n",
       "    }\n",
       "</style>\n",
       "<table border=\"1\" class=\"dataframe\">\n",
       "  <thead>\n",
       "    <tr style=\"text-align: right;\">\n",
       "      <th></th>\n",
       "      <th>VRN</th>\n",
       "      <th>Rekognition_VRN</th>\n",
       "      <th>Accuracy</th>\n",
       "    </tr>\n",
       "  </thead>\n",
       "  <tbody>\n",
       "    <tr>\n",
       "      <td>0</td>\n",
       "      <td>PFF9889</td>\n",
       "      <td>PFF9880</td>\n",
       "      <td>0.8571</td>\n",
       "    </tr>\n",
       "    <tr>\n",
       "      <td>1</td>\n",
       "      <td>CDI4388</td>\n",
       "      <td>LII4388</td>\n",
       "      <td>0.7143</td>\n",
       "    </tr>\n",
       "    <tr>\n",
       "      <td>2</td>\n",
       "      <td>728JFW</td>\n",
       "      <td>728JFM</td>\n",
       "      <td>0.8333</td>\n",
       "    </tr>\n",
       "    <tr>\n",
       "      <td>3</td>\n",
       "      <td>AGV6998</td>\n",
       "      <td>AGY6998</td>\n",
       "      <td>0.8571</td>\n",
       "    </tr>\n",
       "    <tr>\n",
       "      <td>4</td>\n",
       "      <td>1WF412I</td>\n",
       "      <td>WF4121</td>\n",
       "      <td>0.7143</td>\n",
       "    </tr>\n",
       "  </tbody>\n",
       "</table>\n",
       "</div>"
      ],
      "text/plain": [
       "       VRN Rekognition_VRN  Accuracy\n",
       "0  PFF9889         PFF9880    0.8571\n",
       "1  CDI4388         LII4388    0.7143\n",
       "2   728JFW          728JFM    0.8333\n",
       "3  AGV6998         AGY6998    0.8571\n",
       "4  1WF412I          WF4121    0.7143"
      ]
     },
     "execution_count": 250,
     "metadata": {},
     "output_type": "execute_result"
    }
   ],
   "source": [
    "#Non-matches\n",
    "\n",
    "nonmatch = mydf[mydf.VRN.str.lower()!=mydf.Rekognition_VRN.str.lower()]\n",
    "nonmatch = nonmatch.reset_index()\n",
    "nonmatch = nonmatch.drop('index', axis=1)\n",
    "nonmatch['Accuracy'] = round(nonmatch['Accuracy'],4)\n",
    "nonmatch.head()"
   ]
  },
  {
   "cell_type": "code",
   "execution_count": 254,
   "metadata": {
    "collapsed": true
   },
   "outputs": [
    {
     "data": {
      "text/plain": [
       " 85.71     42.897727\n",
       " 71.43     14.346591\n",
       " 83.33     11.363636\n",
       " 66.67      6.676136\n",
       " 57.14      3.551136\n",
       " 60.00      3.409091\n",
       " 0.00       2.698864\n",
       " 50.00      1.988636\n",
       " 42.86      1.562500\n",
       " 80.00      1.420455\n",
       " 14.29      1.278409\n",
       " 25.00      1.278409\n",
       " 40.00      1.278409\n",
       " 28.57      0.994318\n",
       "-33.33      0.852273\n",
       " 16.67      0.852273\n",
       " 33.33      0.710227\n",
       "-14.29      0.426136\n",
       "-42.86      0.284091\n",
       "-100.00     0.284091\n",
       " 75.00      0.284091\n",
       "-83.33      0.284091\n",
       " 87.50      0.284091\n",
       "-16.67      0.284091\n",
       "-175.00     0.142045\n",
       " 20.00      0.142045\n",
       "-166.67     0.142045\n",
       "-28.57      0.142045\n",
       "-25.00      0.142045\n",
       "Name: Accuracy, dtype: float64"
      ]
     },
     "execution_count": 254,
     "metadata": {},
     "output_type": "execute_result"
    }
   ],
   "source": [
    "100. * nonmatch.Accuracy.value_counts() / len(nonmatch.Accuracy)"
   ]
  },
  {
   "cell_type": "code",
   "execution_count": 195,
   "metadata": {},
   "outputs": [
    {
     "data": {
      "text/html": [
       "<div>\n",
       "<style scoped>\n",
       "    .dataframe tbody tr th:only-of-type {\n",
       "        vertical-align: middle;\n",
       "    }\n",
       "\n",
       "    .dataframe tbody tr th {\n",
       "        vertical-align: top;\n",
       "    }\n",
       "\n",
       "    .dataframe thead th {\n",
       "        text-align: right;\n",
       "    }\n",
       "</style>\n",
       "<table border=\"1\" class=\"dataframe\">\n",
       "  <thead>\n",
       "    <tr style=\"text-align: right;\">\n",
       "      <th></th>\n",
       "      <th>VRN</th>\n",
       "      <th>Rekognition_VRN</th>\n",
       "      <th>Accuracy</th>\n",
       "    </tr>\n",
       "  </thead>\n",
       "  <tbody>\n",
       "    <tr>\n",
       "      <td>26</td>\n",
       "      <td>PA2</td>\n",
       "      <td>PJA2635</td>\n",
       "      <td>0.4286</td>\n",
       "    </tr>\n",
       "    <tr>\n",
       "      <td>35</td>\n",
       "      <td>329ZPS</td>\n",
       "      <td>J29.7pc</td>\n",
       "      <td>0.3333</td>\n",
       "    </tr>\n",
       "    <tr>\n",
       "      <td>56</td>\n",
       "      <td>CDI4709</td>\n",
       "      <td>L014700</td>\n",
       "      <td>0.4286</td>\n",
       "    </tr>\n",
       "    <tr>\n",
       "      <td>58</td>\n",
       "      <td>CCE2893</td>\n",
       "      <td>LE2802</td>\n",
       "      <td>0.4286</td>\n",
       "    </tr>\n",
       "    <tr>\n",
       "      <td>72</td>\n",
       "      <td>PJG1201</td>\n",
       "      <td>Go;</td>\n",
       "      <td>0.1429</td>\n",
       "    </tr>\n",
       "    <tr>\n",
       "      <td>109</td>\n",
       "      <td>C0TY1C</td>\n",
       "      <td>comcasto</td>\n",
       "      <td>0.0000</td>\n",
       "    </tr>\n",
       "    <tr>\n",
       "      <td>110</td>\n",
       "      <td>E1N1IY</td>\n",
       "      <td>800XFIMTY</td>\n",
       "      <td>0.3333</td>\n",
       "    </tr>\n",
       "    <tr>\n",
       "      <td>119</td>\n",
       "      <td>AHT</td>\n",
       "      <td>AHT1570</td>\n",
       "      <td>0.4286</td>\n",
       "    </tr>\n",
       "    <tr>\n",
       "      <td>142</td>\n",
       "      <td>111</td>\n",
       "      <td>QUALITYA</td>\n",
       "      <td>0.0000</td>\n",
       "    </tr>\n",
       "    <tr>\n",
       "      <td>150</td>\n",
       "      <td>PMC6509</td>\n",
       "      <td>F6500</td>\n",
       "      <td>0.4286</td>\n",
       "    </tr>\n",
       "    <tr>\n",
       "      <td>167</td>\n",
       "      <td>LM6415</td>\n",
       "      <td>LM6413LM6415LM6415</td>\n",
       "      <td>0.3333</td>\n",
       "    </tr>\n",
       "    <tr>\n",
       "      <td>218</td>\n",
       "      <td>0SJ1001</td>\n",
       "      <td>2</td>\n",
       "      <td>0.0000</td>\n",
       "    </tr>\n",
       "    <tr>\n",
       "      <td>226</td>\n",
       "      <td>CBX1617</td>\n",
       "      <td>omd</td>\n",
       "      <td>0.0000</td>\n",
       "    </tr>\n",
       "    <tr>\n",
       "      <td>241</td>\n",
       "      <td>PMC1865</td>\n",
       "      <td>A</td>\n",
       "      <td>0.0000</td>\n",
       "    </tr>\n",
       "    <tr>\n",
       "      <td>259</td>\n",
       "      <td>GT674I</td>\n",
       "      <td>ARGT67AOGrGT674I0</td>\n",
       "      <td>0.3529</td>\n",
       "    </tr>\n",
       "    <tr>\n",
       "      <td>267</td>\n",
       "      <td>DKC710</td>\n",
       "      <td>AR1IA</td>\n",
       "      <td>0.1667</td>\n",
       "    </tr>\n",
       "    <tr>\n",
       "      <td>284</td>\n",
       "      <td>TL0LZ97</td>\n",
       "      <td>BJU8486</td>\n",
       "      <td>0.0000</td>\n",
       "    </tr>\n",
       "    <tr>\n",
       "      <td>285</td>\n",
       "      <td>PKK4260</td>\n",
       "      <td>TLOLZ97</td>\n",
       "      <td>0.0000</td>\n",
       "    </tr>\n",
       "    <tr>\n",
       "      <td>286</td>\n",
       "      <td>CDE4576</td>\n",
       "      <td>PKK4260</td>\n",
       "      <td>0.2857</td>\n",
       "    </tr>\n",
       "    <tr>\n",
       "      <td>287</td>\n",
       "      <td>COF5475</td>\n",
       "      <td>LUE4576</td>\n",
       "      <td>0.4286</td>\n",
       "    </tr>\n",
       "    <tr>\n",
       "      <td>288</td>\n",
       "      <td>BHA6999</td>\n",
       "      <td>COF5475</td>\n",
       "      <td>0.0000</td>\n",
       "    </tr>\n",
       "    <tr>\n",
       "      <td>289</td>\n",
       "      <td>PTI6129</td>\n",
       "      <td>BHA6999</td>\n",
       "      <td>0.2857</td>\n",
       "    </tr>\n",
       "    <tr>\n",
       "      <td>290</td>\n",
       "      <td>PKN5816</td>\n",
       "      <td>PTI6120</td>\n",
       "      <td>0.4286</td>\n",
       "    </tr>\n",
       "    <tr>\n",
       "      <td>291</td>\n",
       "      <td>55AJ272</td>\n",
       "      <td>PKN5816</td>\n",
       "      <td>0.1429</td>\n",
       "    </tr>\n",
       "    <tr>\n",
       "      <td>292</td>\n",
       "      <td>BGT6055</td>\n",
       "      <td>55A3272</td>\n",
       "      <td>0.2857</td>\n",
       "    </tr>\n",
       "    <tr>\n",
       "      <td>293</td>\n",
       "      <td>WI4022</td>\n",
       "      <td>BGT6055</td>\n",
       "      <td>0.1667</td>\n",
       "    </tr>\n",
       "    <tr>\n",
       "      <td>294</td>\n",
       "      <td>AHU3603</td>\n",
       "      <td>4022</td>\n",
       "      <td>0.1429</td>\n",
       "    </tr>\n",
       "    <tr>\n",
       "      <td>295</td>\n",
       "      <td>CBH4632</td>\n",
       "      <td>AHU3603</td>\n",
       "      <td>0.4286</td>\n",
       "    </tr>\n",
       "    <tr>\n",
       "      <td>297</td>\n",
       "      <td>PNM669</td>\n",
       "      <td>CBH4632</td>\n",
       "      <td>0.1667</td>\n",
       "    </tr>\n",
       "    <tr>\n",
       "      <td>298</td>\n",
       "      <td>BQS9828</td>\n",
       "      <td>PNA3669</td>\n",
       "      <td>0.1429</td>\n",
       "    </tr>\n",
       "    <tr>\n",
       "      <td>299</td>\n",
       "      <td>PQY1251</td>\n",
       "      <td>BOS9828</td>\n",
       "      <td>0.1429</td>\n",
       "    </tr>\n",
       "    <tr>\n",
       "      <td>300</td>\n",
       "      <td>N1999</td>\n",
       "      <td>PQY1251</td>\n",
       "      <td>0.2000</td>\n",
       "    </tr>\n",
       "    <tr>\n",
       "      <td>301</td>\n",
       "      <td>AYD8990</td>\n",
       "      <td>PKN1990</td>\n",
       "      <td>0.4286</td>\n",
       "    </tr>\n",
       "    <tr>\n",
       "      <td>302</td>\n",
       "      <td>CCB6168</td>\n",
       "      <td>AYD8990</td>\n",
       "      <td>0.1429</td>\n",
       "    </tr>\n",
       "    <tr>\n",
       "      <td>303</td>\n",
       "      <td>AHH1959</td>\n",
       "      <td>CCB6168</td>\n",
       "      <td>0.1429</td>\n",
       "    </tr>\n",
       "    <tr>\n",
       "      <td>304</td>\n",
       "      <td>AXQ7148</td>\n",
       "      <td>AHH1959</td>\n",
       "      <td>0.2857</td>\n",
       "    </tr>\n",
       "    <tr>\n",
       "      <td>305</td>\n",
       "      <td>PFH5968</td>\n",
       "      <td>AXQ7148</td>\n",
       "      <td>0.1429</td>\n",
       "    </tr>\n",
       "    <tr>\n",
       "      <td>306</td>\n",
       "      <td>CCA8520</td>\n",
       "      <td>PFH5968</td>\n",
       "      <td>0.2857</td>\n",
       "    </tr>\n",
       "    <tr>\n",
       "      <td>307</td>\n",
       "      <td>BMP2235</td>\n",
       "      <td>CCA8520</td>\n",
       "      <td>0.2857</td>\n",
       "    </tr>\n",
       "    <tr>\n",
       "      <td>308</td>\n",
       "      <td>PJK9377</td>\n",
       "      <td>BMP2235</td>\n",
       "      <td>0.2857</td>\n",
       "    </tr>\n",
       "    <tr>\n",
       "      <td>309</td>\n",
       "      <td>PFC0358</td>\n",
       "      <td>PJK9377</td>\n",
       "      <td>0.2857</td>\n",
       "    </tr>\n",
       "    <tr>\n",
       "      <td>310</td>\n",
       "      <td>PWA4139</td>\n",
       "      <td>PFCO35R</td>\n",
       "      <td>0.2857</td>\n",
       "    </tr>\n",
       "    <tr>\n",
       "      <td>311</td>\n",
       "      <td>BUE1615</td>\n",
       "      <td>PWA4139</td>\n",
       "      <td>0.1429</td>\n",
       "    </tr>\n",
       "    <tr>\n",
       "      <td>312</td>\n",
       "      <td>CCR5557</td>\n",
       "      <td>BUE-1615</td>\n",
       "      <td>0.1429</td>\n",
       "    </tr>\n",
       "    <tr>\n",
       "      <td>313</td>\n",
       "      <td>BGU9437</td>\n",
       "      <td>CCR5557</td>\n",
       "      <td>0.1429</td>\n",
       "    </tr>\n",
       "    <tr>\n",
       "      <td>314</td>\n",
       "      <td>PHP1760</td>\n",
       "      <td>BGU8437</td>\n",
       "      <td>0.1429</td>\n",
       "    </tr>\n",
       "    <tr>\n",
       "      <td>315</td>\n",
       "      <td>BML1929</td>\n",
       "      <td>PHP1760</td>\n",
       "      <td>0.1429</td>\n",
       "    </tr>\n",
       "    <tr>\n",
       "      <td>316</td>\n",
       "      <td>BRQ0010</td>\n",
       "      <td>BML929</td>\n",
       "      <td>0.1429</td>\n",
       "    </tr>\n",
       "    <tr>\n",
       "      <td>317</td>\n",
       "      <td>CBX1629</td>\n",
       "      <td>BRO0010</td>\n",
       "      <td>0.2857</td>\n",
       "    </tr>\n",
       "    <tr>\n",
       "      <td>318</td>\n",
       "      <td>PIN2121</td>\n",
       "      <td>CBX1629</td>\n",
       "      <td>0.2857</td>\n",
       "    </tr>\n",
       "  </tbody>\n",
       "</table>\n",
       "</div>"
      ],
      "text/plain": [
       "         VRN     Rekognition_VRN  Accuracy\n",
       "26       PA2             PJA2635    0.4286\n",
       "35    329ZPS             J29.7pc    0.3333\n",
       "56   CDI4709             L014700    0.4286\n",
       "58   CCE2893              LE2802    0.4286\n",
       "72   PJG1201                 Go;    0.1429\n",
       "109   C0TY1C            comcasto    0.0000\n",
       "110   E1N1IY           800XFIMTY    0.3333\n",
       "119      AHT             AHT1570    0.4286\n",
       "142      111            QUALITYA    0.0000\n",
       "150  PMC6509               F6500    0.4286\n",
       "167   LM6415  LM6413LM6415LM6415    0.3333\n",
       "218  0SJ1001                   2    0.0000\n",
       "226  CBX1617                 omd    0.0000\n",
       "241  PMC1865                   A    0.0000\n",
       "259   GT674I   ARGT67AOGrGT674I0    0.3529\n",
       "267   DKC710               AR1IA    0.1667\n",
       "284  TL0LZ97             BJU8486    0.0000\n",
       "285  PKK4260             TLOLZ97    0.0000\n",
       "286  CDE4576             PKK4260    0.2857\n",
       "287  COF5475             LUE4576    0.4286\n",
       "288  BHA6999             COF5475    0.0000\n",
       "289  PTI6129             BHA6999    0.2857\n",
       "290  PKN5816             PTI6120    0.4286\n",
       "291  55AJ272             PKN5816    0.1429\n",
       "292  BGT6055             55A3272    0.2857\n",
       "293   WI4022             BGT6055    0.1667\n",
       "294  AHU3603                4022    0.1429\n",
       "295  CBH4632             AHU3603    0.4286\n",
       "297   PNM669             CBH4632    0.1667\n",
       "298  BQS9828             PNA3669    0.1429\n",
       "299  PQY1251             BOS9828    0.1429\n",
       "300    N1999             PQY1251    0.2000\n",
       "301  AYD8990             PKN1990    0.4286\n",
       "302  CCB6168             AYD8990    0.1429\n",
       "303  AHH1959             CCB6168    0.1429\n",
       "304  AXQ7148             AHH1959    0.2857\n",
       "305  PFH5968             AXQ7148    0.1429\n",
       "306  CCA8520             PFH5968    0.2857\n",
       "307  BMP2235             CCA8520    0.2857\n",
       "308  PJK9377             BMP2235    0.2857\n",
       "309  PFC0358             PJK9377    0.2857\n",
       "310  PWA4139             PFCO35R    0.2857\n",
       "311  BUE1615             PWA4139    0.1429\n",
       "312  CCR5557            BUE-1615    0.1429\n",
       "313  BGU9437             CCR5557    0.1429\n",
       "314  PHP1760             BGU8437    0.1429\n",
       "315  BML1929             PHP1760    0.1429\n",
       "316  BRQ0010              BML929    0.1429\n",
       "317  CBX1629             BRO0010    0.2857\n",
       "318  PIN2121             CBX1629    0.2857"
      ]
     },
     "execution_count": 195,
     "metadata": {},
     "output_type": "execute_result"
    }
   ],
   "source": [
    "#Analyx=zing non-matches\n",
    "\n",
    "nonmatch[nonmatch.Accuracy<0.50].head(50)"
   ]
  },
  {
   "cell_type": "code",
   "execution_count": 255,
   "metadata": {},
   "outputs": [
    {
     "name": "stdout",
     "output_type": "stream",
     "text": [
      "mean: 68.38090909090884\n",
      "mode: 0    85.71\n",
      "dtype: float64\n",
      "std: 30.634067484596727\n"
     ]
    }
   ],
   "source": [
    "print('mean:',(nonmatch['Accuracy']).mean())\n",
    "print('mode:',(nonmatch['Accuracy']).mode())\n",
    "print ('std:', np.array(nonmatch['Accuracy']).std())"
   ]
  }
 ],
 "metadata": {
  "kernelspec": {
   "display_name": "Python 3",
   "language": "python",
   "name": "python3"
  },
  "language_info": {
   "codemirror_mode": {
    "name": "ipython",
    "version": 3
   },
   "file_extension": ".py",
   "mimetype": "text/x-python",
   "name": "python",
   "nbconvert_exporter": "python",
   "pygments_lexer": "ipython3",
   "version": "3.7.4"
  }
 },
 "nbformat": 4,
 "nbformat_minor": 2
}
