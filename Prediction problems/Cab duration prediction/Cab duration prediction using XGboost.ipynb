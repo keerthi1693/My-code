{
 "cells": [
  {
   "cell_type": "markdown",
   "metadata": {},
   "source": [
    "#### Import Libraries "
   ]
  },
  {
   "cell_type": "code",
   "execution_count": 2,
   "metadata": {},
   "outputs": [],
   "source": [
    "#Import Libraries \n",
    "import numpy as np # linear algebra\n",
    "import pandas as pd # data processing, CSV file I/O (e.g. pd.read_csv)\n",
    "import matplotlib.pyplot as plt\n",
    "import seaborn as sns\n",
    "import xgboost as xgb\n",
    "from sklearn import metrics"
   ]
  },
  {
   "cell_type": "code",
   "execution_count": 90,
   "metadata": {},
   "outputs": [],
   "source": [
    "#Read the training data\n",
    "dataset = pd.read_csv('Train.csv')\n",
    "X_test = pd.read_csv('Test.csv')"
   ]
  },
  {
   "cell_type": "markdown",
   "metadata": {},
   "source": [
    "##### Training Dataset Dimensions"
   ]
  },
  {
   "cell_type": "code",
   "execution_count": 38,
   "metadata": {
    "scrolled": true
   },
   "outputs": [
    {
     "data": {
      "text/html": [
       "<div>\n",
       "<style scoped>\n",
       "    .dataframe tbody tr th:only-of-type {\n",
       "        vertical-align: middle;\n",
       "    }\n",
       "\n",
       "    .dataframe tbody tr th {\n",
       "        vertical-align: top;\n",
       "    }\n",
       "\n",
       "    .dataframe thead th {\n",
       "        text-align: right;\n",
       "    }\n",
       "</style>\n",
       "<table border=\"1\" class=\"dataframe\">\n",
       "  <thead>\n",
       "    <tr style=\"text-align: right;\">\n",
       "      <th></th>\n",
       "      <th>pickup_datetime</th>\n",
       "      <th>NumberOfPassengers</th>\n",
       "      <th>duration</th>\n",
       "      <th>pickup_x</th>\n",
       "      <th>pickup_y</th>\n",
       "      <th>dropoff_x</th>\n",
       "      <th>dropoff_y</th>\n",
       "    </tr>\n",
       "  </thead>\n",
       "  <tbody>\n",
       "    <tr>\n",
       "      <th>0</th>\n",
       "      <td>2034-06-07 20:47:29</td>\n",
       "      <td>1</td>\n",
       "      <td>434</td>\n",
       "      <td>135.428113</td>\n",
       "      <td>321.190773</td>\n",
       "      <td>141.317712</td>\n",
       "      <td>321.357802</td>\n",
       "    </tr>\n",
       "    <tr>\n",
       "      <th>1</th>\n",
       "      <td>2034-04-14 08:00:21</td>\n",
       "      <td>1</td>\n",
       "      <td>415</td>\n",
       "      <td>148.781291</td>\n",
       "      <td>322.565536</td>\n",
       "      <td>157.145868</td>\n",
       "      <td>337.052655</td>\n",
       "    </tr>\n",
       "    <tr>\n",
       "      <th>2</th>\n",
       "      <td>2034-04-20 18:57:16</td>\n",
       "      <td>2</td>\n",
       "      <td>398</td>\n",
       "      <td>124.000006</td>\n",
       "      <td>313.347763</td>\n",
       "      <td>131.362606</td>\n",
       "      <td>300.613585</td>\n",
       "    </tr>\n",
       "    <tr>\n",
       "      <th>3</th>\n",
       "      <td>2034-04-28 22:40:52</td>\n",
       "      <td>1</td>\n",
       "      <td>746</td>\n",
       "      <td>124.288413</td>\n",
       "      <td>316.495404</td>\n",
       "      <td>143.284351</td>\n",
       "      <td>334.542116</td>\n",
       "    </tr>\n",
       "    <tr>\n",
       "      <th>4</th>\n",
       "      <td>2034-05-28 11:39:56</td>\n",
       "      <td>1</td>\n",
       "      <td>102</td>\n",
       "      <td>177.344861</td>\n",
       "      <td>358.087844</td>\n",
       "      <td>168.709489</td>\n",
       "      <td>363.038196</td>\n",
       "    </tr>\n",
       "  </tbody>\n",
       "</table>\n",
       "</div>"
      ],
      "text/plain": [
       "       pickup_datetime  NumberOfPassengers  duration    pickup_x    pickup_y  \\\n",
       "0  2034-06-07 20:47:29                   1       434  135.428113  321.190773   \n",
       "1  2034-04-14 08:00:21                   1       415  148.781291  322.565536   \n",
       "2  2034-04-20 18:57:16                   2       398  124.000006  313.347763   \n",
       "3  2034-04-28 22:40:52                   1       746  124.288413  316.495404   \n",
       "4  2034-05-28 11:39:56                   1       102  177.344861  358.087844   \n",
       "\n",
       "    dropoff_x   dropoff_y  \n",
       "0  141.317712  321.357802  \n",
       "1  157.145868  337.052655  \n",
       "2  131.362606  300.613585  \n",
       "3  143.284351  334.542116  \n",
       "4  168.709489  363.038196  "
      ]
     },
     "execution_count": 38,
     "metadata": {},
     "output_type": "execute_result"
    }
   ],
   "source": [
    "dataset.head()"
   ]
  },
  {
   "cell_type": "markdown",
   "metadata": {},
   "source": [
    "##### Test Dataset Dimensions"
   ]
  },
  {
   "cell_type": "code",
   "execution_count": 39,
   "metadata": {
    "scrolled": true
   },
   "outputs": [
    {
     "data": {
      "text/html": [
       "<div>\n",
       "<style scoped>\n",
       "    .dataframe tbody tr th:only-of-type {\n",
       "        vertical-align: middle;\n",
       "    }\n",
       "\n",
       "    .dataframe tbody tr th {\n",
       "        vertical-align: top;\n",
       "    }\n",
       "\n",
       "    .dataframe thead th {\n",
       "        text-align: right;\n",
       "    }\n",
       "</style>\n",
       "<table border=\"1\" class=\"dataframe\">\n",
       "  <thead>\n",
       "    <tr style=\"text-align: right;\">\n",
       "      <th></th>\n",
       "      <th>pickup_datetime</th>\n",
       "      <th>NumberOfPassengers</th>\n",
       "      <th>pickup_x</th>\n",
       "      <th>pickup_y</th>\n",
       "      <th>dropoff_x</th>\n",
       "      <th>dropoff_y</th>\n",
       "    </tr>\n",
       "  </thead>\n",
       "  <tbody>\n",
       "    <tr>\n",
       "      <th>0</th>\n",
       "      <td>2034-03-14 08:28:17</td>\n",
       "      <td>2</td>\n",
       "      <td>155.108652</td>\n",
       "      <td>322.284140</td>\n",
       "      <td>148.058424</td>\n",
       "      <td>332.814003</td>\n",
       "    </tr>\n",
       "    <tr>\n",
       "      <th>1</th>\n",
       "      <td>2034-04-20 09:04:41</td>\n",
       "      <td>1</td>\n",
       "      <td>146.628808</td>\n",
       "      <td>306.343423</td>\n",
       "      <td>154.284090</td>\n",
       "      <td>339.899155</td>\n",
       "    </tr>\n",
       "    <tr>\n",
       "      <th>2</th>\n",
       "      <td>2034-01-25 00:46:04</td>\n",
       "      <td>2</td>\n",
       "      <td>132.028079</td>\n",
       "      <td>319.183942</td>\n",
       "      <td>149.318583</td>\n",
       "      <td>384.810789</td>\n",
       "    </tr>\n",
       "    <tr>\n",
       "      <th>3</th>\n",
       "      <td>2034-02-01 22:20:46</td>\n",
       "      <td>2</td>\n",
       "      <td>175.776769</td>\n",
       "      <td>344.277029</td>\n",
       "      <td>159.039740</td>\n",
       "      <td>311.756787</td>\n",
       "    </tr>\n",
       "    <tr>\n",
       "      <th>4</th>\n",
       "      <td>2034-04-15 23:29:21</td>\n",
       "      <td>2</td>\n",
       "      <td>128.428489</td>\n",
       "      <td>295.153348</td>\n",
       "      <td>126.011933</td>\n",
       "      <td>309.548102</td>\n",
       "    </tr>\n",
       "  </tbody>\n",
       "</table>\n",
       "</div>"
      ],
      "text/plain": [
       "       pickup_datetime  NumberOfPassengers    pickup_x    pickup_y  \\\n",
       "0  2034-03-14 08:28:17                   2  155.108652  322.284140   \n",
       "1  2034-04-20 09:04:41                   1  146.628808  306.343423   \n",
       "2  2034-01-25 00:46:04                   2  132.028079  319.183942   \n",
       "3  2034-02-01 22:20:46                   2  175.776769  344.277029   \n",
       "4  2034-04-15 23:29:21                   2  128.428489  295.153348   \n",
       "\n",
       "    dropoff_x   dropoff_y  \n",
       "0  148.058424  332.814003  \n",
       "1  154.284090  339.899155  \n",
       "2  149.318583  384.810789  \n",
       "3  159.039740  311.756787  \n",
       "4  126.011933  309.548102  "
      ]
     },
     "execution_count": 39,
     "metadata": {},
     "output_type": "execute_result"
    }
   ],
   "source": [
    "X_test.head()"
   ]
  },
  {
   "cell_type": "code",
   "execution_count": 40,
   "metadata": {},
   "outputs": [
    {
     "data": {
      "text/plain": [
       "pickup_datetime       0\n",
       "NumberOfPassengers    0\n",
       "pickup_x              0\n",
       "pickup_y              0\n",
       "dropoff_x             0\n",
       "dropoff_y             0\n",
       "dtype: int64"
      ]
     },
     "execution_count": 40,
     "metadata": {},
     "output_type": "execute_result"
    }
   ],
   "source": [
    "X_test.isnull().sum()"
   ]
  },
  {
   "cell_type": "markdown",
   "metadata": {},
   "source": [
    "##### Summary of Train Set"
   ]
  },
  {
   "cell_type": "code",
   "execution_count": 41,
   "metadata": {
    "scrolled": true
   },
   "outputs": [
    {
     "name": "stdout",
     "output_type": "stream",
     "text": [
      "A view of the test dataframe\n",
      "       pickup_datetime  NumberOfPassengers  duration    pickup_x    pickup_y  \\\n",
      "0  2034-06-07 20:47:29                   1       434  135.428113  321.190773   \n",
      "1  2034-04-14 08:00:21                   1       415  148.781291  322.565536   \n",
      "2  2034-04-20 18:57:16                   2       398  124.000006  313.347763   \n",
      "3  2034-04-28 22:40:52                   1       746  124.288413  316.495404   \n",
      "4  2034-05-28 11:39:56                   1       102  177.344861  358.087844   \n",
      "\n",
      "    dropoff_x   dropoff_y  \n",
      "0  141.317712  321.357802  \n",
      "1  157.145868  337.052655  \n",
      "2  131.362606  300.613585  \n",
      "3  143.284351  334.542116  \n",
      "4  168.709489  363.038196  \n",
      "\n",
      "Columns in test dataset :  Index(['pickup_datetime', 'NumberOfPassengers', 'duration', 'pickup_x',\n",
      "       'pickup_y', 'dropoff_x', 'dropoff_y'],\n",
      "      dtype='object')\n",
      "\n",
      "\n",
      "Overall description of the train dataset : \n",
      "<class 'pandas.core.frame.DataFrame'>\n",
      "RangeIndex: 1000000 entries, 0 to 999999\n",
      "Data columns (total 7 columns):\n",
      "pickup_datetime       1000000 non-null object\n",
      "NumberOfPassengers    1000000 non-null int64\n",
      "duration              1000000 non-null int64\n",
      "pickup_x              1000000 non-null float64\n",
      "pickup_y              1000000 non-null float64\n",
      "dropoff_x             1000000 non-null float64\n",
      "dropoff_y             1000000 non-null float64\n",
      "dtypes: float64(4), int64(2), object(1)\n",
      "memory usage: 53.4+ MB\n",
      "None\n"
     ]
    }
   ],
   "source": [
    "#Summary of Train Set\n",
    "print(\"A view of the test dataframe\")\n",
    "print(dataset.head())\n",
    "print(\"\\nColumns in test dataset : \", dataset.columns)\n",
    "print(\"\\n\")\n",
    "print(\"Overall description of the train dataset : \")\n",
    "print(dataset.info())"
   ]
  },
  {
   "cell_type": "markdown",
   "metadata": {},
   "source": [
    "##### Summary of Test Set"
   ]
  },
  {
   "cell_type": "code",
   "execution_count": 42,
   "metadata": {
    "scrolled": true
   },
   "outputs": [
    {
     "name": "stdout",
     "output_type": "stream",
     "text": [
      "A view of the test dataframe\n",
      "       pickup_datetime  NumberOfPassengers    pickup_x    pickup_y  \\\n",
      "0  2034-03-14 08:28:17                   2  155.108652  322.284140   \n",
      "1  2034-04-20 09:04:41                   1  146.628808  306.343423   \n",
      "2  2034-01-25 00:46:04                   2  132.028079  319.183942   \n",
      "3  2034-02-01 22:20:46                   2  175.776769  344.277029   \n",
      "4  2034-04-15 23:29:21                   2  128.428489  295.153348   \n",
      "\n",
      "    dropoff_x   dropoff_y  \n",
      "0  148.058424  332.814003  \n",
      "1  154.284090  339.899155  \n",
      "2  149.318583  384.810789  \n",
      "3  159.039740  311.756787  \n",
      "4  126.011933  309.548102  \n",
      "\n",
      "Columns in test dataset :  Index(['pickup_datetime', 'NumberOfPassengers', 'pickup_x', 'pickup_y',\n",
      "       'dropoff_x', 'dropoff_y'],\n",
      "      dtype='object')\n",
      "\n",
      "\n",
      "Overall description of the train dataset : \n",
      "<class 'pandas.core.frame.DataFrame'>\n",
      "RangeIndex: 200000 entries, 0 to 199999\n",
      "Data columns (total 6 columns):\n",
      "pickup_datetime       200000 non-null object\n",
      "NumberOfPassengers    200000 non-null int64\n",
      "pickup_x              200000 non-null float64\n",
      "pickup_y              200000 non-null float64\n",
      "dropoff_x             200000 non-null float64\n",
      "dropoff_y             200000 non-null float64\n",
      "dtypes: float64(4), int64(1), object(1)\n",
      "memory usage: 9.2+ MB\n",
      "None\n"
     ]
    }
   ],
   "source": [
    "#Summary of Test Set\n",
    "print(\"A view of the test dataframe\")\n",
    "print(X_test.head())\n",
    "print(\"\\nColumns in test dataset : \", X_test.columns)\n",
    "print(\"\\n\")\n",
    "print(\"Overall description of the train dataset : \")\n",
    "print(X_test.info())"
   ]
  },
  {
   "cell_type": "markdown",
   "metadata": {},
   "source": [
    "##### Format Date Time for pickup_datetime - Training Set Data"
   ]
  },
  {
   "cell_type": "code",
   "execution_count": 4,
   "metadata": {},
   "outputs": [],
   "source": [
    "#Pick-off and Drop-off Column from Training Set Data\n",
    "dataset['pickup_datetime'] = pd.to_datetime(dataset['pickup_datetime'])\n",
    "\n",
    "\n",
    "dataset['pickup_day'] = dataset['pickup_datetime'].dt.day\n",
    "dataset['pickup_month'] = dataset['pickup_datetime'].dt.month\n",
    "dataset['pickup_weekday'] = dataset['pickup_datetime'].dt.weekday\n",
    "dataset['pickup_hour'] = dataset['pickup_datetime'].dt.hour"
   ]
  },
  {
   "cell_type": "code",
   "execution_count": 44,
   "metadata": {
    "scrolled": true
   },
   "outputs": [
    {
     "data": {
      "text/html": [
       "<div>\n",
       "<style scoped>\n",
       "    .dataframe tbody tr th:only-of-type {\n",
       "        vertical-align: middle;\n",
       "    }\n",
       "\n",
       "    .dataframe tbody tr th {\n",
       "        vertical-align: top;\n",
       "    }\n",
       "\n",
       "    .dataframe thead th {\n",
       "        text-align: right;\n",
       "    }\n",
       "</style>\n",
       "<table border=\"1\" class=\"dataframe\">\n",
       "  <thead>\n",
       "    <tr style=\"text-align: right;\">\n",
       "      <th></th>\n",
       "      <th>pickup_datetime</th>\n",
       "      <th>NumberOfPassengers</th>\n",
       "      <th>duration</th>\n",
       "      <th>pickup_x</th>\n",
       "      <th>pickup_y</th>\n",
       "      <th>dropoff_x</th>\n",
       "      <th>dropoff_y</th>\n",
       "      <th>pickup_day</th>\n",
       "      <th>pickup_month</th>\n",
       "      <th>pickup_weekday</th>\n",
       "      <th>pickup_hour</th>\n",
       "    </tr>\n",
       "  </thead>\n",
       "  <tbody>\n",
       "    <tr>\n",
       "      <th>0</th>\n",
       "      <td>2034-06-07 20:47:29</td>\n",
       "      <td>1</td>\n",
       "      <td>434</td>\n",
       "      <td>135.428113</td>\n",
       "      <td>321.190773</td>\n",
       "      <td>141.317712</td>\n",
       "      <td>321.357802</td>\n",
       "      <td>7</td>\n",
       "      <td>6</td>\n",
       "      <td>2</td>\n",
       "      <td>20</td>\n",
       "    </tr>\n",
       "    <tr>\n",
       "      <th>1</th>\n",
       "      <td>2034-04-14 08:00:21</td>\n",
       "      <td>1</td>\n",
       "      <td>415</td>\n",
       "      <td>148.781291</td>\n",
       "      <td>322.565536</td>\n",
       "      <td>157.145868</td>\n",
       "      <td>337.052655</td>\n",
       "      <td>14</td>\n",
       "      <td>4</td>\n",
       "      <td>4</td>\n",
       "      <td>8</td>\n",
       "    </tr>\n",
       "    <tr>\n",
       "      <th>2</th>\n",
       "      <td>2034-04-20 18:57:16</td>\n",
       "      <td>2</td>\n",
       "      <td>398</td>\n",
       "      <td>124.000006</td>\n",
       "      <td>313.347763</td>\n",
       "      <td>131.362606</td>\n",
       "      <td>300.613585</td>\n",
       "      <td>20</td>\n",
       "      <td>4</td>\n",
       "      <td>3</td>\n",
       "      <td>18</td>\n",
       "    </tr>\n",
       "    <tr>\n",
       "      <th>3</th>\n",
       "      <td>2034-04-28 22:40:52</td>\n",
       "      <td>1</td>\n",
       "      <td>746</td>\n",
       "      <td>124.288413</td>\n",
       "      <td>316.495404</td>\n",
       "      <td>143.284351</td>\n",
       "      <td>334.542116</td>\n",
       "      <td>28</td>\n",
       "      <td>4</td>\n",
       "      <td>4</td>\n",
       "      <td>22</td>\n",
       "    </tr>\n",
       "    <tr>\n",
       "      <th>4</th>\n",
       "      <td>2034-05-28 11:39:56</td>\n",
       "      <td>1</td>\n",
       "      <td>102</td>\n",
       "      <td>177.344861</td>\n",
       "      <td>358.087844</td>\n",
       "      <td>168.709489</td>\n",
       "      <td>363.038196</td>\n",
       "      <td>28</td>\n",
       "      <td>5</td>\n",
       "      <td>6</td>\n",
       "      <td>11</td>\n",
       "    </tr>\n",
       "  </tbody>\n",
       "</table>\n",
       "</div>"
      ],
      "text/plain": [
       "      pickup_datetime  NumberOfPassengers  duration    pickup_x    pickup_y  \\\n",
       "0 2034-06-07 20:47:29                   1       434  135.428113  321.190773   \n",
       "1 2034-04-14 08:00:21                   1       415  148.781291  322.565536   \n",
       "2 2034-04-20 18:57:16                   2       398  124.000006  313.347763   \n",
       "3 2034-04-28 22:40:52                   1       746  124.288413  316.495404   \n",
       "4 2034-05-28 11:39:56                   1       102  177.344861  358.087844   \n",
       "\n",
       "    dropoff_x   dropoff_y  pickup_day  pickup_month  pickup_weekday  \\\n",
       "0  141.317712  321.357802           7             6               2   \n",
       "1  157.145868  337.052655          14             4               4   \n",
       "2  131.362606  300.613585          20             4               3   \n",
       "3  143.284351  334.542116          28             4               4   \n",
       "4  168.709489  363.038196          28             5               6   \n",
       "\n",
       "   pickup_hour  \n",
       "0           20  \n",
       "1            8  \n",
       "2           18  \n",
       "3           22  \n",
       "4           11  "
      ]
     },
     "execution_count": 44,
     "metadata": {},
     "output_type": "execute_result"
    }
   ],
   "source": [
    "dataset.head()"
   ]
  },
  {
   "cell_type": "markdown",
   "metadata": {},
   "source": [
    "##### Format Date Time for pickup_datetime - Test Set Data"
   ]
  },
  {
   "cell_type": "code",
   "execution_count": 5,
   "metadata": {},
   "outputs": [],
   "source": [
    "#Pick-off and Drop-off Column from Training Set Data\n",
    "X_test['pickup_datetime'] = pd.to_datetime(X_test['pickup_datetime'])\n",
    "\n",
    "\n",
    "X_test['pickup_day'] = X_test['pickup_datetime'].dt.day\n",
    "X_test['pickup_month'] = X_test['pickup_datetime'].dt.month\n",
    "X_test['pickup_weekday'] = X_test['pickup_datetime'].dt.weekday\n",
    "X_test['pickup_hour'] = X_test['pickup_datetime'].dt.hour"
   ]
  },
  {
   "cell_type": "code",
   "execution_count": 46,
   "metadata": {},
   "outputs": [
    {
     "data": {
      "text/html": [
       "<div>\n",
       "<style scoped>\n",
       "    .dataframe tbody tr th:only-of-type {\n",
       "        vertical-align: middle;\n",
       "    }\n",
       "\n",
       "    .dataframe tbody tr th {\n",
       "        vertical-align: top;\n",
       "    }\n",
       "\n",
       "    .dataframe thead th {\n",
       "        text-align: right;\n",
       "    }\n",
       "</style>\n",
       "<table border=\"1\" class=\"dataframe\">\n",
       "  <thead>\n",
       "    <tr style=\"text-align: right;\">\n",
       "      <th></th>\n",
       "      <th>pickup_datetime</th>\n",
       "      <th>NumberOfPassengers</th>\n",
       "      <th>pickup_x</th>\n",
       "      <th>pickup_y</th>\n",
       "      <th>dropoff_x</th>\n",
       "      <th>dropoff_y</th>\n",
       "      <th>pickup_day</th>\n",
       "      <th>pickup_month</th>\n",
       "      <th>pickup_weekday</th>\n",
       "      <th>pickup_hour</th>\n",
       "    </tr>\n",
       "  </thead>\n",
       "  <tbody>\n",
       "    <tr>\n",
       "      <th>0</th>\n",
       "      <td>2034-03-14 08:28:17</td>\n",
       "      <td>2</td>\n",
       "      <td>155.108652</td>\n",
       "      <td>322.284140</td>\n",
       "      <td>148.058424</td>\n",
       "      <td>332.814003</td>\n",
       "      <td>14</td>\n",
       "      <td>3</td>\n",
       "      <td>1</td>\n",
       "      <td>8</td>\n",
       "    </tr>\n",
       "    <tr>\n",
       "      <th>1</th>\n",
       "      <td>2034-04-20 09:04:41</td>\n",
       "      <td>1</td>\n",
       "      <td>146.628808</td>\n",
       "      <td>306.343423</td>\n",
       "      <td>154.284090</td>\n",
       "      <td>339.899155</td>\n",
       "      <td>20</td>\n",
       "      <td>4</td>\n",
       "      <td>3</td>\n",
       "      <td>9</td>\n",
       "    </tr>\n",
       "    <tr>\n",
       "      <th>2</th>\n",
       "      <td>2034-01-25 00:46:04</td>\n",
       "      <td>2</td>\n",
       "      <td>132.028079</td>\n",
       "      <td>319.183942</td>\n",
       "      <td>149.318583</td>\n",
       "      <td>384.810789</td>\n",
       "      <td>25</td>\n",
       "      <td>1</td>\n",
       "      <td>2</td>\n",
       "      <td>0</td>\n",
       "    </tr>\n",
       "    <tr>\n",
       "      <th>3</th>\n",
       "      <td>2034-02-01 22:20:46</td>\n",
       "      <td>2</td>\n",
       "      <td>175.776769</td>\n",
       "      <td>344.277029</td>\n",
       "      <td>159.039740</td>\n",
       "      <td>311.756787</td>\n",
       "      <td>1</td>\n",
       "      <td>2</td>\n",
       "      <td>2</td>\n",
       "      <td>22</td>\n",
       "    </tr>\n",
       "    <tr>\n",
       "      <th>4</th>\n",
       "      <td>2034-04-15 23:29:21</td>\n",
       "      <td>2</td>\n",
       "      <td>128.428489</td>\n",
       "      <td>295.153348</td>\n",
       "      <td>126.011933</td>\n",
       "      <td>309.548102</td>\n",
       "      <td>15</td>\n",
       "      <td>4</td>\n",
       "      <td>5</td>\n",
       "      <td>23</td>\n",
       "    </tr>\n",
       "  </tbody>\n",
       "</table>\n",
       "</div>"
      ],
      "text/plain": [
       "      pickup_datetime  NumberOfPassengers    pickup_x    pickup_y   dropoff_x  \\\n",
       "0 2034-03-14 08:28:17                   2  155.108652  322.284140  148.058424   \n",
       "1 2034-04-20 09:04:41                   1  146.628808  306.343423  154.284090   \n",
       "2 2034-01-25 00:46:04                   2  132.028079  319.183942  149.318583   \n",
       "3 2034-02-01 22:20:46                   2  175.776769  344.277029  159.039740   \n",
       "4 2034-04-15 23:29:21                   2  128.428489  295.153348  126.011933   \n",
       "\n",
       "    dropoff_y  pickup_day  pickup_month  pickup_weekday  pickup_hour  \n",
       "0  332.814003          14             3               1            8  \n",
       "1  339.899155          20             4               3            9  \n",
       "2  384.810789          25             1               2            0  \n",
       "3  311.756787           1             2               2           22  \n",
       "4  309.548102          15             4               5           23  "
      ]
     },
     "execution_count": 46,
     "metadata": {},
     "output_type": "execute_result"
    }
   ],
   "source": [
    "X_test.head()"
   ]
  },
  {
   "cell_type": "markdown",
   "metadata": {},
   "source": [
    "### EDA with Training set data"
   ]
  },
  {
   "cell_type": "code",
   "execution_count": 91,
   "metadata": {},
   "outputs": [
    {
     "data": {
      "text/plain": [
       "<matplotlib.axes._subplots.AxesSubplot at 0x1e98ba03848>"
      ]
     },
     "execution_count": 91,
     "metadata": {},
     "output_type": "execute_result"
    },
    {
     "data": {
      "image/png": "[encoded data removed]",
      "text/plain": [
       "<Figure size 864x432 with 2 Axes>"
      ]
     },
     "metadata": {
      "needs_background": "light"
     },
     "output_type": "display_data"
    }
   ],
   "source": [
    "import seaborn as sns\n",
    "\n",
    "plt.figure(figsize=(12,6))\n",
    "sns.heatmap(dataset.corr(),cmap='coolwarm',annot=True)"
   ]
  },
  {
   "cell_type": "code",
   "execution_count": 47,
   "metadata": {},
   "outputs": [
    {
     "name": "stdout",
     "output_type": "stream",
     "text": [
      "Maximum number of passengers on a trip :  7\n",
      "Minimum number of passengers on a trip :  0\n",
      "Average number of passengers on a trip :  1.665165\n"
     ]
    },
    {
     "data": {
      "image/png": "[encoded data removed]",
      "text/plain": [
       "<Figure size 720x360 with 1 Axes>"
      ]
     },
     "metadata": {
      "needs_background": "light"
     },
     "output_type": "display_data"
    }
   ],
   "source": [
    "#Passenger Count/ Number of Pick\n",
    "pass_count = X_test['NumberOfPassengers']\n",
    "print(\"Maximum number of passengers on a trip : \", np.max(pass_count.values))\n",
    "print(\"Minimum number of passengers on a trip : \", np.min(pass_count.values))\n",
    "print(\"Average number of passengers on a trip : \", np.mean(pass_count.values))\n",
    "\n",
    "f = plt.figure(figsize=(10,5))\n",
    "pass_count = dataset['NumberOfPassengers'].value_counts()\n",
    "sns.barplot(pass_count.index, pass_count.values, alpha=0.7)\n",
    "plt.xlabel('Number of passengers on a trip', fontsize=14)\n",
    "plt.ylabel('Count', fontsize=14)\n",
    "plt.show()"
   ]
  },
  {
   "cell_type": "markdown",
   "metadata": {},
   "source": [
    "#### Analysis of Number of Pick-ups - Training Set Data"
   ]
  },
  {
   "cell_type": "code",
   "execution_count": 48,
   "metadata": {},
   "outputs": [
    {
     "data": {
      "image/png": "[encoded data removed]",
      "text/plain": [
       "<Figure size 1080x360 with 1 Axes>"
      ]
     },
     "metadata": {
      "needs_background": "light"
     },
     "output_type": "display_data"
    }
   ],
   "source": [
    "f = plt.figure(figsize=(15,5))\n",
    "sns.countplot(x='pickup_day', data=dataset)\n",
    "plt.xlabel('Day of month', fontsize=14)\n",
    "plt.ylabel('Pickup count', fontsize=14)\n",
    "plt.show()"
   ]
  },
  {
   "cell_type": "code",
   "execution_count": 49,
   "metadata": {},
   "outputs": [
    {
     "data": {
      "image/png": "[encoded data removed]",
      "text/plain": [
       "<Figure size 1080x360 with 1 Axes>"
      ]
     },
     "metadata": {
      "needs_background": "light"
     },
     "output_type": "display_data"
    }
   ],
   "source": [
    "f = plt.figure(figsize=(15,5))\n",
    "sns.countplot(x='pickup_month', data=dataset)\n",
    "plt.xlabel('Month', fontsize=14)\n",
    "plt.ylabel('Pickup count', fontsize=14)\n",
    "plt.show()"
   ]
  },
  {
   "cell_type": "code",
   "execution_count": 50,
   "metadata": {},
   "outputs": [
    {
     "data": {
      "image/png": "[encoded data removed]",
      "text/plain": [
       "<Figure size 1080x360 with 1 Axes>"
      ]
     },
     "metadata": {
      "needs_background": "light"
     },
     "output_type": "display_data"
    }
   ],
   "source": [
    "f = plt.figure(figsize=(15,5))\n",
    "days = [i for i in range(7)]\n",
    "sns.countplot(x='pickup_weekday', data=dataset)\n",
    "plt.xlabel('Day of the week', fontsize=14)\n",
    "plt.ylabel('Pickup count', fontsize=14)\n",
    "plt.xticks(days, ('Monday', 'Tuesday', 'Wednesday', 'Thursday', 'Friday', 'Saturday', 'Sunday'))\n",
    "plt.show()"
   ]
  },
  {
   "cell_type": "code",
   "execution_count": 51,
   "metadata": {},
   "outputs": [
    {
     "data": {
      "image/png": "[encoded data removed]",
      "text/plain": [
       "<Figure size 1080x360 with 1 Axes>"
      ]
     },
     "metadata": {
      "needs_background": "light"
     },
     "output_type": "display_data"
    }
   ],
   "source": [
    "f = plt.figure(figsize=(15,5))\n",
    "sns.countplot(x='pickup_hour', data=dataset)\n",
    "plt.xlabel('Hour', fontsize=14)\n",
    "plt.ylabel('Pickup count', fontsize=14)\n",
    "plt.show()"
   ]
  },
  {
   "cell_type": "markdown",
   "metadata": {},
   "source": [
    "##### The highest number of pickups are around 6pm and 7pm in the evening which makes sense as many people are on their\n",
    "way to home from office."
   ]
  },
  {
   "cell_type": "code",
   "execution_count": 52,
   "metadata": {},
   "outputs": [
    {
     "data": {
      "image/png": "[encoded data removed]",
      "text/plain": [
       "<Figure size 720x576 with 1 Axes>"
      ]
     },
     "metadata": {
      "needs_background": "light"
     },
     "output_type": "display_data"
    }
   ],
   "source": [
    "f = plt.figure(figsize=(10,8))\n",
    "days = [i for i in range(7)]\n",
    "sns.countplot(x='pickup_weekday', data=dataset, hue='pickup_hour', alpha=0.8)\n",
    "plt.xlabel('Day of the week', fontsize=14)\n",
    "plt.ylabel('Pickup count', fontsize=14)\n",
    "plt.xticks(days, ('Monday', 'Tuesday', 'Wednesday', 'Thursday', 'Friday', 'Saturday', 'Sunday'))\n",
    "plt.legend(loc=(1.04,0))\n",
    "plt.show()"
   ]
  },
  {
   "cell_type": "markdown",
   "metadata": {},
   "source": [
    "#### Analysis of Trip Duration"
   ]
  },
  {
   "cell_type": "code",
   "execution_count": 53,
   "metadata": {},
   "outputs": [
    {
     "data": {
      "image/png": "[encoded data removed]",
      "text/plain": [
       "<Figure size 864x216 with 1 Axes>"
      ]
     },
     "metadata": {
      "needs_background": "light"
     },
     "output_type": "display_data"
    }
   ],
   "source": [
    "# Trip duration distribution, minutes\n",
    "plt.figure(figsize=(12,3))\n",
    "plt.title('Trip Duration Distribution')\n",
    "plt.xlabel('Trip Duration, minutes')\n",
    "plt.ylabel('No of Trips made')\n",
    "plt.hist(dataset.duration/60, bins=100)\n",
    "pass"
   ]
  },
  {
   "cell_type": "code",
   "execution_count": 7,
   "metadata": {},
   "outputs": [
    {
     "data": {
      "image/png": "[encoded data removed]",
      "text/plain": [
       "<Figure size 864x144 with 2 Axes>"
      ]
     },
     "metadata": {
      "needs_background": "light"
     },
     "output_type": "display_data"
    }
   ],
   "source": [
    "# Trip duration, based on hour-of-day vs. weekday\n",
    "# Pickup heatmap, Day vs hour\n",
    "plt.figure(figsize=(12,2))\n",
    "sns.heatmap(data=pd.crosstab(dataset.pickup_day, \n",
    "                             dataset.pickup_hour, \n",
    "                             values=dataset.duration/60, \n",
    "                             aggfunc='mean',\n",
    "                             ))\n",
    "\n",
    "plt.title('Trip duration heatmap (Minutes), Day-of-Week vs. Day Hour')\n",
    "plt.ylabel('Weekday') ; plt.xlabel('Day Hour, 0-23')\n",
    "plt.yticks(range(0,7), rotation='horizontal')\n",
    "pass"
   ]
  },
  {
   "cell_type": "code",
   "execution_count": 55,
   "metadata": {
    "scrolled": true
   },
   "outputs": [
    {
     "name": "stderr",
     "output_type": "stream",
     "text": [
      "C:\\Users\\supri\\Anaconda3\\lib\\site-packages\\pandas\\plotting\\_converter.py:129: FutureWarning: Using an implicitly registered datetime converter for a matplotlib plotting method. The converter was registered by pandas on import. Future versions of pandas will require you to explicitly register matplotlib converters.\n",
      "\n",
      "To register the converters:\n",
      "\t>>> from pandas.plotting import register_matplotlib_converters\n",
      "\t>>> register_matplotlib_converters()\n",
      "  warnings.warn(msg, FutureWarning)\n"
     ]
    },
    {
     "data": {
      "image/png": "[encoded data removed]",
      "text/plain": [
       "<Figure size 864x288 with 1 Axes>"
      ]
     },
     "metadata": {
      "needs_background": "light"
     },
     "output_type": "display_data"
    }
   ],
   "source": [
    "# Trip duration time-series by day, mean vs. median\n",
    "data = dataset.groupby(dataset.pickup_datetime.dt.date).aggregate({'duration':['mean', 'median']})/60\n",
    "plt.figure(figsize=(12,4))\n",
    "plt.title('Trip Duration Over Time (Mean vs. Median)')\n",
    "plt.ylabel('Trip Duration, minutes') ; plt.xlabel('Timeline')\n",
    "plt.plot(data)\n",
    "plt.legend(['Mean', 'Median'])\n",
    "pass"
   ]
  },
  {
   "cell_type": "markdown",
   "metadata": {},
   "source": [
    "##### Calculate Distance for Training Set Data"
   ]
  },
  {
   "cell_type": "code",
   "execution_count": 56,
   "metadata": {},
   "outputs": [
    {
     "name": "stdout",
     "output_type": "stream",
     "text": [
      "Requirement already satisfied: haversine in c:\\users\\supri\\anaconda3\\lib\\site-packages (2.2.0)\n",
      "Note: you may need to restart the kernel to use updated packages.\n"
     ]
    }
   ],
   "source": [
    "pip install haversine"
   ]
  },
  {
   "cell_type": "code",
   "execution_count": 8,
   "metadata": {},
   "outputs": [],
   "source": [
    "#Calculate Distance\n",
    "from haversine import haversine\n",
    "\n",
    "def calc_distance(df):\n",
    "    dis_x = (df['pickup_x'], df['dropoff_x'])\n",
    "    dis_y = (df['pickup_y'], df['dropoff_y'])\n",
    "    return haversine(dis_x, dis_y)"
   ]
  },
  {
   "cell_type": "code",
   "execution_count": 9,
   "metadata": {},
   "outputs": [],
   "source": [
    "#Calculate distance and assign new column to the dataframe.\n",
    "dataset['distance'] = dataset.apply(lambda x: calc_distance(x), axis = 1)"
   ]
  },
  {
   "cell_type": "code",
   "execution_count": 10,
   "metadata": {
    "scrolled": false
   },
   "outputs": [
    {
     "data": {
      "text/html": [
       "<div>\n",
       "<style scoped>\n",
       "    .dataframe tbody tr th:only-of-type {\n",
       "        vertical-align: middle;\n",
       "    }\n",
       "\n",
       "    .dataframe tbody tr th {\n",
       "        vertical-align: top;\n",
       "    }\n",
       "\n",
       "    .dataframe thead th {\n",
       "        text-align: right;\n",
       "    }\n",
       "</style>\n",
       "<table border=\"1\" class=\"dataframe\">\n",
       "  <thead>\n",
       "    <tr style=\"text-align: right;\">\n",
       "      <th></th>\n",
       "      <th>index</th>\n",
       "      <th>0</th>\n",
       "    </tr>\n",
       "  </thead>\n",
       "  <tbody>\n",
       "    <tr>\n",
       "      <td>0</td>\n",
       "      <td>pickup_datetime</td>\n",
       "      <td>datetime64[ns]</td>\n",
       "    </tr>\n",
       "    <tr>\n",
       "      <td>1</td>\n",
       "      <td>NumberOfPassengers</td>\n",
       "      <td>int64</td>\n",
       "    </tr>\n",
       "    <tr>\n",
       "      <td>2</td>\n",
       "      <td>duration</td>\n",
       "      <td>int64</td>\n",
       "    </tr>\n",
       "    <tr>\n",
       "      <td>3</td>\n",
       "      <td>pickup_x</td>\n",
       "      <td>float64</td>\n",
       "    </tr>\n",
       "    <tr>\n",
       "      <td>4</td>\n",
       "      <td>pickup_y</td>\n",
       "      <td>float64</td>\n",
       "    </tr>\n",
       "    <tr>\n",
       "      <td>5</td>\n",
       "      <td>dropoff_x</td>\n",
       "      <td>float64</td>\n",
       "    </tr>\n",
       "    <tr>\n",
       "      <td>6</td>\n",
       "      <td>dropoff_y</td>\n",
       "      <td>float64</td>\n",
       "    </tr>\n",
       "    <tr>\n",
       "      <td>7</td>\n",
       "      <td>pickup_day</td>\n",
       "      <td>int64</td>\n",
       "    </tr>\n",
       "    <tr>\n",
       "      <td>8</td>\n",
       "      <td>pickup_month</td>\n",
       "      <td>int64</td>\n",
       "    </tr>\n",
       "    <tr>\n",
       "      <td>9</td>\n",
       "      <td>pickup_weekday</td>\n",
       "      <td>int64</td>\n",
       "    </tr>\n",
       "    <tr>\n",
       "      <td>10</td>\n",
       "      <td>pickup_hour</td>\n",
       "      <td>int64</td>\n",
       "    </tr>\n",
       "    <tr>\n",
       "      <td>11</td>\n",
       "      <td>distance</td>\n",
       "      <td>float64</td>\n",
       "    </tr>\n",
       "  </tbody>\n",
       "</table>\n",
       "</div>"
      ],
      "text/plain": [
       "                 index               0\n",
       "0      pickup_datetime  datetime64[ns]\n",
       "1   NumberOfPassengers           int64\n",
       "2             duration           int64\n",
       "3             pickup_x         float64\n",
       "4             pickup_y         float64\n",
       "5            dropoff_x         float64\n",
       "6            dropoff_y         float64\n",
       "7           pickup_day           int64\n",
       "8         pickup_month           int64\n",
       "9       pickup_weekday           int64\n",
       "10         pickup_hour           int64\n",
       "11            distance         float64"
      ]
     },
     "execution_count": 10,
     "metadata": {},
     "output_type": "execute_result"
    }
   ],
   "source": [
    "#Check the type of each variable\n",
    "dataset.dtypes.reset_index()"
   ]
  },
  {
   "cell_type": "code",
   "execution_count": 19,
   "metadata": {
    "scrolled": true
   },
   "outputs": [],
   "source": [
    "#Drop Datetime\n",
    "dataset = dataset.drop(columns=['pickup_datetime'])"
   ]
  },
  {
   "cell_type": "code",
   "execution_count": 20,
   "metadata": {
    "scrolled": false
   },
   "outputs": [
    {
     "data": {
      "text/html": [
       "<div>\n",
       "<style scoped>\n",
       "    .dataframe tbody tr th:only-of-type {\n",
       "        vertical-align: middle;\n",
       "    }\n",
       "\n",
       "    .dataframe tbody tr th {\n",
       "        vertical-align: top;\n",
       "    }\n",
       "\n",
       "    .dataframe thead th {\n",
       "        text-align: right;\n",
       "    }\n",
       "</style>\n",
       "<table border=\"1\" class=\"dataframe\">\n",
       "  <thead>\n",
       "    <tr style=\"text-align: right;\">\n",
       "      <th></th>\n",
       "      <th>NumberOfPassengers</th>\n",
       "      <th>duration</th>\n",
       "      <th>pickup_x</th>\n",
       "      <th>pickup_y</th>\n",
       "      <th>dropoff_x</th>\n",
       "      <th>dropoff_y</th>\n",
       "      <th>pickup_day</th>\n",
       "      <th>pickup_month</th>\n",
       "      <th>pickup_weekday</th>\n",
       "      <th>pickup_hour</th>\n",
       "      <th>distance</th>\n",
       "    </tr>\n",
       "  </thead>\n",
       "  <tbody>\n",
       "    <tr>\n",
       "      <td>0</td>\n",
       "      <td>1</td>\n",
       "      <td>434</td>\n",
       "      <td>135.428113</td>\n",
       "      <td>321.190773</td>\n",
       "      <td>141.317712</td>\n",
       "      <td>321.357802</td>\n",
       "      <td>7</td>\n",
       "      <td>6</td>\n",
       "      <td>2</td>\n",
       "      <td>20</td>\n",
       "      <td>9271.570449</td>\n",
       "    </tr>\n",
       "    <tr>\n",
       "      <td>1</td>\n",
       "      <td>1</td>\n",
       "      <td>415</td>\n",
       "      <td>148.781291</td>\n",
       "      <td>322.565536</td>\n",
       "      <td>157.145868</td>\n",
       "      <td>337.052655</td>\n",
       "      <td>14</td>\n",
       "      <td>4</td>\n",
       "      <td>4</td>\n",
       "      <td>8</td>\n",
       "      <td>7633.901287</td>\n",
       "    </tr>\n",
       "    <tr>\n",
       "      <td>2</td>\n",
       "      <td>2</td>\n",
       "      <td>398</td>\n",
       "      <td>124.000006</td>\n",
       "      <td>313.347763</td>\n",
       "      <td>131.362606</td>\n",
       "      <td>300.613585</td>\n",
       "      <td>20</td>\n",
       "      <td>4</td>\n",
       "      <td>3</td>\n",
       "      <td>18</td>\n",
       "      <td>11458.434732</td>\n",
       "    </tr>\n",
       "    <tr>\n",
       "      <td>3</td>\n",
       "      <td>1</td>\n",
       "      <td>746</td>\n",
       "      <td>124.288413</td>\n",
       "      <td>316.495404</td>\n",
       "      <td>143.284351</td>\n",
       "      <td>334.542116</td>\n",
       "      <td>28</td>\n",
       "      <td>4</td>\n",
       "      <td>4</td>\n",
       "      <td>22</td>\n",
       "      <td>11083.130265</td>\n",
       "    </tr>\n",
       "    <tr>\n",
       "      <td>4</td>\n",
       "      <td>1</td>\n",
       "      <td>102</td>\n",
       "      <td>177.344861</td>\n",
       "      <td>358.087844</td>\n",
       "      <td>168.709489</td>\n",
       "      <td>363.038196</td>\n",
       "      <td>28</td>\n",
       "      <td>5</td>\n",
       "      <td>6</td>\n",
       "      <td>11</td>\n",
       "      <td>1671.830110</td>\n",
       "    </tr>\n",
       "  </tbody>\n",
       "</table>\n",
       "</div>"
      ],
      "text/plain": [
       "   NumberOfPassengers  duration    pickup_x    pickup_y   dropoff_x  \\\n",
       "0                   1       434  135.428113  321.190773  141.317712   \n",
       "1                   1       415  148.781291  322.565536  157.145868   \n",
       "2                   2       398  124.000006  313.347763  131.362606   \n",
       "3                   1       746  124.288413  316.495404  143.284351   \n",
       "4                   1       102  177.344861  358.087844  168.709489   \n",
       "\n",
       "    dropoff_y  pickup_day  pickup_month  pickup_weekday  pickup_hour  \\\n",
       "0  321.357802           7             6               2           20   \n",
       "1  337.052655          14             4               4            8   \n",
       "2  300.613585          20             4               3           18   \n",
       "3  334.542116          28             4               4           22   \n",
       "4  363.038196          28             5               6           11   \n",
       "\n",
       "       distance  \n",
       "0   9271.570449  \n",
       "1   7633.901287  \n",
       "2  11458.434732  \n",
       "3  11083.130265  \n",
       "4   1671.830110  "
      ]
     },
     "execution_count": 20,
     "metadata": {},
     "output_type": "execute_result"
    }
   ],
   "source": [
    "dataset.head()"
   ]
  },
  {
   "cell_type": "markdown",
   "metadata": {},
   "source": [
    "##### Calculate Distance for Test Set Data"
   ]
  },
  {
   "cell_type": "code",
   "execution_count": 64,
   "metadata": {
    "scrolled": true
   },
   "outputs": [
    {
     "name": "stdout",
     "output_type": "stream",
     "text": [
      "Requirement already satisfied: haversine in c:\\users\\supri\\anaconda3\\lib\\site-packages (2.2.0)\n",
      "Note: you may need to restart the kernel to use updated packages.\n"
     ]
    }
   ],
   "source": [
    "pip install haversine"
   ]
  },
  {
   "cell_type": "code",
   "execution_count": 13,
   "metadata": {},
   "outputs": [],
   "source": [
    "#Calculate Distance\n",
    "from haversine import haversine\n",
    "\n",
    "def calc_distance(df):\n",
    "    dis_x = (df['pickup_x'], df['dropoff_x'])\n",
    "    dis_y = (df['pickup_y'], df['dropoff_y'])\n",
    "    return haversine(dis_x, dis_y)"
   ]
  },
  {
   "cell_type": "code",
   "execution_count": 14,
   "metadata": {},
   "outputs": [],
   "source": [
    "#Calculate distance and assign new column to the dataframe.\n",
    "X_test['distance'] = X_test.apply(lambda x: calc_distance(x), axis = 1)"
   ]
  },
  {
   "cell_type": "code",
   "execution_count": 15,
   "metadata": {},
   "outputs": [
    {
     "data": {
      "text/html": [
       "<div>\n",
       "<style scoped>\n",
       "    .dataframe tbody tr th:only-of-type {\n",
       "        vertical-align: middle;\n",
       "    }\n",
       "\n",
       "    .dataframe tbody tr th {\n",
       "        vertical-align: top;\n",
       "    }\n",
       "\n",
       "    .dataframe thead th {\n",
       "        text-align: right;\n",
       "    }\n",
       "</style>\n",
       "<table border=\"1\" class=\"dataframe\">\n",
       "  <thead>\n",
       "    <tr style=\"text-align: right;\">\n",
       "      <th></th>\n",
       "      <th>index</th>\n",
       "      <th>0</th>\n",
       "    </tr>\n",
       "  </thead>\n",
       "  <tbody>\n",
       "    <tr>\n",
       "      <td>0</td>\n",
       "      <td>pickup_datetime</td>\n",
       "      <td>datetime64[ns]</td>\n",
       "    </tr>\n",
       "    <tr>\n",
       "      <td>1</td>\n",
       "      <td>NumberOfPassengers</td>\n",
       "      <td>int64</td>\n",
       "    </tr>\n",
       "    <tr>\n",
       "      <td>2</td>\n",
       "      <td>pickup_x</td>\n",
       "      <td>float64</td>\n",
       "    </tr>\n",
       "    <tr>\n",
       "      <td>3</td>\n",
       "      <td>pickup_y</td>\n",
       "      <td>float64</td>\n",
       "    </tr>\n",
       "    <tr>\n",
       "      <td>4</td>\n",
       "      <td>dropoff_x</td>\n",
       "      <td>float64</td>\n",
       "    </tr>\n",
       "    <tr>\n",
       "      <td>5</td>\n",
       "      <td>dropoff_y</td>\n",
       "      <td>float64</td>\n",
       "    </tr>\n",
       "    <tr>\n",
       "      <td>6</td>\n",
       "      <td>pickup_day</td>\n",
       "      <td>int64</td>\n",
       "    </tr>\n",
       "    <tr>\n",
       "      <td>7</td>\n",
       "      <td>pickup_month</td>\n",
       "      <td>int64</td>\n",
       "    </tr>\n",
       "    <tr>\n",
       "      <td>8</td>\n",
       "      <td>pickup_weekday</td>\n",
       "      <td>int64</td>\n",
       "    </tr>\n",
       "    <tr>\n",
       "      <td>9</td>\n",
       "      <td>pickup_hour</td>\n",
       "      <td>int64</td>\n",
       "    </tr>\n",
       "    <tr>\n",
       "      <td>10</td>\n",
       "      <td>distance</td>\n",
       "      <td>float64</td>\n",
       "    </tr>\n",
       "  </tbody>\n",
       "</table>\n",
       "</div>"
      ],
      "text/plain": [
       "                 index               0\n",
       "0      pickup_datetime  datetime64[ns]\n",
       "1   NumberOfPassengers           int64\n",
       "2             pickup_x         float64\n",
       "3             pickup_y         float64\n",
       "4            dropoff_x         float64\n",
       "5            dropoff_y         float64\n",
       "6           pickup_day           int64\n",
       "7         pickup_month           int64\n",
       "8       pickup_weekday           int64\n",
       "9          pickup_hour           int64\n",
       "10            distance         float64"
      ]
     },
     "execution_count": 15,
     "metadata": {},
     "output_type": "execute_result"
    }
   ],
   "source": [
    "#Check the type of each variable\n",
    "X_test.dtypes.reset_index()"
   ]
  },
  {
   "cell_type": "code",
   "execution_count": 21,
   "metadata": {},
   "outputs": [],
   "source": [
    "#Drop Datetime\n",
    "X_test = X_test.drop(columns=['pickup_datetime'])"
   ]
  },
  {
   "cell_type": "code",
   "execution_count": 22,
   "metadata": {},
   "outputs": [
    {
     "data": {
      "text/html": [
       "<div>\n",
       "<style scoped>\n",
       "    .dataframe tbody tr th:only-of-type {\n",
       "        vertical-align: middle;\n",
       "    }\n",
       "\n",
       "    .dataframe tbody tr th {\n",
       "        vertical-align: top;\n",
       "    }\n",
       "\n",
       "    .dataframe thead th {\n",
       "        text-align: right;\n",
       "    }\n",
       "</style>\n",
       "<table border=\"1\" class=\"dataframe\">\n",
       "  <thead>\n",
       "    <tr style=\"text-align: right;\">\n",
       "      <th></th>\n",
       "      <th>NumberOfPassengers</th>\n",
       "      <th>pickup_x</th>\n",
       "      <th>pickup_y</th>\n",
       "      <th>dropoff_x</th>\n",
       "      <th>dropoff_y</th>\n",
       "      <th>pickup_day</th>\n",
       "      <th>pickup_month</th>\n",
       "      <th>pickup_weekday</th>\n",
       "      <th>pickup_hour</th>\n",
       "      <th>distance</th>\n",
       "    </tr>\n",
       "  </thead>\n",
       "  <tbody>\n",
       "    <tr>\n",
       "      <td>0</td>\n",
       "      <td>2</td>\n",
       "      <td>155.108652</td>\n",
       "      <td>322.284140</td>\n",
       "      <td>148.058424</td>\n",
       "      <td>332.814003</td>\n",
       "      <td>14</td>\n",
       "      <td>3</td>\n",
       "      <td>1</td>\n",
       "      <td>8</td>\n",
       "      <td>6979.326557</td>\n",
       "    </tr>\n",
       "    <tr>\n",
       "      <td>1</td>\n",
       "      <td>1</td>\n",
       "      <td>146.628808</td>\n",
       "      <td>306.343423</td>\n",
       "      <td>154.284090</td>\n",
       "      <td>339.899155</td>\n",
       "      <td>20</td>\n",
       "      <td>4</td>\n",
       "      <td>3</td>\n",
       "      <td>9</td>\n",
       "      <td>9692.208681</td>\n",
       "    </tr>\n",
       "    <tr>\n",
       "      <td>2</td>\n",
       "      <td>2</td>\n",
       "      <td>132.028079</td>\n",
       "      <td>319.183942</td>\n",
       "      <td>149.318583</td>\n",
       "      <td>384.810789</td>\n",
       "      <td>25</td>\n",
       "      <td>1</td>\n",
       "      <td>2</td>\n",
       "      <td>0</td>\n",
       "      <td>11280.560651</td>\n",
       "    </tr>\n",
       "    <tr>\n",
       "      <td>3</td>\n",
       "      <td>2</td>\n",
       "      <td>175.776769</td>\n",
       "      <td>344.277029</td>\n",
       "      <td>159.039740</td>\n",
       "      <td>311.756787</td>\n",
       "      <td>1</td>\n",
       "      <td>2</td>\n",
       "      <td>2</td>\n",
       "      <td>22</td>\n",
       "      <td>3732.710936</td>\n",
       "    </tr>\n",
       "    <tr>\n",
       "      <td>4</td>\n",
       "      <td>2</td>\n",
       "      <td>128.428489</td>\n",
       "      <td>295.153348</td>\n",
       "      <td>126.011933</td>\n",
       "      <td>309.548102</td>\n",
       "      <td>15</td>\n",
       "      <td>4</td>\n",
       "      <td>5</td>\n",
       "      <td>23</td>\n",
       "      <td>12948.705695</td>\n",
       "    </tr>\n",
       "  </tbody>\n",
       "</table>\n",
       "</div>"
      ],
      "text/plain": [
       "   NumberOfPassengers    pickup_x    pickup_y   dropoff_x   dropoff_y  \\\n",
       "0                   2  155.108652  322.284140  148.058424  332.814003   \n",
       "1                   1  146.628808  306.343423  154.284090  339.899155   \n",
       "2                   2  132.028079  319.183942  149.318583  384.810789   \n",
       "3                   2  175.776769  344.277029  159.039740  311.756787   \n",
       "4                   2  128.428489  295.153348  126.011933  309.548102   \n",
       "\n",
       "   pickup_day  pickup_month  pickup_weekday  pickup_hour      distance  \n",
       "0          14             3               1            8   6979.326557  \n",
       "1          20             4               3            9   9692.208681  \n",
       "2          25             1               2            0  11280.560651  \n",
       "3           1             2               2           22   3732.710936  \n",
       "4          15             4               5           23  12948.705695  "
      ]
     },
     "execution_count": 22,
     "metadata": {},
     "output_type": "execute_result"
    }
   ],
   "source": [
    "X_test.head()"
   ]
  },
  {
   "cell_type": "markdown",
   "metadata": {},
   "source": [
    "## Modelling"
   ]
  },
  {
   "cell_type": "markdown",
   "metadata": {},
   "source": [
    "#### Split the Data"
   ]
  },
  {
   "cell_type": "code",
   "execution_count": 18,
   "metadata": {},
   "outputs": [],
   "source": [
    "from sklearn.model_selection import train_test_split"
   ]
  },
  {
   "cell_type": "code",
   "execution_count": 73,
   "metadata": {},
   "outputs": [],
   "source": [
    "#traindata = dataset1.drop(columns=['duration'])\n",
    "#y = dataset['duration']\n",
    "\n",
    "#X_train, X_test, y_train, y_test = train_test_split(traindata, y, test_size=0.2)\n",
    "#print(X_train.shape, y_train.shape)\n",
    "#print(X_test.shape, y_test.shape)"
   ]
  },
  {
   "cell_type": "code",
   "execution_count": 30,
   "metadata": {},
   "outputs": [],
   "source": [
    "X_train = dataset.drop(columns=['duration'])\n",
    "y_train = dataset['duration']"
   ]
  },
  {
   "cell_type": "code",
   "execution_count": 31,
   "metadata": {},
   "outputs": [
    {
     "name": "stdout",
     "output_type": "stream",
     "text": [
      "(1000000, 10) (1000000,)\n",
      "(200000, 10)\n"
     ]
    }
   ],
   "source": [
    "print(X_train.shape, y_train.shape)\n",
    "print(X_test.shape)"
   ]
  },
  {
   "cell_type": "code",
   "execution_count": 76,
   "metadata": {
    "scrolled": true
   },
   "outputs": [
    {
     "data": {
      "text/html": [
       "<div>\n",
       "<style scoped>\n",
       "    .dataframe tbody tr th:only-of-type {\n",
       "        vertical-align: middle;\n",
       "    }\n",
       "\n",
       "    .dataframe tbody tr th {\n",
       "        vertical-align: top;\n",
       "    }\n",
       "\n",
       "    .dataframe thead th {\n",
       "        text-align: right;\n",
       "    }\n",
       "</style>\n",
       "<table border=\"1\" class=\"dataframe\">\n",
       "  <thead>\n",
       "    <tr style=\"text-align: right;\">\n",
       "      <th></th>\n",
       "      <th>NumberOfPassengers</th>\n",
       "      <th>pickup_x</th>\n",
       "      <th>pickup_y</th>\n",
       "      <th>dropoff_x</th>\n",
       "      <th>dropoff_y</th>\n",
       "      <th>pickup_day</th>\n",
       "      <th>pickup_month</th>\n",
       "      <th>pickup_weekday</th>\n",
       "      <th>pickup_hour</th>\n",
       "      <th>distance</th>\n",
       "    </tr>\n",
       "  </thead>\n",
       "  <tbody>\n",
       "    <tr>\n",
       "      <th>0</th>\n",
       "      <td>1</td>\n",
       "      <td>135.428113</td>\n",
       "      <td>321.190773</td>\n",
       "      <td>141.317712</td>\n",
       "      <td>321.357802</td>\n",
       "      <td>7</td>\n",
       "      <td>6</td>\n",
       "      <td>2</td>\n",
       "      <td>20</td>\n",
       "      <td>9271.570449</td>\n",
       "    </tr>\n",
       "    <tr>\n",
       "      <th>1</th>\n",
       "      <td>1</td>\n",
       "      <td>148.781291</td>\n",
       "      <td>322.565536</td>\n",
       "      <td>157.145868</td>\n",
       "      <td>337.052655</td>\n",
       "      <td>14</td>\n",
       "      <td>4</td>\n",
       "      <td>4</td>\n",
       "      <td>8</td>\n",
       "      <td>7633.901287</td>\n",
       "    </tr>\n",
       "    <tr>\n",
       "      <th>2</th>\n",
       "      <td>2</td>\n",
       "      <td>124.000006</td>\n",
       "      <td>313.347763</td>\n",
       "      <td>131.362606</td>\n",
       "      <td>300.613585</td>\n",
       "      <td>20</td>\n",
       "      <td>4</td>\n",
       "      <td>3</td>\n",
       "      <td>18</td>\n",
       "      <td>11458.434732</td>\n",
       "    </tr>\n",
       "    <tr>\n",
       "      <th>3</th>\n",
       "      <td>1</td>\n",
       "      <td>124.288413</td>\n",
       "      <td>316.495404</td>\n",
       "      <td>143.284351</td>\n",
       "      <td>334.542116</td>\n",
       "      <td>28</td>\n",
       "      <td>4</td>\n",
       "      <td>4</td>\n",
       "      <td>22</td>\n",
       "      <td>11083.130265</td>\n",
       "    </tr>\n",
       "    <tr>\n",
       "      <th>4</th>\n",
       "      <td>1</td>\n",
       "      <td>177.344861</td>\n",
       "      <td>358.087844</td>\n",
       "      <td>168.709489</td>\n",
       "      <td>363.038196</td>\n",
       "      <td>28</td>\n",
       "      <td>5</td>\n",
       "      <td>6</td>\n",
       "      <td>11</td>\n",
       "      <td>1671.830110</td>\n",
       "    </tr>\n",
       "  </tbody>\n",
       "</table>\n",
       "</div>"
      ],
      "text/plain": [
       "   NumberOfPassengers    pickup_x    pickup_y   dropoff_x   dropoff_y  \\\n",
       "0                   1  135.428113  321.190773  141.317712  321.357802   \n",
       "1                   1  148.781291  322.565536  157.145868  337.052655   \n",
       "2                   2  124.000006  313.347763  131.362606  300.613585   \n",
       "3                   1  124.288413  316.495404  143.284351  334.542116   \n",
       "4                   1  177.344861  358.087844  168.709489  363.038196   \n",
       "\n",
       "   pickup_day  pickup_month  pickup_weekday  pickup_hour      distance  \n",
       "0           7             6               2           20   9271.570449  \n",
       "1          14             4               4            8   7633.901287  \n",
       "2          20             4               3           18  11458.434732  \n",
       "3          28             4               4           22  11083.130265  \n",
       "4          28             5               6           11   1671.830110  "
      ]
     },
     "execution_count": 76,
     "metadata": {},
     "output_type": "execute_result"
    }
   ],
   "source": [
    "X_train.head()"
   ]
  },
  {
   "cell_type": "code",
   "execution_count": 25,
   "metadata": {
    "scrolled": false
   },
   "outputs": [
    {
     "data": {
      "text/html": [
       "<div>\n",
       "<style scoped>\n",
       "    .dataframe tbody tr th:only-of-type {\n",
       "        vertical-align: middle;\n",
       "    }\n",
       "\n",
       "    .dataframe tbody tr th {\n",
       "        vertical-align: top;\n",
       "    }\n",
       "\n",
       "    .dataframe thead th {\n",
       "        text-align: right;\n",
       "    }\n",
       "</style>\n",
       "<table border=\"1\" class=\"dataframe\">\n",
       "  <thead>\n",
       "    <tr style=\"text-align: right;\">\n",
       "      <th></th>\n",
       "      <th>NumberOfPassengers</th>\n",
       "      <th>pickup_x</th>\n",
       "      <th>pickup_y</th>\n",
       "      <th>dropoff_x</th>\n",
       "      <th>dropoff_y</th>\n",
       "      <th>pickup_day</th>\n",
       "      <th>pickup_month</th>\n",
       "      <th>pickup_weekday</th>\n",
       "      <th>pickup_hour</th>\n",
       "      <th>distance</th>\n",
       "    </tr>\n",
       "  </thead>\n",
       "  <tbody>\n",
       "    <tr>\n",
       "      <td>0</td>\n",
       "      <td>2</td>\n",
       "      <td>155.108652</td>\n",
       "      <td>322.284140</td>\n",
       "      <td>148.058424</td>\n",
       "      <td>332.814003</td>\n",
       "      <td>14</td>\n",
       "      <td>3</td>\n",
       "      <td>1</td>\n",
       "      <td>8</td>\n",
       "      <td>6979.326557</td>\n",
       "    </tr>\n",
       "    <tr>\n",
       "      <td>1</td>\n",
       "      <td>1</td>\n",
       "      <td>146.628808</td>\n",
       "      <td>306.343423</td>\n",
       "      <td>154.284090</td>\n",
       "      <td>339.899155</td>\n",
       "      <td>20</td>\n",
       "      <td>4</td>\n",
       "      <td>3</td>\n",
       "      <td>9</td>\n",
       "      <td>9692.208681</td>\n",
       "    </tr>\n",
       "    <tr>\n",
       "      <td>2</td>\n",
       "      <td>2</td>\n",
       "      <td>132.028079</td>\n",
       "      <td>319.183942</td>\n",
       "      <td>149.318583</td>\n",
       "      <td>384.810789</td>\n",
       "      <td>25</td>\n",
       "      <td>1</td>\n",
       "      <td>2</td>\n",
       "      <td>0</td>\n",
       "      <td>11280.560651</td>\n",
       "    </tr>\n",
       "    <tr>\n",
       "      <td>3</td>\n",
       "      <td>2</td>\n",
       "      <td>175.776769</td>\n",
       "      <td>344.277029</td>\n",
       "      <td>159.039740</td>\n",
       "      <td>311.756787</td>\n",
       "      <td>1</td>\n",
       "      <td>2</td>\n",
       "      <td>2</td>\n",
       "      <td>22</td>\n",
       "      <td>3732.710936</td>\n",
       "    </tr>\n",
       "    <tr>\n",
       "      <td>4</td>\n",
       "      <td>2</td>\n",
       "      <td>128.428489</td>\n",
       "      <td>295.153348</td>\n",
       "      <td>126.011933</td>\n",
       "      <td>309.548102</td>\n",
       "      <td>15</td>\n",
       "      <td>4</td>\n",
       "      <td>5</td>\n",
       "      <td>23</td>\n",
       "      <td>12948.705695</td>\n",
       "    </tr>\n",
       "  </tbody>\n",
       "</table>\n",
       "</div>"
      ],
      "text/plain": [
       "   NumberOfPassengers    pickup_x    pickup_y   dropoff_x   dropoff_y  \\\n",
       "0                   2  155.108652  322.284140  148.058424  332.814003   \n",
       "1                   1  146.628808  306.343423  154.284090  339.899155   \n",
       "2                   2  132.028079  319.183942  149.318583  384.810789   \n",
       "3                   2  175.776769  344.277029  159.039740  311.756787   \n",
       "4                   2  128.428489  295.153348  126.011933  309.548102   \n",
       "\n",
       "   pickup_day  pickup_month  pickup_weekday  pickup_hour      distance  \n",
       "0          14             3               1            8   6979.326557  \n",
       "1          20             4               3            9   9692.208681  \n",
       "2          25             1               2            0  11280.560651  \n",
       "3           1             2               2           22   3732.710936  \n",
       "4          15             4               5           23  12948.705695  "
      ]
     },
     "execution_count": 25,
     "metadata": {},
     "output_type": "execute_result"
    }
   ],
   "source": [
    "X_test.head()"
   ]
  },
  {
   "cell_type": "markdown",
   "metadata": {},
   "source": [
    "### XGB Regressor"
   ]
  },
  {
   "cell_type": "code",
   "execution_count": 78,
   "metadata": {},
   "outputs": [],
   "source": [
    "import xgboost as xgb\n",
    "\n",
    "model_xgb = xgb.XGBRegressor()\n",
    "\n",
    "model_xgb.fit(X_train,y_train)  \n",
    "y_pred = model_xgb.predict(X_test)"
   ]
  },
  {
   "cell_type": "code",
   "execution_count": 79,
   "metadata": {
    "collapsed": true
   },
   "outputs": [
    {
     "name": "stdout",
     "output_type": "stream",
     "text": [
      "                  0\n",
      "0        567.903259\n",
      "1       1135.562622\n",
      "2        970.382629\n",
      "3        465.131958\n",
      "4        529.527039\n",
      "5       1920.744263\n",
      "6        191.611710\n",
      "7        361.538971\n",
      "8        470.613922\n",
      "9        944.317627\n",
      "10        97.224358\n",
      "11      1743.861206\n",
      "12       538.996338\n",
      "13       482.969238\n",
      "14       270.894440\n",
      "15       301.442596\n",
      "16       411.657440\n",
      "17       543.334412\n",
      "18       495.479553\n",
      "19       337.614624\n",
      "20       171.058838\n",
      "21      1054.497314\n",
      "22       370.896545\n",
      "23       990.788025\n",
      "24       470.635162\n",
      "25       783.627747\n",
      "26       719.460266\n",
      "27       703.778809\n",
      "28       560.741882\n",
      "29      1971.944214\n",
      "...             ...\n",
      "199970   575.933533\n",
      "199971  2429.621826\n",
      "199972  1389.864868\n",
      "199973   334.877777\n",
      "199974   422.642853\n",
      "199975   792.094604\n",
      "199976  1246.661011\n",
      "199977   349.318848\n",
      "199978  2573.346436\n",
      "199979   629.673035\n",
      "199980  1185.104492\n",
      "199981   451.380707\n",
      "199982  1304.624634\n",
      "199983   437.167816\n",
      "199984   570.815002\n",
      "199985   333.200989\n",
      "199986   647.666565\n",
      "199987   219.536942\n",
      "199988   448.343719\n",
      "199989   861.344910\n",
      "199990   607.202271\n",
      "199991   420.371216\n",
      "199992   613.011536\n",
      "199993   331.473267\n",
      "199994   209.248001\n",
      "199995   393.869415\n",
      "199996   800.890625\n",
      "199997   217.447739\n",
      "199998   286.337799\n",
      "199999   368.213623\n",
      "\n",
      "[200000 rows x 1 columns]\n"
     ]
    }
   ],
   "source": [
    "my_df = pd.DataFrame(y_pred)\n",
    "my_df.to_csv (r'C:\\Users\\supri\\OneDrive\\Desktop\\MSA\\Machine Learning\\Final Project\\G_RemovedSpeed.csv', index = False, header=True)\n",
    "print (my_df)"
   ]
  },
  {
   "cell_type": "code",
   "execution_count": 33,
   "metadata": {},
   "outputs": [],
   "source": [
    "#np.sqrt(metrics.mean_squared_error(y_test,y_pred))\n",
    "#248"
   ]
  },
  {
   "cell_type": "markdown",
   "metadata": {},
   "source": [
    "### Improve the accuracy by trying Grid Search Hypertuning"
   ]
  },
  {
   "cell_type": "code",
   "execution_count": 32,
   "metadata": {},
   "outputs": [],
   "source": [
    "from xgboost import XGBRegressor\n",
    "from sklearn.model_selection import GridSearchCV"
   ]
  },
  {
   "cell_type": "code",
   "execution_count": 33,
   "metadata": {
    "scrolled": true
   },
   "outputs": [
    {
     "name": "stdout",
     "output_type": "stream",
     "text": [
      "Fitting 2 folds for each of 1 candidates, totalling 2 fits\n"
     ]
    },
    {
     "name": "stderr",
     "output_type": "stream",
     "text": [
      "[Parallel(n_jobs=4)]: Using backend LokyBackend with 4 concurrent workers.\n",
      "[Parallel(n_jobs=4)]: Done   2 out of   2 | elapsed:  4.2min finished\n",
      "C:\\Users\\keert\\Anaconda3\\lib\\site-packages\\xgboost\\core.py:587: FutureWarning: Series.base is deprecated and will be removed in a future version\n",
      "  if getattr(data, 'base', None) is not None and \\\n",
      "C:\\Users\\keert\\Anaconda3\\lib\\site-packages\\xgboost\\core.py:588: FutureWarning: Series.base is deprecated and will be removed in a future version\n",
      "  data.base is not None and isinstance(data, np.ndarray) \\\n"
     ]
    },
    {
     "name": "stdout",
     "output_type": "stream",
     "text": [
      "0.7966641655415854\n",
      "{'colsample_bytree': 0.7, 'learning_rate': 0.07, 'max_depth': 7, 'min_child_weight': 4, 'n_estimators': 500, 'nthread': 4, 'objective': 'reg:linear', 'silent': 1, 'subsample': 0.7}\n"
     ]
    }
   ],
   "source": [
    "xgb1 = XGBRegressor()\n",
    "parameters = {'nthread':[4], #when use hyperthread, xgboost may become slower\n",
    "              'objective':['reg:linear'],\n",
    "              'learning_rate': [.07], #so called `eta` value\n",
    "              'max_depth': [7],\n",
    "              'min_child_weight': [4],\n",
    "              'silent': [1],\n",
    "              'subsample': [0.7],\n",
    "              'colsample_bytree': [0.7],\n",
    "              'n_estimators': [500]}\n",
    "\n",
    "xgb_grid = GridSearchCV(xgb1,\n",
    "                        parameters,\n",
    "                        cv = 2,\n",
    "                        n_jobs = 4,\n",
    "                        verbose=True)\n",
    "\n",
    "xgb_grid.fit(X_train,y_train)\n",
    "\n",
    "print(xgb_grid.best_score_)\n",
    "print(xgb_grid.best_params_)"
   ]
  },
  {
   "cell_type": "code",
   "execution_count": 83,
   "metadata": {},
   "outputs": [],
   "source": [
    "test_prediction = xgb_grid.predict(X_test)"
   ]
  },
  {
   "cell_type": "code",
   "execution_count": 84,
   "metadata": {},
   "outputs": [],
   "source": [
    "#test_accuracy = grid_search.score(X_test, y_test)"
   ]
  },
  {
   "cell_type": "code",
   "execution_count": 85,
   "metadata": {
    "scrolled": false
   },
   "outputs": [],
   "source": [
    "#print(\"Accuracy:\", grid_search.score(X_test, y_test))\n",
    "##Accuracy: 0.9989162057040617"
   ]
  },
  {
   "cell_type": "code",
   "execution_count": 86,
   "metadata": {},
   "outputs": [],
   "source": [
    "#np.sqrt(metrics.mean_squared_error(y_test,test_prediction))\n",
    "##RMSE = 242"
   ]
  },
  {
   "cell_type": "code",
   "execution_count": 87,
   "metadata": {
    "collapsed": true
   },
   "outputs": [
    {
     "name": "stdout",
     "output_type": "stream",
     "text": [
      "                  0\n",
      "0        510.861206\n",
      "1       1126.514648\n",
      "2        931.085144\n",
      "3        569.793701\n",
      "4        500.653259\n",
      "5       2066.000000\n",
      "6        185.174469\n",
      "7        416.977783\n",
      "8        473.963776\n",
      "9       1167.687866\n",
      "10        69.533035\n",
      "11      1602.549072\n",
      "12       668.949219\n",
      "13       504.165558\n",
      "14       230.462204\n",
      "15       286.147278\n",
      "16       378.894257\n",
      "17       575.843201\n",
      "18       457.240112\n",
      "19       331.925690\n",
      "20       150.068466\n",
      "21      1138.487915\n",
      "22       333.241882\n",
      "23      1014.712219\n",
      "24       515.284790\n",
      "25       766.628174\n",
      "26       702.898621\n",
      "27       796.269165\n",
      "28       463.711517\n",
      "29      2034.813965\n",
      "...             ...\n",
      "199970   509.243378\n",
      "199971  2280.042480\n",
      "199972  1509.247925\n",
      "199973   350.947754\n",
      "199974   499.509460\n",
      "199975   805.671143\n",
      "199976  1436.830933\n",
      "199977   458.531799\n",
      "199978  2513.723877\n",
      "199979   668.372437\n",
      "199980  1135.879272\n",
      "199981   464.172607\n",
      "199982  1202.777100\n",
      "199983   417.020020\n",
      "199984   543.859253\n",
      "199985   361.404114\n",
      "199986   682.986450\n",
      "199987   213.628113\n",
      "199988   494.071411\n",
      "199989   931.524536\n",
      "199990   473.636749\n",
      "199991   396.216644\n",
      "199992   636.497437\n",
      "199993   347.537476\n",
      "199994   278.712646\n",
      "199995   351.104553\n",
      "199996   818.339539\n",
      "199997   209.462311\n",
      "199998   219.023376\n",
      "199999   458.816956\n",
      "\n",
      "[200000 rows x 1 columns]\n"
     ]
    }
   ],
   "source": [
    "my_df = pd.DataFrame(test_prediction)\n",
    "my_df.to_csv (r'C:\\Users\\supri\\OneDrive\\Desktop\\MSA\\Machine Learning\\Final Project\\G_Grid_Speed_Removed.csv', index = False, header=True)\n",
    "print (my_df)"
   ]
  },
  {
   "cell_type": "code",
   "execution_count": 58,
   "metadata": {},
   "outputs": [],
   "source": [
    "X= X_train\n",
    "y= y_train"
   ]
  },
  {
   "cell_type": "code",
   "execution_count": 76,
   "metadata": {
    "collapsed": true
   },
   "outputs": [
    {
     "name": "stdout",
     "output_type": "stream",
     "text": [
      "[20:13:03] WARNING: src/objective/regression_obj.cu:152: reg:linear is now deprecated in favor of reg:squarederror.\n",
      "[20:13:04] WARNING: src/objective/regression_obj.cu:152: reg:linear is now deprecated in favor of reg:squarederror.\n",
      "[20:13:05] WARNING: src/objective/regression_obj.cu:152: reg:linear is now deprecated in favor of reg:squarederror.\n",
      "[20:13:06] WARNING: src/objective/regression_obj.cu:152: reg:linear is now deprecated in favor of reg:squarederror.\n",
      "[20:13:07] WARNING: src/objective/regression_obj.cu:152: reg:linear is now deprecated in favor of reg:squarederror.\n",
      "[20:13:08] WARNING: src/objective/regression_obj.cu:152: reg:linear is now deprecated in favor of reg:squarederror.\n",
      "[20:13:09] WARNING: src/objective/regression_obj.cu:152: reg:linear is now deprecated in favor of reg:squarederror.\n",
      "[20:13:10] WARNING: src/objective/regression_obj.cu:152: reg:linear is now deprecated in favor of reg:squarederror.\n",
      "[20:13:12] WARNING: src/objective/regression_obj.cu:152: reg:linear is now deprecated in favor of reg:squarederror.\n",
      "[20:13:13] WARNING: src/objective/regression_obj.cu:152: reg:linear is now deprecated in favor of reg:squarederror.\n"
     ]
    }
   ],
   "source": [
    "data_dmatrix = xgb.DMatrix(data=X,label=y)\n",
    "params = {\"objective\":\"reg:linear\",'colsample_bytree': 0.3,'learning_rate': 0.1,\n",
    "                'max_depth': 5, 'alpha': 10}\n",
    "\n",
    "cv_results = xgb.cv(dtrain=data_dmatrix, params=params, nfold=10,\n",
    "                    num_boost_round=50,early_stopping_rounds=10,metrics=\"rmse\", as_pandas=True, seed=123)"
   ]
  },
  {
   "cell_type": "code",
   "execution_count": 77,
   "metadata": {},
   "outputs": [
    {
     "data": {
      "text/html": [
       "<div>\n",
       "<style scoped>\n",
       "    .dataframe tbody tr th:only-of-type {\n",
       "        vertical-align: middle;\n",
       "    }\n",
       "\n",
       "    .dataframe tbody tr th {\n",
       "        vertical-align: top;\n",
       "    }\n",
       "\n",
       "    .dataframe thead th {\n",
       "        text-align: right;\n",
       "    }\n",
       "</style>\n",
       "<table border=\"1\" class=\"dataframe\">\n",
       "  <thead>\n",
       "    <tr style=\"text-align: right;\">\n",
       "      <th></th>\n",
       "      <th>train-rmse-mean</th>\n",
       "      <th>train-rmse-std</th>\n",
       "      <th>test-rmse-mean</th>\n",
       "      <th>test-rmse-std</th>\n",
       "    </tr>\n",
       "  </thead>\n",
       "  <tbody>\n",
       "    <tr>\n",
       "      <td>0</td>\n",
       "      <td>817.154571</td>\n",
       "      <td>0.214814</td>\n",
       "      <td>817.266852</td>\n",
       "      <td>2.185220</td>\n",
       "    </tr>\n",
       "    <tr>\n",
       "      <td>1</td>\n",
       "      <td>764.074286</td>\n",
       "      <td>3.127391</td>\n",
       "      <td>764.258203</td>\n",
       "      <td>3.339195</td>\n",
       "    </tr>\n",
       "    <tr>\n",
       "      <td>2</td>\n",
       "      <td>714.918952</td>\n",
       "      <td>4.237428</td>\n",
       "      <td>715.173450</td>\n",
       "      <td>4.000446</td>\n",
       "    </tr>\n",
       "    <tr>\n",
       "      <td>3</td>\n",
       "      <td>674.029651</td>\n",
       "      <td>4.631295</td>\n",
       "      <td>674.324640</td>\n",
       "      <td>4.341804</td>\n",
       "    </tr>\n",
       "    <tr>\n",
       "      <td>4</td>\n",
       "      <td>638.716742</td>\n",
       "      <td>5.081839</td>\n",
       "      <td>639.031427</td>\n",
       "      <td>4.302331</td>\n",
       "    </tr>\n",
       "  </tbody>\n",
       "</table>\n",
       "</div>"
      ],
      "text/plain": [
       "   train-rmse-mean  train-rmse-std  test-rmse-mean  test-rmse-std\n",
       "0       817.154571        0.214814      817.266852       2.185220\n",
       "1       764.074286        3.127391      764.258203       3.339195\n",
       "2       714.918952        4.237428      715.173450       4.000446\n",
       "3       674.029651        4.631295      674.324640       4.341804\n",
       "4       638.716742        5.081839      639.031427       4.302331"
      ]
     },
     "execution_count": 77,
     "metadata": {},
     "output_type": "execute_result"
    }
   ],
   "source": [
    "cv_results.head()"
   ]
  },
  {
   "cell_type": "markdown",
   "metadata": {},
   "source": [
    "#### <The End>"
   ]
  }
 ],
 "metadata": {
  "kernelspec": {
   "display_name": "Python 3",
   "language": "python",
   "name": "python3"
  },
  "language_info": {
   "codemirror_mode": {
    "name": "ipython",
    "version": 3
   },
   "file_extension": ".py",
   "mimetype": "text/x-python",
   "name": "python",
   "nbconvert_exporter": "python",
   "pygments_lexer": "ipython3",
   "version": "3.7.4"
  }
 },
 "nbformat": 4,
 "nbformat_minor": 2
}
