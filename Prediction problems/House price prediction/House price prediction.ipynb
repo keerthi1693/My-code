{
 "cells": [
  {
   "cell_type": "code",
   "execution_count": 2,
   "metadata": {},
   "outputs": [],
   "source": [
    "# Authored by Gandhar\n",
    "import numpy as np\n",
    "import matplotlib.pyplot as plt\n",
    "import pandas as pd\n",
    "import seaborn as sns\n",
    "from sklearn import metrics\n",
    "\n",
    "sns.set()\n",
    "\n",
    "def log_transform(df,col_name):\n",
    "    df[col_name+'_Log'] = np.log(df[col_name])\n",
    "    \n",
    "    print(\"Skewness_orig: %f\" % df[col_name].skew())\n",
    "    print(\"Kurtosis_orig: %f\" % df[col_name].kurt())\n",
    "    print(\"Skewness_new: %f\" % df[col_name+'_Log'].skew())\n",
    "    print(\"Kurtosis_new: %f\" % df[col_name+'_Log'].kurt())\n",
    "\n",
    "    f, axes = plt.subplots(2, 1)\n",
    "    f.tight_layout()\n",
    "    sns.distplot(df[col_name], ax=axes[0])\n",
    "    sns.distplot(df[col_name+'_Log'], ax=axes[1])\n",
    "    \n",
    "    plt.show()\n",
    "    \n",
    "def add_sqrt_transform(df,col_name,add):\n",
    "    df[col_name+'_sqrt'] = np.sqrt(df[col_name]+add)\n",
    "    \n",
    "    print(\"Skewness_orig: %f\" % df[col_name].skew())\n",
    "    print(\"Kurtosis_orig: %f\" % df[col_name].kurt())\n",
    "    print(\"Skewness_new: %f\" % df[col_name+'_sqrt'].skew())\n",
    "    print(\"Kurtosis_new: %f\" % df[col_name+'_sqrt'].kurt())\n",
    "\n",
    "    f, axes = plt.subplots(2, 1)\n",
    "    f.tight_layout()\n",
    "    sns.distplot(df[col_name], ax=axes[0])\n",
    "    sns.distplot(df[col_name+'_sqrt'], ax=axes[1])\n",
    "    plt.show()\n",
    "    \n",
    "def print_missing_data(df,top=20):\n",
    "    total = df.isnull().sum().sort_values(ascending=False)\n",
    "    percent = (df.isnull().sum()/df.isnull().count()).sort_values(ascending=False)\n",
    "    missing_data = pd.concat([total, percent], axis=1, keys=['Total', 'Percent']) \n",
    "    print(missing_data.head(top))\n",
    "    \n",
    "def get_corr_pairs(df):\n",
    "    corrs = df.corr() >= 0.8\n",
    "    names = list(corrs.index)\n",
    "    corr_pairs={}\n",
    "    for item in sorted(corrs):\n",
    "        relevant=[ names[ind] for ind, row in enumerate(corrs[item]) if row and names[ind] != item ]\n",
    "        if len(relevant)>0:\n",
    "            corr_pairs[item] = relevant\n",
    "    return corr_pairs\n",
    "    \n",
    "def mean_absolute_percentage_error(y_true, y_pred): \n",
    "    y_true, y_pred = np.array(y_true), np.array(y_pred)\n",
    "    return np.mean(np.abs((y_true - y_pred) / y_true)) * 100\n",
    "\n",
    "def prediction_stats(y_test,y_pred):\n",
    "    print('Mean Absolute Error:', metrics.mean_absolute_error(y_test, y_pred))  \n",
    "    print('Mean Squared Error:', metrics.mean_squared_error(y_test, y_pred))  \n",
    "    print('Root Mean Squared Error:', np.sqrt(metrics.mean_squared_error(y_test, y_pred)))\n",
    "    print('Mean Absolute Percentage Error:',mean_absolute_percentage_error(y_test,y_pred))\n"
   ]
  },
  {
   "cell_type": "code",
   "execution_count": 3,
   "metadata": {},
   "outputs": [
    {
     "name": "stdout",
     "output_type": "stream",
     "text": [
      "(1460, 82) (1459, 82) (2919, 82)\n"
     ]
    }
   ],
   "source": [
    "df_train = pd.read_csv(\"/Users/gandharkamat/projects/8010/Final/train.csv\")\n",
    "df_test_data = pd.read_csv(\"/Users/gandharkamat/projects/8010/Final/test.csv\")\n",
    "sals_price=pd.read_csv(\"/Users/gandharkamat/projects/8010/Final/test_actual_price.csv\")\n",
    "\n",
    "df_test = pd.merge(df_test_data, sals_price,  how='inner', on='Id')\n",
    "\n",
    "df_train['source']='train'\n",
    "df_test['source']='test'\n",
    "df = pd.concat([df_train,df_test], ignore_index = True, sort = False)\n",
    "\n",
    "print(df_train.shape, df_test.shape, df.shape)\n"
   ]
  },
  {
   "cell_type": "code",
   "execution_count": 4,
   "metadata": {},
   "outputs": [
    {
     "name": "stdout",
     "output_type": "stream",
     "text": [
      "              Total   Percent\n",
      "PoolQC         2909  0.996574\n",
      "MiscFeature    2814  0.964029\n",
      "Alley          2721  0.932169\n",
      "Fence          2348  0.804385\n",
      "FireplaceQu    1420  0.486468\n",
      "LotFrontage     486  0.166495\n",
      "GarageFinish    159  0.054471\n",
      "GarageYrBlt     159  0.054471\n",
      "GarageQual      159  0.054471\n",
      "GarageCond      159  0.054471\n",
      "GarageType      157  0.053786\n",
      "BsmtCond         82  0.028092\n",
      "BsmtExposure     82  0.028092\n",
      "BsmtQual         81  0.027749\n",
      "BsmtFinType2     80  0.027407\n",
      "BsmtFinType1     79  0.027064\n",
      "MasVnrType       24  0.008222\n",
      "MasVnrArea       23  0.007879\n",
      "MSZoning          4  0.001370\n",
      "BsmtFullBath      2  0.000685\n",
      "              Total  Percent\n",
      "source            0      0.0\n",
      "YearRemodAdd      0      0.0\n",
      "RoofMatl          0      0.0\n",
      "Exterior1st       0      0.0\n",
      "Exterior2nd       0      0.0\n",
      "MasVnrType        0      0.0\n",
      "MasVnrArea        0      0.0\n",
      "ExterQual         0      0.0\n",
      "ExterCond         0      0.0\n",
      "Foundation        0      0.0\n",
      "BsmtQual          0      0.0\n",
      "BsmtCond          0      0.0\n",
      "BsmtExposure      0      0.0\n",
      "BsmtFinType1      0      0.0\n",
      "BsmtFinSF1        0      0.0\n",
      "BsmtFinType2      0      0.0\n",
      "BsmtFinSF2        0      0.0\n",
      "BsmtUnfSF         0      0.0\n",
      "TotalBsmtSF       0      0.0\n",
      "RoofStyle         0      0.0\n"
     ]
    },
    {
     "name": "stderr",
     "output_type": "stream",
     "text": [
      "/Users/gandharkamat/projects/venv/lib/python3.7/site-packages/pandas/core/generic.py:6287: SettingWithCopyWarning: \n",
      "A value is trying to be set on a copy of a slice from a DataFrame\n",
      "\n",
      "See the caveats in the documentation: http://pandas.pydata.org/pandas-docs/stable/user_guide/indexing.html#returning-a-view-versus-a-copy\n",
      "  self._update_inplace(new_data)\n",
      "/Users/gandharkamat/projects/venv/lib/python3.7/site-packages/ipykernel_launcher.py:32: SettingWithCopyWarning: \n",
      "A value is trying to be set on a copy of a slice from a DataFrame.\n",
      "Try using .loc[row_indexer,col_indexer] = value instead\n",
      "\n",
      "See the caveats in the documentation: http://pandas.pydata.org/pandas-docs/stable/user_guide/indexing.html#returning-a-view-versus-a-copy\n"
     ]
    }
   ],
   "source": [
    "# Authored by Raamkumar\n",
    "print_missing_data(df)\n",
    "\n",
    "num_feats = ['YearBuilt', 'YearRemodAdd', 'MasVnrArea', 'OverallQual', 'OverallCond', 'LotArea', 'LotFrontage', 'GarageArea', 'GarageCars', 'BsmtHalfBath', 'FullBath', 'HalfBath', 'BedroomAbvGr', 'KitchenAbvGr', 'TotRmsAbvGrd', 'Fireplaces', 'BsmtFinSF1', 'BsmtFinSF2', 'BsmtUnfSF', 'TotalBsmtSF', '1stFlrSF', '2ndFlrSF', 'LowQualFinSF', 'GrLivArea', 'BsmtFullBath', 'WoodDeckSF', 'OpenPorchSF', 'EnclosedPorch', '3SsnPorch', 'ScreenPorch', 'PoolArea', 'MiscVal', 'MoSold', 'YrSold', 'SalePrice']\n",
    "cat_feats = ['HouseStyle', 'RoofStyle', 'RoofMatl', 'Exterior1st', 'Exterior2nd', 'MasVnrType', 'ExterQual', 'ExterCond', 'Foundation', 'BsmtQual', 'BsmtCond', 'MSSubClass', 'MSZoning', 'Street', 'Alley', 'LotShape', 'LandContour', 'Utilities', 'LotConfig', 'LandSlope', 'Neighborhood', 'Condition1', 'Condition2', 'BldgType', 'GarageFinish', 'KitchenQual', 'Functional', 'FireplaceQu', 'GarageType', 'GarageYrBlt', 'BsmtExposure', 'BsmtFinType1', 'BsmtFinType2', 'Heating', 'HeatingQC', 'CentralAir', 'Electrical', 'PavedDrive', 'PoolQC', 'Fence', 'MiscFeature', 'SaleType', 'SaleCondition','GarageCond','GarageQual']\n",
    "\n",
    "fillna_cat_cols = [\n",
    "    \"BsmtExposure\",\n",
    "    \"BsmtFinType1\",\n",
    "    \"BsmtFinType2\",\n",
    "    \"BsmtCond\",\n",
    "    \"BsmtQual\",\n",
    "    \"Fence\",\n",
    "    \"FireplaceQu\",\n",
    "    'GarageQual', \n",
    "    'GarageCond',\n",
    "    \"GarageFinish\",\n",
    "    \"GarageType\",\n",
    "    \"MiscFeature\",\n",
    "    \"PoolQC\",\n",
    "    'Alley'\n",
    "]\n",
    "\n",
    "for item in fillna_cat_cols:\n",
    "    df[item].fillna('None',inplace=True)\n",
    "    \n",
    "fill0_num_columns=['GarageArea','GarageCars','GarageYrBlt']\n",
    "\n",
    "for item in fill0_num_columns:\n",
    "    df[df['GarageType']=='None'][item].fillna(0,inplace=True)\n",
    "\n",
    "df[df['GarageYrBlt'] == 2207]['GarageYrBlt'] = df[df['GarageYrBlt'] == 2207]['YearBuilt']\n",
    "\n",
    "df[\"LotFrontage\"] = df.groupby(\"Neighborhood\")[\"LotFrontage\"].transform(lambda x: x.fillna(x.median()))\n",
    "df['MSZoning'] = df.groupby('MSSubClass')['MSZoning'].transform(lambda x: x.fillna(x.mode()[0]))\n",
    "\n",
    "fillmean_num_cols = [\"MasVnrArea\",'GarageArea','GarageCars','BsmtFinSF1','TotalBsmtSF','BsmtFinSF2','BsmtUnfSF']\n",
    "\n",
    "for item in fillmean_num_cols:\n",
    "    df[item].fillna(df[item].mean(),inplace=True)\n",
    "\n",
    "fill0_num_cols=['BsmtHalfBath','BsmtFullBath']\n",
    "\n",
    "for item in fill0_num_cols:\n",
    "    df[df['BsmtCond']=='None'][item].fillna(0,inplace=True)\n",
    "\n",
    "fillmode_cat_cols = ['Electrical','MasVnrType','Exterior1st','Exterior2nd','GarageYrBlt','MSZoning','Utilities','SaleType','BsmtHalfBath','BsmtFullBath']\n",
    "\n",
    "for item in fillmode_cat_cols:\n",
    "    df[item].fillna(df[item].mode().iloc[0],inplace=True)\n",
    "\n",
    "#from data dict\n",
    "df['KitchenQual'] = df['KitchenQual'].fillna('TA')\n",
    "df[\"Functional\"] = df[\"Functional\"].fillna(\"Typ\")\n",
    "\n",
    "print_missing_data(df)\n"
   ]
  },
  {
   "cell_type": "code",
   "execution_count": 5,
   "metadata": {},
   "outputs": [
    {
     "name": "stderr",
     "output_type": "stream",
     "text": [
      "/Users/gandharkamat/projects/venv/lib/python3.7/site-packages/scipy/stats/stats.py:3399: PearsonRConstantInputWarning: An input array is constant; the correlation coefficent is not defined.\n",
      "  warnings.warn(PearsonRConstantInputWarning())\n",
      "/Users/gandharkamat/projects/venv/lib/python3.7/site-packages/scipy/stats/stats.py:3429: PearsonRNearConstantInputWarning: An input array is nearly constant; the computed correlation coefficent may be inaccurate.\n",
      "  warnings.warn(PearsonRNearConstantInputWarning())\n"
     ]
    }
   ],
   "source": [
    "# Authored by Gandhar\n",
    "\n",
    "df[\"SalePrice\"] = np.log(df[\"SalePrice\"])\n",
    "\n",
    "from scipy.special import boxcox1p\n",
    "from scipy.stats import boxcox_normmax\n",
    "from scipy.stats import skew\n",
    "\n",
    "boxcox_transform = ['MasVnrArea','LotArea','LotFrontage','BsmtFinSF1','BsmtFinSF2',\n",
    "                    'BsmtUnfSF','TotalBsmtSF','1stFlrSF','GrLivArea','WoodDeckSF',\n",
    "                    'OpenPorchSF','EnclosedPorch','MiscVal','MoSold','LowQualFinSF',\n",
    "                   '3SsnPorch']\n",
    "\n",
    "for item in boxcox_transform:\n",
    "    df[item] = boxcox1p(df[item], boxcox_normmax(df[item] + 1))\n",
    "    \n",
    "# i=34\n",
    "# # print(num_feats[i])\n",
    "# df1 = df[df['source']=='train']['KitchenAbvGr']\n",
    "# df2 = boxcox1p(df1, boxcox_normmax(df1 + 1))\n",
    "# plt.figure(figsize=(10, 10))\n",
    "# f, axes = plt.subplots(1, 2)\n",
    "# f.set_figheight(5)\n",
    "# f.set_figwidth(10)\n",
    "# sns.distplot(df['KitchenAbvGr'],ax=axes[0])\n",
    "# sns.distplot(df2,ax=axes[1])\n",
    "# plt.show()\n",
    "# print(\"Skewness_orig: %f\" % df1.skew())\n",
    "# print(\"Kurtosis_orig: %f\" % df1.kurt())\n",
    "# print(\"Skewness_new: %f\" % df2.skew())\n",
    "# print(\"Kurtosis_new: %f\" % df2.kurt())\n"
   ]
  },
  {
   "cell_type": "code",
   "execution_count": 6,
   "metadata": {},
   "outputs": [
    {
     "name": "stdout",
     "output_type": "stream",
     "text": [
      "GrLivArea\n"
     ]
    },
    {
     "data": {
      "image/png": "[encoded data removed]",
      "text/plain": [
       "<Figure size 720x720 with 1 Axes>"
      ]
     },
     "metadata": {
      "needs_background": "light"
     },
     "output_type": "display_data"
    }
   ],
   "source": [
    "# Authored by Gandhar\n",
    "# \n",
    "arr = ['GrLivArea','YearBuilt','YearRemodAdd','LotArea','LotFrontage','GarageArea','BsmtFinSF1','BsmtUnfSF','TotalBsmtSF','WoodDeckSF']\n",
    "\n",
    "i=0\n",
    "print(arr[i])\n",
    "df1 = df[df['source']=='train'][arr[i]]\n",
    "plt.figure(figsize=(10, 10))\n",
    "sns.scatterplot(df[arr[i]],df['SalePrice'])\n",
    "plt.show()\n"
   ]
  },
  {
   "cell_type": "code",
   "execution_count": 7,
   "metadata": {},
   "outputs": [],
   "source": [
    "# Authored by Gandhar\n",
    "\n",
    "df.drop(df[(df['source'] == 'train') & (df['LotFrontage']>30)].index,inplace=True) # good\n",
    "\n",
    "# df.drop(df[(df['source'] == 'train') & (df['LotArea']>19)].index,inplace=True)\n",
    "# df.drop(df[(df['source'] == 'train') & (df['BsmtFinSF1']>300)].index,inplace=True)\n",
    "# df.drop(df[(df['source'] == 'train') & (df['TotalBsmtSF']>1000)].index,inplace=True)\n",
    "# df.drop(df[(df['source'] == 'train') & (df['WoodDeckSF']>140)].index,inplace=True)\n",
    " "
   ]
  },
  {
   "cell_type": "code",
   "execution_count": 8,
   "metadata": {},
   "outputs": [],
   "source": [
    "# Authored by Gandhar\n",
    "\n",
    "# new feats\n",
    "df['Remodel'] = df['YearRemodAdd'] - df['YearBuilt']\n",
    "df['Remodel'] = df['Remodel'].apply(lambda x: 1 if x > 0 else 0 )\n",
    "cat_feats.append('Remodel')\n",
    "\n",
    "df['NewH'] = df['YrSold'] - df['YearBuilt']\n",
    "df['NewH'] = df['NewH'].apply(lambda x: 1 if x == 0 else 0)\n",
    "cat_feats.append('NewH')\n",
    "\n",
    "\n",
    "\n",
    "# Authored by Supriya\n",
    "\n",
    "# unused\n",
    "# df['Total_porch_sf'] = (df['OpenPorchSF'] + df['3SsnPorch'] +\n",
    "#                               df['EnclosedPorch'] + df['ScreenPorch'] +\n",
    "#                               df['WoodDeckSF'])\n",
    "# num_feats.append('Total_porch_sf')\n",
    "# df['TotalSF'] = df['TotalBsmtSF'] + df['1stFlrSF'] + df['2ndFlrSF']\n",
    "# num_feats.append('TotalSF')\n",
    "# df['HasBsmt'] = df['TotalBsmtSF'].apply(lambda x: 1 if x > 0 else 0 )\n",
    "# df.loc[df['HasBsmt']==1,'TotalBsmtSF'] = np.log(df['TotalBsmtSF'])\n",
    "# cat_feats.append('HasBsmt')\n",
    "# col='SalePrice'\n",
    "# log_transform(df,col)\n",
    "# num_feats.remove(col)\n",
    "# num_feats.append(col+'_Log')"
   ]
  },
  {
   "cell_type": "code",
   "execution_count": 10,
   "metadata": {},
   "outputs": [
    {
     "data": {
      "image/png": "[encoded data removed]",
      "text/plain": [
       "<Figure size 720x720 with 2 Axes>"
      ]
     },
     "metadata": {},
     "output_type": "display_data"
    }
   ],
   "source": [
    "# Authored by Supriya\n",
    "\n",
    "sns.set(style=\"white\")\n",
    "\n",
    "def plot_corr_matrix(df, nr_c, targ) :\n",
    "    corr = df.corr()\n",
    "    corr_abs = corr.abs()\n",
    "    mask = np.zeros_like(corr_abs, dtype=np.bool)\n",
    "    mask[np.triu_indices_from(mask)] = True\n",
    "\n",
    "    cols = corr_abs.nlargest(nr_c, targ)[targ].index\n",
    "    cm = np.corrcoef(df[cols].values.T)\n",
    "\n",
    "    plt.figure(figsize=(nr_c, nr_c))\n",
    "    cmap = sns.diverging_palette(220, 10, as_cmap=True)\n",
    "    sns.set(font_scale=1.25)\n",
    "    with sns.axes_style(\"white\"):\n",
    "        sns.heatmap(cm, linewidths=1.5, annot=True, square=True, cmap=cmap,\n",
    "                    fmt='.2f', annot_kws={'size': 12}, mask=mask,\n",
    "                    yticklabels=cols.values, xticklabels=cols.values[::-1]\n",
    "                   )\n",
    "    plt.show()\n",
    "    \n",
    "subset = ['TotRmsAbvGrd','1stFlrSF','GarageArea','SalePrice','GarageCars','TotalBsmtSF','OverallQual','GrLivArea','YearRemodAdd','YearBuilt']\n",
    "plot_corr_matrix(df.loc[:,subset], len(subset), 'SalePrice')\n",
    "# plot_corr_matrix(df,len(num_feats), 'SalePrice')\n"
   ]
  },
  {
   "cell_type": "code",
   "execution_count": 107,
   "metadata": {},
   "outputs": [
    {
     "name": "stdout",
     "output_type": "stream",
     "text": [
      "{'1stFlrSF': ['TotalBsmtSF'], 'GarageArea': ['GarageCars'], 'GarageCars': ['GarageArea'], 'GarageYrBlt': ['YearBuilt'], 'GrLivArea': ['TotRmsAbvGrd'], 'TotRmsAbvGrd': ['GrLivArea'], 'TotalBsmtSF': ['1stFlrSF'], 'YearBuilt': ['GarageYrBlt']}\n"
     ]
    }
   ],
   "source": [
    "# Authored by Supriya\n",
    "\n",
    "print(get_corr_pairs(df_train))\n"
   ]
  },
  {
   "cell_type": "code",
   "execution_count": 108,
   "metadata": {
    "scrolled": true
   },
   "outputs": [
    {
     "name": "stdout",
     "output_type": "stream",
     "text": [
      "(1458, 302) (1458,) (1459, 302) (1459,)\n"
     ]
    },
    {
     "name": "stderr",
     "output_type": "stream",
     "text": [
      "/Users/gandharkamat/projects/venv/lib/python3.7/site-packages/pandas/core/frame.py:4102: SettingWithCopyWarning: \n",
      "A value is trying to be set on a copy of a slice from a DataFrame\n",
      "\n",
      "See the caveats in the documentation: http://pandas.pydata.org/pandas-docs/stable/user_guide/indexing.html#returning-a-view-versus-a-copy\n",
      "  errors=errors,\n"
     ]
    }
   ],
   "source": [
    "# Authored by Supriya\n",
    "from sklearn.preprocessing import StandardScaler\n",
    "\n",
    "target = 'SalePrice'\n",
    "\n",
    "#scale\n",
    "scaler = StandardScaler()\n",
    "df_scaled = pd.DataFrame(scaler.fit_transform(df[list(set(num_feats) - set([target]))]), index=df[list(set(num_feats) - set([target]))].index, columns=df[list(set(num_feats) - set([target]))].columns)\n",
    "df_scaled\n",
    "\n",
    "#dummies\n",
    "df_dummies = pd.concat([df.loc[:,target],df.loc[:,'source'],df_scaled,pd.get_dummies(df.loc[:,cat_feats])],axis=1)\n",
    "\n",
    "#prep for models \n",
    "train = df_dummies.loc[df_dummies['source']==\"train\"]\n",
    "test = df_dummies.loc[df_dummies['source']==\"test\"]\n",
    "\n",
    "train.drop(['source'],axis=1,inplace=True)\n",
    "test.drop(['source'],axis=1,inplace=True)\n",
    "\n",
    "X = train.drop(target,axis=1)\n",
    "y = train[target]\n",
    "\n",
    "X_test = test.drop(target,axis=1)\n",
    "y_test = test[target]\n",
    "\n",
    "X.drop('MSZoning_C (all)',axis=1,inplace=True)\n",
    "X_test.drop('MSZoning_C (all)',axis=1,inplace=True)\n",
    "\n",
    "print(X.shape,y.shape,X_test.shape,y_test.shape)\n",
    "output_all = pd.DataFrame()\n",
    "output_all['actual'] = np.exp(y_test)"
   ]
  },
  {
   "cell_type": "code",
   "execution_count": 109,
   "metadata": {},
   "outputs": [],
   "source": [
    "from sklearn.model_selection import GridSearchCV\n",
    "from sklearn.linear_model import Lasso\n",
    "from sklearn.linear_model import Ridge\n",
    "from sklearn.tree import DecisionTreeRegressor\n",
    "from sklearn.ensemble import RandomForestRegressor\n",
    "import xgboost as xgb\n",
    "from sklearn.ensemble import VotingRegressor\n",
    "from sklearn.ensemble import StackingRegressor\n",
    "from sklearn.svm import SVR\n",
    "from sklearn.ensemble import GradientBoostingRegressor\n",
    "\n",
    "fit = True\n"
   ]
  },
  {
   "cell_type": "code",
   "execution_count": 110,
   "metadata": {},
   "outputs": [
    {
     "name": "stdout",
     "output_type": "stream",
     "text": [
      "Fitting 3 folds for each of 32 candidates, totalling 96 fits\n"
     ]
    },
    {
     "name": "stderr",
     "output_type": "stream",
     "text": [
      "[Parallel(n_jobs=-1)]: Using backend LokyBackend with 8 concurrent workers.\n",
      "[Parallel(n_jobs=-1)]: Done  25 tasks      | elapsed:    3.1s\n"
     ]
    },
    {
     "name": "stdout",
     "output_type": "stream",
     "text": [
      "{'alpha': 0.0001, 'fit_intercept': True, 'normalize': True}\n",
      "Mean Absolute Error: 13379.162282477437\n",
      "Mean Squared Error: 736312309.2242901\n",
      "Root Mean Squared Error: 27135.075257391312\n",
      "Mean Absolute Percentage Error: 8.138627175578474\n"
     ]
    },
    {
     "name": "stderr",
     "output_type": "stream",
     "text": [
      "[Parallel(n_jobs=-1)]: Done  96 out of  96 | elapsed:    5.0s finished\n"
     ]
    }
   ],
   "source": [
    "# Authored by Bruce\n",
    "\n",
    "lasso = Lasso()\n",
    "parameters = {'alpha': [1e-5,1e-4,2e-4,4e-4,8e-4,1e-3,1e-2,1e-1],\n",
    "             'fit_intercept':[True,False],\n",
    "             'normalize': [True,False]}\n",
    "\n",
    "lasso_regressor = GridSearchCV(lasso, parameters, scoring = 'neg_mean_squared_log_error', cv=3,n_jobs=-1,verbose=2)\n",
    "\n",
    "if fit:\n",
    "    lasso_regressor.fit(X,y)\n",
    "\n",
    "    print(lasso_regressor.best_params_)\n",
    "    y_pred = lasso_regressor.predict(X_test)\n",
    "\n",
    "    prediction_stats(np.exp(y_test),np.exp(y_pred))\n",
    "    output_all['lasso'] = np.exp(y_pred)\n",
    "    "
   ]
  },
  {
   "cell_type": "code",
   "execution_count": 111,
   "metadata": {},
   "outputs": [
    {
     "name": "stdout",
     "output_type": "stream",
     "text": [
      "Fitting 3 folds for each of 792 candidates, totalling 2376 fits\n"
     ]
    },
    {
     "name": "stderr",
     "output_type": "stream",
     "text": [
      "[Parallel(n_jobs=-1)]: Using backend LokyBackend with 8 concurrent workers.\n",
      "[Parallel(n_jobs=-1)]: Done  25 tasks      | elapsed:    2.1s\n",
      "[Parallel(n_jobs=-1)]: Done 408 tasks      | elapsed:    4.0s\n",
      "[Parallel(n_jobs=-1)]: Done 1220 tasks      | elapsed:    8.3s\n",
      "[Parallel(n_jobs=-1)]: Done 2349 tasks      | elapsed:   14.3s\n",
      "[Parallel(n_jobs=-1)]: Done 2376 out of 2376 | elapsed:   14.5s finished\n"
     ]
    },
    {
     "name": "stdout",
     "output_type": "stream",
     "text": [
      "{'alpha': 30.0, 'fit_intercept': True, 'normalize': False}\n",
      "Mean Absolute Error: 13449.569117956691\n",
      "Mean Squared Error: 643642973.7173394\n",
      "Root Mean Squared Error: 25370.11970246375\n",
      "Mean Absolute Percentage Error: 8.18270237000597\n"
     ]
    }
   ],
   "source": [
    "# Authored by Raamkumar\n",
    "\n",
    "ridge = Ridge()\n",
    "parameters = {'alpha': np.arange(1,100,0.5),\n",
    "             'fit_intercept':[True,False],\n",
    "             'normalize': [True,False]\n",
    "             }\n",
    "\n",
    "ridge_regressor = GridSearchCV(ridge, parameters, scoring = 'neg_mean_squared_log_error', cv=3,n_jobs=-1,verbose=2)\n",
    "if fit:\n",
    "    ridge_regressor.fit(X,y)\n",
    "\n",
    "    print(ridge_regressor.best_params_)\n",
    "    y_pred = ridge_regressor.predict(X_test)\n",
    "\n",
    "    prediction_stats(np.exp(y_test),np.exp(y_pred))\n",
    "    output_all['ridge'] = np.exp(y_pred)\n"
   ]
  },
  {
   "cell_type": "code",
   "execution_count": 112,
   "metadata": {
    "scrolled": true
   },
   "outputs": [
    {
     "name": "stdout",
     "output_type": "stream",
     "text": [
      "Fitting 3 folds for each of 640 candidates, totalling 1920 fits\n"
     ]
    },
    {
     "name": "stderr",
     "output_type": "stream",
     "text": [
      "[Parallel(n_jobs=-1)]: Using backend LokyBackend with 8 concurrent workers.\n",
      "[Parallel(n_jobs=-1)]: Done  25 tasks      | elapsed:    2.3s\n",
      "[Parallel(n_jobs=-1)]: Done 672 tasks      | elapsed:    5.3s\n"
     ]
    },
    {
     "name": "stdout",
     "output_type": "stream",
     "text": [
      "DecisionTreeRegressor(ccp_alpha=0.0, criterion='mse', max_depth=8,\n",
      "                      max_features='auto', max_leaf_nodes=None,\n",
      "                      min_impurity_decrease=0.0, min_impurity_split=None,\n",
      "                      min_samples_leaf=1, min_samples_split=28,\n",
      "                      min_weight_fraction_leaf=0.0, presort='deprecated',\n",
      "                      random_state=None, splitter='best')\n",
      "Mean Absolute Error: 22208.719011916455\n",
      "Mean Squared Error: 1139464123.339991\n",
      "Root Mean Squared Error: 33755.94945102257\n",
      "Mean Absolute Percentage Error: 13.401257273000528\n"
     ]
    },
    {
     "name": "stderr",
     "output_type": "stream",
     "text": [
      "[Parallel(n_jobs=-1)]: Done 1920 out of 1920 | elapsed:   11.4s finished\n"
     ]
    }
   ],
   "source": [
    "# Authored by Bruce\n",
    "\n",
    "param_grid = {\"max_depth\": range(2,10,2),\n",
    "              'min_samples_split': np.arange(20,40,1),\n",
    "            \"max_features\": [1, 3, 10, 50, 100, 'sqrt', 'auto','log2']}\n",
    "\n",
    "regressor_dtree = DecisionTreeRegressor()\n",
    "dtree=GridSearchCV(regressor_dtree,param_grid,cv=3,n_jobs=-1,verbose=2)\n",
    "\n",
    "if fit:\n",
    "    dtree.fit(X,y)\n",
    "    print(dtree.best_estimator_)\n",
    "\n",
    "    y_pred = dtree.predict(X_test)\n",
    "\n",
    "    prediction_stats(np.exp(y_test),np.exp(y_pred))\n",
    "    output_all['dtree'] = np.exp(y_pred)"
   ]
  },
  {
   "cell_type": "code",
   "execution_count": 113,
   "metadata": {},
   "outputs": [
    {
     "name": "stdout",
     "output_type": "stream",
     "text": [
      "Fitting 3 folds for each of 2 candidates, totalling 6 fits\n"
     ]
    },
    {
     "name": "stderr",
     "output_type": "stream",
     "text": [
      "[Parallel(n_jobs=-1)]: Using backend LokyBackend with 8 concurrent workers.\n",
      "[Parallel(n_jobs=-1)]: Done   3 out of   6 | elapsed:   50.4s remaining:   50.4s\n",
      "[Parallel(n_jobs=-1)]: Done   6 out of   6 | elapsed:   51.7s finished\n"
     ]
    },
    {
     "name": "stdout",
     "output_type": "stream",
     "text": [
      "RandomForestRegressor(bootstrap=True, ccp_alpha=0.0, criterion='mse',\n",
      "                      max_depth=13, max_features='auto', max_leaf_nodes=None,\n",
      "                      max_samples=None, min_impurity_decrease=0.0,\n",
      "                      min_impurity_split=None, min_samples_leaf=1,\n",
      "                      min_samples_split=2, min_weight_fraction_leaf=0.0,\n",
      "                      n_estimators=1500, n_jobs=None, oob_score=False,\n",
      "                      random_state=None, verbose=0, warm_start=False)\n",
      "Mean Absolute Error: 15890.871264248852\n",
      "Mean Squared Error: 631581080.9421349\n",
      "Root Mean Squared Error: 25131.27694611109\n",
      "Mean Absolute Percentage Error: 9.688087888095083\n"
     ]
    }
   ],
   "source": [
    "# Authored by Raamumar\n",
    "\n",
    "rfp = RandomForestRegressor()\n",
    "\n",
    "param_grid = {\n",
    "            \"max_depth\": np.arange(13,17,2),\n",
    "            \"n_estimators\": [1500],\n",
    "            \"max_features\": ['auto'],\n",
    "            \"bootstrap\": [True]\n",
    "            }\n",
    "\n",
    "rf = GridSearchCV(rfp, param_grid=param_grid,cv=3,n_jobs=-1,verbose=2)\n",
    "if fit:\n",
    "    rf.fit(X, y)\n",
    "    print(rf.best_estimator_)\n",
    "\n",
    "    y_pred = rf.predict(X_test)\n",
    "    output_all['rf'] = np.exp(y_pred)\n",
    "\n",
    "    prediction_stats(np.exp(y_test),np.exp(y_pred))\n"
   ]
  },
  {
   "cell_type": "code",
   "execution_count": 114,
   "metadata": {},
   "outputs": [
    {
     "name": "stdout",
     "output_type": "stream",
     "text": [
      "Fitting 3 folds for each of 12 candidates, totalling 36 fits\n"
     ]
    },
    {
     "name": "stderr",
     "output_type": "stream",
     "text": [
      "[Parallel(n_jobs=-1)]: Using backend LokyBackend with 8 concurrent workers.\n",
      "[Parallel(n_jobs=-1)]: Done  36 out of  36 | elapsed:   54.9s finished\n",
      "/Users/gandharkamat/projects/venv/lib/python3.7/site-packages/xgboost/core.py:587: FutureWarning: Series.base is deprecated and will be removed in a future version\n",
      "  if getattr(data, 'base', None) is not None and \\\n",
      "/Users/gandharkamat/projects/venv/lib/python3.7/site-packages/xgboost/core.py:588: FutureWarning: Series.base is deprecated and will be removed in a future version\n",
      "  data.base is not None and isinstance(data, np.ndarray) \\\n"
     ]
    },
    {
     "name": "stdout",
     "output_type": "stream",
     "text": [
      "XGBRegressor(base_score=0.5, booster='gbtree', colsample_bylevel=1,\n",
      "             colsample_bynode=1, colsample_bytree=1, gamma=0,\n",
      "             importance_type='gain', learning_rate=0.1, max_delta_step=0,\n",
      "             max_depth=3, min_child_weight=1, missing=None, n_estimators=335,\n",
      "             n_jobs=1, nthread=None, objective='reg:squarederror',\n",
      "             random_state=0, reg_alpha=0, reg_lambda=1, scale_pos_weight=1,\n",
      "             seed=None, silent=None, subsample=1, verbosity=1)\n",
      "Mean Absolute Error: 13601.686715537184\n",
      "Mean Squared Error: 457397092.10541195\n",
      "Root Mean Squared Error: 21386.84390239504\n",
      "Mean Absolute Percentage Error: 8.271150999015314\n"
     ]
    }
   ],
   "source": [
    "# Authored by Gandhar\n",
    "\n",
    "param_grid = {\n",
    "    \"max_depth\": range(3,5,1),\n",
    "    \"n_estimators\": range(330,360,5),\n",
    "    'objective':['reg:squarederror']\n",
    "    }\n",
    "\n",
    "model_xgb = xgb.XGBRegressor()\n",
    "\n",
    "xgbr=GridSearchCV(model_xgb,param_grid,cv=3,n_jobs=-1,verbose=2)\n",
    "\n",
    "if fit:\n",
    "    xgbr.fit(X,y)\n",
    "    print(xgbr.best_estimator_)\n",
    "    \n",
    "    y_pred = xgbr.predict(X_test)\n",
    "\n",
    "    prediction_stats(np.exp(y_test),np.exp(y_pred))\n",
    "    output_all['xgb'] = np.exp(y_pred)\n"
   ]
  },
  {
   "cell_type": "code",
   "execution_count": 115,
   "metadata": {},
   "outputs": [
    {
     "name": "stdout",
     "output_type": "stream",
     "text": [
      "Fitting 3 folds for each of 72 candidates, totalling 216 fits\n"
     ]
    },
    {
     "name": "stderr",
     "output_type": "stream",
     "text": [
      "[Parallel(n_jobs=-1)]: Using backend LokyBackend with 8 concurrent workers.\n",
      "[Parallel(n_jobs=-1)]: Done  25 tasks      | elapsed:    6.0s\n",
      "[Parallel(n_jobs=-1)]: Done 146 tasks      | elapsed:   25.5s\n",
      "[Parallel(n_jobs=-1)]: Done 216 out of 216 | elapsed:   36.8s finished\n"
     ]
    },
    {
     "name": "stdout",
     "output_type": "stream",
     "text": [
      "SVR(C=45, cache_size=200, coef0=0.0, degree=3, epsilon=0.0009000000000000001,\n",
      "    gamma=8e-05, kernel='rbf', max_iter=-1, shrinking=True, tol=0.001,\n",
      "    verbose=False)\n",
      "Mean Absolute Error: 13495.704080688476\n",
      "Mean Squared Error: 915272128.031242\n",
      "Root Mean Squared Error: 30253.46472771742\n",
      "Mean Absolute Percentage Error: 8.43625484385042\n"
     ]
    }
   ],
   "source": [
    "# Authored by Supriya\n",
    "svr = SVR()\n",
    "\n",
    "param_grid = {\n",
    "    \"C\": range(20,50,5),\n",
    "    \"epsilon\": np.arange(0.0008,0.001,0.0001),\n",
    "    'gamma':[0.00008,0.00009,0.0001,0.0002,0.0003,0.0004]\n",
    "    }\n",
    "\n",
    "svrr=GridSearchCV(svr,param_grid,cv=3,n_jobs=-1,verbose=2)\n",
    "\n",
    "if fit:\n",
    "    svrr.fit(X,y)\n",
    "\n",
    "    y_pred = svrr.predict(X_test)\n",
    "    \n",
    "    print(svrr.best_estimator_)\n",
    "    \n",
    "    prediction_stats(np.exp(y_test),np.exp(y_pred))\n",
    "    output_all['svrr'] = np.exp(y_pred)\n"
   ]
  },
  {
   "cell_type": "code",
   "execution_count": 116,
   "metadata": {},
   "outputs": [
    {
     "name": "stdout",
     "output_type": "stream",
     "text": [
      "Fitting 3 folds for each of 3 candidates, totalling 9 fits\n"
     ]
    },
    {
     "name": "stderr",
     "output_type": "stream",
     "text": [
      "[Parallel(n_jobs=-1)]: Using backend LokyBackend with 8 concurrent workers.\n",
      "[Parallel(n_jobs=-1)]: Done   4 out of   9 | elapsed:   31.2s remaining:   39.0s\n",
      "[Parallel(n_jobs=-1)]: Done   9 out of   9 | elapsed:   45.7s remaining:    0.0s\n",
      "[Parallel(n_jobs=-1)]: Done   9 out of   9 | elapsed:   45.7s finished\n"
     ]
    },
    {
     "name": "stdout",
     "output_type": "stream",
     "text": [
      "Mean Absolute Error: 13808.166602045241\n",
      "Mean Squared Error: 500508395.19683075\n",
      "Root Mean Squared Error: 22372.04494892746\n",
      "Mean Absolute Percentage Error: 8.256974319992324\n",
      "GradientBoostingRegressor(alpha=0.9, ccp_alpha=0.0, criterion='friedman_mse',\n",
      "                          init=None, learning_rate=0.03, loss='ls', max_depth=3,\n",
      "                          max_features=None, max_leaf_nodes=None,\n",
      "                          min_impurity_decrease=0.0, min_impurity_split=None,\n",
      "                          min_samples_leaf=1, min_samples_split=2,\n",
      "                          min_weight_fraction_leaf=0.0, n_estimators=2000,\n",
      "                          n_iter_no_change=None, presort='deprecated',\n",
      "                          random_state=None, subsample=1.0, tol=0.0001,\n",
      "                          validation_fraction=0.1, verbose=0, warm_start=False)\n"
     ]
    }
   ],
   "source": [
    "# Authored by Supriya\n",
    "\n",
    "gbr = GradientBoostingRegressor()\n",
    "\n",
    "param_grid = {\n",
    "    \"n_estimators\": [2000],\n",
    "    \"max_depth\": [3],\n",
    "    'learning_rate':np.arange(0.03,0.05,0.01)\n",
    "    }\n",
    "\n",
    "gbrr=GridSearchCV(gbr,param_grid,cv=3,n_jobs=-1,verbose=2)\n",
    "\n",
    "if fit:\n",
    "    gbrr.fit(X,y)\n",
    "    y_pred = gbrr.predict(X_test)\n",
    "    prediction_stats(np.exp(y_test),np.exp(y_pred))\n",
    "    output_all['gbrr'] = np.exp(y_pred)\n",
    "    print(gbrr.best_estimator_)\n"
   ]
  },
  {
   "cell_type": "code",
   "execution_count": 123,
   "metadata": {},
   "outputs": [
    {
     "name": "stdout",
     "output_type": "stream",
     "text": [
      "Fitting 3 folds for each of 32 candidates, totalling 96 fits\n"
     ]
    },
    {
     "name": "stderr",
     "output_type": "stream",
     "text": [
      "[Parallel(n_jobs=-1)]: Using backend LokyBackend with 8 concurrent workers.\n",
      "[Parallel(n_jobs=-1)]: Done  25 tasks      | elapsed:    3.1s\n",
      "[Parallel(n_jobs=-1)]: Done  96 out of  96 | elapsed:    5.2s finished\n"
     ]
    },
    {
     "name": "stdout",
     "output_type": "stream",
     "text": [
      "Fitting 3 folds for each of 792 candidates, totalling 2376 fits\n"
     ]
    },
    {
     "name": "stderr",
     "output_type": "stream",
     "text": [
      "[Parallel(n_jobs=-1)]: Using backend LokyBackend with 8 concurrent workers.\n",
      "[Parallel(n_jobs=-1)]: Done  25 tasks      | elapsed:    2.3s\n",
      "[Parallel(n_jobs=-1)]: Done 672 tasks      | elapsed:    5.7s\n",
      "[Parallel(n_jobs=-1)]: Done 2289 tasks      | elapsed:   14.3s\n",
      "[Parallel(n_jobs=-1)]: Done 2376 out of 2376 | elapsed:   14.8s finished\n"
     ]
    },
    {
     "name": "stdout",
     "output_type": "stream",
     "text": [
      "Fitting 3 folds for each of 72 candidates, totalling 216 fits\n"
     ]
    },
    {
     "name": "stderr",
     "output_type": "stream",
     "text": [
      "[Parallel(n_jobs=-1)]: Using backend LokyBackend with 8 concurrent workers.\n",
      "[Parallel(n_jobs=-1)]: Done  25 tasks      | elapsed:    5.9s\n",
      "[Parallel(n_jobs=-1)]: Done 146 tasks      | elapsed:   23.9s\n",
      "[Parallel(n_jobs=-1)]: Done 216 out of 216 | elapsed:   36.7s finished\n"
     ]
    },
    {
     "name": "stdout",
     "output_type": "stream",
     "text": [
      "Fitting 3 folds for each of 3 candidates, totalling 9 fits\n"
     ]
    },
    {
     "name": "stderr",
     "output_type": "stream",
     "text": [
      "[Parallel(n_jobs=-1)]: Using backend LokyBackend with 8 concurrent workers.\n",
      "[Parallel(n_jobs=-1)]: Done   4 out of   9 | elapsed:   31.2s remaining:   38.9s\n",
      "[Parallel(n_jobs=-1)]: Done   9 out of   9 | elapsed:   45.8s remaining:    0.0s\n",
      "[Parallel(n_jobs=-1)]: Done   9 out of   9 | elapsed:   45.8s finished\n"
     ]
    },
    {
     "name": "stdout",
     "output_type": "stream",
     "text": [
      "Fitting 3 folds for each of 12 candidates, totalling 36 fits\n"
     ]
    },
    {
     "name": "stderr",
     "output_type": "stream",
     "text": [
      "[Parallel(n_jobs=-1)]: Using backend LokyBackend with 8 concurrent workers.\n",
      "[Parallel(n_jobs=-1)]: Done  36 out of  36 | elapsed:   53.3s finished\n"
     ]
    },
    {
     "name": "stdout",
     "output_type": "stream",
     "text": [
      "Mean Absolute Error: 12526.027892734135\n",
      "Mean Squared Error: 462552664.5476197\n",
      "Root Mean Squared Error: 21507.037558613683\n",
      "Mean Absolute Percentage Error: 7.66381272120101\n"
     ]
    }
   ],
   "source": [
    "# Authored by Keerthi\n",
    "\n",
    "vreg = VotingRegressor([('lasso', lasso_regressor), ('ridge', ridge_regressor),('svrr', svrr),('gbrr',gbrr),('xgb',xgbr)])\n",
    "vreg.fit(X, y)\n",
    "\n",
    "y_pred = vreg.predict(X_test)\n",
    "\n",
    "output_all['voting'] = np.exp(y_pred)\n",
    "prediction_stats(np.exp(y_test),np.exp(y_pred))\n"
   ]
  },
  {
   "cell_type": "code",
   "execution_count": 119,
   "metadata": {},
   "outputs": [],
   "source": [
    "# Authored by Gandhar\n",
    "\n",
    "from sklearn.metrics import r2_score\n",
    "\n",
    "print (\"Accuracy train : %.4g\" % metrics.r2_score(y, y_pred_train))\n",
    "print (\"Accuracy test : %.4g\" % metrics.r2_score(y_test, y_pred_test))\n",
    "\n",
    "\n",
    "# xgb_coeffs = pd.DataFrame({ 'coeffs': xgbr.best_estimator_.feature_importances_,\n",
    "#              'cols': X.columns})\n",
    "# xgb_coeffs[xgb_coeffs['coeffs'] ==0 ].cols.tolist()\n",
    "\n",
    "# xgb_coeffs = pd.DataFrame({ 'coeffs': xgbr.best_estimator_.feature_importances_,\n",
    "#              'cols': X.columns})\n",
    "# xgb_coeffs.sort_values(by='coeffs',ascending=False)"
   ]
  },
  {
   "cell_type": "code",
   "execution_count": null,
   "metadata": {},
   "outputs": [],
   "source": [
    "\n",
    "1\n",
    "2\n",
    "3\n",
    "4\n",
    "5\n",
    "6\n",
    "7\n",
    "8\n",
    "9\n",
    "10\n",
    "11\n",
    "12\n",
    "13\n",
    "14\n",
    "15\n",
    "16\n",
    "17\n",
    "18\n",
    "df[[]]"
   ]
  },
  {
   "cell_type": "code",
   "execution_count": 120,
   "metadata": {},
   "outputs": [],
   "source": [
    "# Authored by Bruce\n",
    "\n",
    "# lasso_coeffs = pd.DataFrame({ 'coeffs': lasso_regressor.best_estimator_.coef_,\n",
    "#              'cols': X.columns})\n",
    "\n",
    "# lasso_coeffs[lasso_coeffs['coeffs']==0].cols.to_list()\n",
    "\n",
    "# ridge_coeffs = pd.DataFrame({ 'coeffs': ridge_regressor.best_estimator_.coef_,\n",
    "#              'cols': X.columns})\n",
    "\n",
    "# ridge_coeffs[ridge_coeffs['coeffs']==0].cols.to_list()\n",
    "\n",
    "# ridge_coeffs[ridge_coeffs['coeffs']==0].cols.to_list()"
   ]
  },
  {
   "cell_type": "code",
   "execution_count": null,
   "metadata": {},
   "outputs": [],
   "source": []
  }
 ],
 "metadata": {
  "kernelspec": {
   "display_name": "Python 3",
   "language": "python",
   "name": "python3"
  },
  "language_info": {
   "codemirror_mode": {
    "name": "ipython",
    "version": 3
   },
   "file_extension": ".py",
   "mimetype": "text/x-python",
   "name": "python",
   "nbconvert_exporter": "python",
   "pygments_lexer": "ipython3",
   "version": "3.7.4"
  }
 },
 "nbformat": 4,
 "nbformat_minor": 2
}
